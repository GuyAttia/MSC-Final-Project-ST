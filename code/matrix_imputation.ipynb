{
 "cells": [
  {
   "cell_type": "code",
   "execution_count": 1,
   "id": "_YT6uCnIMr1n",
   "metadata": {
    "colab": {
     "base_uri": "https://localhost:8080/"
    },
    "executionInfo": {
     "elapsed": 1858,
     "status": "ok",
     "timestamp": 1650775631785,
     "user": {
      "displayName": "אלון מוזס",
      "userId": "05806795576714085880"
     },
     "user_tz": -180
    },
    "id": "_YT6uCnIMr1n",
    "outputId": "f962a45f-9355-480a-e77a-56879514c51e"
   },
   "outputs": [],
   "source": [
    "# from google.colab import drive\n",
    "# drive.mount('/content/drive')"
   ]
  },
  {
   "cell_type": "code",
   "execution_count": 2,
   "id": "tcs8oGDuNuqG",
   "metadata": {
    "colab": {
     "base_uri": "https://localhost:8080/"
    },
    "executionInfo": {
     "elapsed": 313,
     "status": "ok",
     "timestamp": 1650775637245,
     "user": {
      "displayName": "אלון מוזס",
      "userId": "05806795576714085880"
     },
     "user_tz": -180
    },
    "id": "tcs8oGDuNuqG",
    "outputId": "2a36977c-4faa-47c0-c48f-747a1b5707b6"
   },
   "outputs": [],
   "source": [
    "# %cd '/content/drive/My Drive/Studies 2/Year 2/Final Project/project_git_repo/code'"
   ]
  },
  {
   "cell_type": "code",
   "execution_count": 3,
   "id": "mMpZ1caRpJ6t",
   "metadata": {
    "executionInfo": {
     "elapsed": 1,
     "status": "ok",
     "timestamp": 1650775638474,
     "user": {
      "displayName": "אלון מוזס",
      "userId": "05806795576714085880"
     },
     "user_tz": -180
    },
    "id": "mMpZ1caRpJ6t"
   },
   "outputs": [],
   "source": [
    "# !pip install scanpy\n",
    "# !pip install stlearn \n",
    "# !pip install matplotlib==3.4.3\n",
    "# !pip install preprocessing"
   ]
  },
  {
   "cell_type": "code",
   "execution_count": 4,
   "id": "dfd43109-9242-4698-bd56-622fcbadb1a4",
   "metadata": {
    "colab": {
     "base_uri": "https://localhost:8080/"
    },
    "executionInfo": {
     "elapsed": 646,
     "status": "ok",
     "timestamp": 1650776138903,
     "user": {
      "displayName": "אלון מוזס",
      "userId": "05806795576714085880"
     },
     "user_tz": -180
    },
    "id": "dfd43109-9242-4698-bd56-622fcbadb1a4",
    "outputId": "3b3088a3-f642-4c87-c283-b5cb8419f620"
   },
   "outputs": [
    {
     "name": "stderr",
     "output_type": "stream",
     "text": [
      "C:\\Users\\alon2\\anaconda3\\envs\\FPST\\lib\\site-packages\\statsmodels\\tsa\\base\\tsa_model.py:7: FutureWarning: pandas.Int64Index is deprecated and will be removed from pandas in a future version. Use pandas.Index with the appropriate dtype instead.\n",
      "  from pandas import (to_datetime, Int64Index, DatetimeIndex, Period,\n",
      "C:\\Users\\alon2\\anaconda3\\envs\\FPST\\lib\\site-packages\\statsmodels\\tsa\\base\\tsa_model.py:7: FutureWarning: pandas.Float64Index is deprecated and will be removed from pandas in a future version. Use pandas.Index with the appropriate dtype instead.\n",
      "  from pandas import (to_datetime, Int64Index, DatetimeIndex, Period,\n"
     ]
    }
   ],
   "source": [
    "%load_ext autoreload\n",
    "%autoreload 2\n",
    "from load_data import Data\n",
    "from train import engine\n",
    "import stlearn as st\n",
    "import numpy as np\n",
    "import torch\n",
    "from torch.utils.data import TensorDataset\n",
    "import os\n",
    "from sklearn.model_selection import train_test_split\n",
    "import seaborn as sns\n",
    "\n",
    "import matplotlib.pyplot as plt\n",
    "plt.rcParams[\"figure.figsize\"] = [7.50, 3.50]\n",
    "plt.rcParams[\"figure.autolayout\"] = True"
   ]
  },
  {
   "cell_type": "markdown",
   "id": "07e80e7f-aede-4796-aeae-ef4321d56bb6",
   "metadata": {
    "id": "07e80e7f-aede-4796-aeae-ef4321d56bb6"
   },
   "source": [
    "# Load Visium Data with stlearn"
   ]
  },
  {
   "cell_type": "code",
   "execution_count": 5,
   "id": "5bc6f566-310d-403e-a204-bdf56118abff",
   "metadata": {
    "executionInfo": {
     "elapsed": 248,
     "status": "ok",
     "timestamp": 1650775649289,
     "user": {
      "displayName": "אלון מוזס",
      "userId": "05806795576714085880"
     },
     "user_tz": -180
    },
    "id": "5bc6f566-310d-403e-a204-bdf56118abff"
   },
   "outputs": [],
   "source": [
    "dataset_name = 'data/V1_Human_Lymph_Node'"
   ]
  },
  {
   "cell_type": "code",
   "execution_count": 6,
   "id": "a5ca8c07-384f-4cdf-9452-b37f4f7cc951",
   "metadata": {},
   "outputs": [
    {
     "name": "stderr",
     "output_type": "stream",
     "text": [
      "C:\\Users\\alon2\\anaconda3\\envs\\FPST\\lib\\site-packages\\anndata\\_core\\anndata.py:1830: UserWarning: Variable names are not unique. To make them unique, call `.var_names_make_unique`.\n",
      "  utils.warn_names_duplicates(\"var\")\n"
     ]
    },
    {
     "data": {
      "text/plain": [
       "AnnData object with n_obs × n_vars = 4035 × 36601\n",
       "    obs: 'in_tissue', 'array_row', 'array_col', 'imagecol', 'imagerow'\n",
       "    var: 'gene_ids', 'feature_types', 'genome'\n",
       "    uns: 'spatial'\n",
       "    obsm: 'spatial'"
      ]
     },
     "execution_count": 6,
     "metadata": {},
     "output_type": "execute_result"
    }
   ],
   "source": [
    "data = st.Read10X(dataset_name)\n",
    "data"
   ]
  },
  {
   "cell_type": "code",
   "execution_count": 7,
   "id": "37beddc5-fbe3-4b4d-a58a-c212d72ca8e9",
   "metadata": {},
   "outputs": [],
   "source": [
    "X = data.X.toarray()"
   ]
  },
  {
   "cell_type": "code",
   "execution_count": 8,
   "id": "0ea463d8-53c7-457b-a1e1-4a2fab0c6c60",
   "metadata": {},
   "outputs": [
    {
     "data": {
      "image/png": "[encoded data removed]",
      "text/plain": [
       "<Figure size 864x432 with 1 Axes>"
      ]
     },
     "metadata": {
      "needs_background": "light"
     },
     "output_type": "display_data"
    }
   ],
   "source": [
    "bin_count, bin_val = np.histogram(X, bins=25)\n",
    "plt.figure(figsize=(12, 6))\n",
    "plt.title('gene reads histogram')\n",
    "plt.ylabel('count')\n",
    "plt.xlabel('# reads')\n",
    "sns.barplot(x=bin_val[:-1].astype(int), y=bin_count)\n",
    "plt.yscale('log')\n",
    "plt.xticks(rotation = 45)\n",
    "plt.show()"
   ]
  },
  {
   "cell_type": "code",
   "execution_count": 9,
   "id": "b657ca7e-7ed0-4a75-83f3-7dfd50119066",
   "metadata": {},
   "outputs": [
    {
     "data": {
      "image/png": "[encoded data removed]",
      "text/plain": [
       "<Figure size 864x432 with 1 Axes>"
      ]
     },
     "metadata": {
      "needs_background": "light"
     },
     "output_type": "display_data"
    }
   ],
   "source": [
    "bin_count, bin_val = np.histogram(X[X < 100], bins=25)\n",
    "plt.figure(figsize=(12, 6))\n",
    "plt.title('gene reads histogram - lower range (< 100 counts)')\n",
    "plt.ylabel('count')\n",
    "plt.xlabel('# reads')\n",
    "sns.barplot(x=bin_val[:-1].astype(int), y=bin_count)\n",
    "plt.yscale('log')\n",
    "plt.xticks(rotation = 45)\n",
    "plt.show()"
   ]
  },
  {
   "cell_type": "code",
   "execution_count": 10,
   "id": "d3bb4eb9-9529-436f-af7d-e17f68fe3e2b",
   "metadata": {},
   "outputs": [],
   "source": [
    "bin_count, bin_val = np.histogram(X[(X < 100) & (X > 0)], bins=25)\n",
    "\n",
    "# The final bin will include the entire range, adding it\n",
    "bin_count = np.hstack([bin_count, np.zeros(2)])\n",
    "bin_val = np.hstack([bin_val, np.ones(1) * np.inf])\n",
    "\n",
    "X_flat = X.flatten()\n",
    "all_indices = np.arange(X_flat.shape[0])\n",
    "nonzero_indices = np.where(X_flat)[0]"
   ]
  },
  {
   "cell_type": "code",
   "execution_count": 11,
   "id": "ad8d3c77-75d0-46e0-b347-10d0808d9af7",
   "metadata": {},
   "outputs": [
    {
     "name": "stdout",
     "output_type": "stream",
     "text": [
      "dropped nonzero indices: 2371710\n",
      "drop ratio (nonzero): 0.10\n",
      "drop ratio (original): 0.02\n",
      "Non zero values - original n 23717106, post-drop n 21345396\n"
     ]
    }
   ],
   "source": [
    "DESIRED_DROPOFF_RATIO = 0.1\n",
    "\n",
    "dropped_indices = np.random.choice(nonzero_indices, \n",
    "                                   size=int(nonzero_indices.shape[0] * DESIRED_DROPOFF_RATIO),\n",
    "                                   replace=False)\n",
    "\n",
    "print(f'dropped nonzero indices: {dropped_indices.shape[0]}')\n",
    "print(f'drop ratio (nonzero): {dropped_indices.shape[0] / nonzero_indices.shape[0]:.2f}')\n",
    "print(f'drop ratio (original): {dropped_indices.shape[0] / X_flat.shape[0]:.2f}')\n",
    "\n",
    "\n",
    "X_dropped = X.copy()\n",
    "X_dropped[np.unravel_index(dropped_indices, X.shape)] = 0\n",
    "X_dropped\n",
    "\n",
    "print(f'Non zero values - original n {(X > 0).sum()}, post-drop n {(X_dropped > 0).sum()}')"
   ]
  },
  {
   "cell_type": "code",
   "execution_count": 12,
   "id": "0c85cc02-f42a-4f61-a240-80daad30c0f2",
   "metadata": {},
   "outputs": [],
   "source": [
    "# col_idx = np.tile(np.arange(X.shape[1]), (X.shape[0]))\n",
    "# row_idx = np.repeat(np.arange(X.shape[0]), (X.shape[1]))\n",
    "# vals = X.flatten()\n",
    "\n",
    "# # print(col_idx.shape, row_idx.shape, vals.shape)\n",
    "# pair_array = np.vstack((col_idx, row_idx, vals)).T"
   ]
  },
  {
   "cell_type": "code",
   "execution_count": 13,
   "id": "d75ec895-66df-4d59-9877-414f7af60a8c",
   "metadata": {},
   "outputs": [],
   "source": [
    "# test_idx = 1008483\n",
    "# print(col_idx[test_idx])\n",
    "# print(row_idx[test_idx])\n",
    "# print(pair_array[test_idx])\n",
    "# print(X[row_idx[test_idx], col_idx[test_idx]])"
   ]
  },
  {
   "cell_type": "code",
   "execution_count": 14,
   "id": "7f86b85e-3cc3-45b3-b7fb-cd4e8b5facf7",
   "metadata": {},
   "outputs": [],
   "source": [
    "# Train set will be made of all the non-dropped indices \n",
    "train_indices = all_indices[~np.isin(all_indices, dropped_indices)]\n",
    "\n",
    "# The dropped indices will be used as validation and test sets\n",
    "validation_indices, test_indices = train_test_split(dropped_indices, train_size=0.1)\n",
    "\n",
    "# Check that train+val+test give the otiginal shape\n",
    "assert train_indices.shape[0] + validation_indices.shape[0] + test_indices.shape[0] == X_flat.shape[0]"
   ]
  },
  {
   "cell_type": "code",
   "execution_count": 17,
   "id": "54a60c1a-12d0-4e5c-842e-ed929babf173",
   "metadata": {},
   "outputs": [
    {
     "name": "stdout",
     "output_type": "stream",
     "text": [
      "V1_Human_Lymph_Node\n"
     ]
    },
    {
     "name": "stderr",
     "output_type": "stream",
     "text": [
      "C:\\Users\\alon2\\anaconda3\\envs\\FPST\\lib\\site-packages\\anndata\\_core\\anndata.py:1830: UserWarning: Variable names are not unique. To make them unique, call `.var_names_make_unique`.\n",
      "  utils.warn_names_duplicates(\"var\")\n"
     ]
    }
   ],
   "source": [
    "BATCH_SIZE = 1024\n",
    "NUM_WORKERS = 2\n",
    "DEVICE = torch.device(\"cuda\") if torch.cuda.is_available() else torch.device(\"cpu\")\n",
    "dataset_name = 'V1_Human_Lymph_Node'\n",
    "# train_array = pair_array[train_indices]\n",
    "dataset = Data(dataset=dataset_name, batch_size = BATCH_SIZE, num_workers = NUM_WORKERS, device = DEVICE)\n",
    "dataset.set_dataloaders()"
   ]
  },
  {
   "cell_type": "code",
   "execution_count": null,
   "id": "2f6690a3-f6b3-4799-85d4-e52a081d5e32",
   "metadata": {
    "colab": {
     "base_uri": "https://localhost:8080/"
    },
    "executionInfo": {
     "elapsed": 7280,
     "status": "ok",
     "timestamp": 1650775656920,
     "user": {
      "displayName": "אלון מוזס",
      "userId": "05806795576714085880"
     },
     "user_tz": -180
    },
    "id": "2f6690a3-f6b3-4799-85d4-e52a081d5e32",
    "outputId": "d2847314-a5ad-4880-cfeb-e3832be5fe88"
   },
   "outputs": [],
   "source": []
  },
  {
   "cell_type": "code",
   "execution_count": 18,
   "id": "6c3590fd-d84d-4ef5-a9ff-b3cdb84e6b3f",
   "metadata": {
    "executionInfo": {
     "elapsed": 14,
     "status": "ok",
     "timestamp": 1650775656921,
     "user": {
      "displayName": "אלון מוזס",
      "userId": "05806795576714085880"
     },
     "user_tz": -180
    },
    "id": "6c3590fd-d84d-4ef5-a9ff-b3cdb84e6b3f"
   },
   "outputs": [],
   "source": [
    "number_of_genes = data.n_vars\n",
    "number_of_spots = data.n_obs"
   ]
  },
  {
   "cell_type": "markdown",
   "id": "f9ef5008-ff89-426a-8dd5-c95cee69743a",
   "metadata": {
    "id": "f9ef5008-ff89-426a-8dd5-c95cee69743a"
   },
   "source": [
    "# NMF"
   ]
  },
  {
   "cell_type": "code",
   "execution_count": 19,
   "id": "09c6318d-9e2c-4d87-889a-7815d05572d9",
   "metadata": {
    "executionInfo": {
     "elapsed": 5,
     "status": "ok",
     "timestamp": 1650733283011,
     "user": {
      "displayName": "אלון מוזס",
      "userId": "05806795576714085880"
     },
     "user_tz": -180
    },
    "id": "09c6318d-9e2c-4d87-889a-7815d05572d9"
   },
   "outputs": [],
   "source": [
    "from models import NMF"
   ]
  },
  {
   "cell_type": "code",
   "execution_count": 20,
   "id": "ad6d9c53-3ca7-4cea-ab28-8dc66fa1c956",
   "metadata": {
    "executionInfo": {
     "elapsed": 361,
     "status": "ok",
     "timestamp": 1650733286465,
     "user": {
      "displayName": "אלון מוזס",
      "userId": "05806795576714085880"
     },
     "user_tz": -180
    },
    "id": "ad6d9c53-3ca7-4cea-ab28-8dc66fa1c956"
   },
   "outputs": [],
   "source": [
    "params = {\n",
    "    'learning_rate': 0.001,\n",
    "    'optimizer': \"RMSprop\",\n",
    "    'latent_dim': 20,\n",
    "    'batch_size': 512\n",
    "}"
   ]
  },
  {
   "cell_type": "code",
   "execution_count": 21,
   "id": "a4179097-1181-44bb-8b3c-62363f101359",
   "metadata": {
    "executionInfo": {
     "elapsed": 2,
     "status": "ok",
     "timestamp": 1650733286465,
     "user": {
      "displayName": "אלון מוזס",
      "userId": "05806795576714085880"
     },
     "user_tz": -180
    },
    "id": "a4179097-1181-44bb-8b3c-62363f101359"
   },
   "outputs": [
    {
     "ename": "NameError",
     "evalue": "name 'device' is not defined",
     "output_type": "error",
     "traceback": [
      "\u001b[1;31m---------------------------------------------------------------------------\u001b[0m",
      "\u001b[1;31mNameError\u001b[0m                                 Traceback (most recent call last)",
      "Input \u001b[1;32mIn [21]\u001b[0m, in \u001b[0;36m<cell line: 1>\u001b[1;34m()\u001b[0m\n\u001b[1;32m----> 1\u001b[0m nmf_model \u001b[38;5;241m=\u001b[39m NMF(number_of_genes, number_of_spots, params, \u001b[43mdevice\u001b[49m)\n",
      "\u001b[1;31mNameError\u001b[0m: name 'device' is not defined"
     ]
    }
   ],
   "source": [
    "nmf_model = NMF(number_of_genes, number_of_spots, params, DEVICE)"
   ]
  },
  {
   "cell_type": "code",
   "execution_count": null,
   "id": "4272b6df-f17f-4e22-83b0-6535857d4fb2",
   "metadata": {
    "colab": {
     "base_uri": "https://localhost:8080/"
    },
    "executionInfo": {
     "elapsed": 369,
     "status": "ok",
     "timestamp": 1650733289302,
     "user": {
      "displayName": "אלון מוזס",
      "userId": "05806795576714085880"
     },
     "user_tz": -180
    },
    "id": "4272b6df-f17f-4e22-83b0-6535857d4fb2",
    "outputId": "2c7c9905-95e6-4bc6-b56a-98db2baf02a3"
   },
   "outputs": [],
   "source": [
    "train_nmf = engine(model = nmf_model,\n",
    "                    model_name = 'NMF',\n",
    "                    params = params,\n",
    "                    epochs = 100,\n",
    "                    dl_train = dataset.dl_train,\n",
    "                    dl_test = dataset.dl_test,\n",
    "                    device = DEVICE)"
   ]
  },
  {
   "cell_type": "code",
   "execution_count": null,
   "id": "1f4fb290-155c-4830-a977-fecd46ec997f",
   "metadata": {
    "colab": {
     "base_uri": "https://localhost:8080/"
    },
    "executionInfo": {
     "elapsed": 5278228,
     "status": "ok",
     "timestamp": 1650738569267,
     "user": {
      "displayName": "אלון מוזס",
      "userId": "05806795576714085880"
     },
     "user_tz": -180
    },
    "id": "1f4fb290-155c-4830-a977-fecd46ec997f",
    "outputId": "66953eee-a91b-46de-8946-d0bc075a3213"
   },
   "outputs": [],
   "source": [
    "nmf_train_losses, nmf_test_losses = train_nmf.execute()"
   ]
  },
  {
   "cell_type": "code",
   "execution_count": null,
   "id": "e63e2de4-eda5-4deb-b600-73d0cc985156",
   "metadata": {
    "colab": {
     "base_uri": "https://localhost:8080/",
     "height": 278
    },
    "executionInfo": {
     "elapsed": 414,
     "status": "ok",
     "timestamp": 1650738570452,
     "user": {
      "displayName": "אלון מוזס",
      "userId": "05806795576714085880"
     },
     "user_tz": -180
    },
    "id": "e63e2de4-eda5-4deb-b600-73d0cc985156",
    "outputId": "54ffb5c8-b8b6-4fc5-8529-fff78da18db2"
   },
   "outputs": [],
   "source": [
    "plt.title(\"RMSE loss\")\n",
    "plt.plot(np.sqrt(nmf_train_losses), color=\"red\")\n",
    "plt.plot(np.sqrt(nmf_test_losses), color=\"blue\")"
   ]
  },
  {
   "cell_type": "markdown",
   "id": "b71a2845-ddde-4c54-b8c1-1932119dc5bb",
   "metadata": {
    "id": "b71a2845-ddde-4c54-b8c1-1932119dc5bb"
   },
   "source": [
    "# NN- MF"
   ]
  },
  {
   "cell_type": "code",
   "execution_count": null,
   "id": "5788d2b6-dbd7-4ac1-8b20-91a04987592c",
   "metadata": {
    "executionInfo": {
     "elapsed": 256,
     "status": "ok",
     "timestamp": 1650772909317,
     "user": {
      "displayName": "אלון מוזס",
      "userId": "05806795576714085880"
     },
     "user_tz": -180
    },
    "id": "5788d2b6-dbd7-4ac1-8b20-91a04987592c"
   },
   "outputs": [],
   "source": [
    "%load_ext autoreload\n",
    "%autoreload 2\n",
    "from models import NNMF\n",
    "from torch import nn"
   ]
  },
  {
   "cell_type": "markdown",
   "id": "46022d47-126a-4b7c-8178-63a3902477d0",
   "metadata": {
    "id": "46022d47-126a-4b7c-8178-63a3902477d0"
   },
   "source": [
    "## 1 Linear Layer"
   ]
  },
  {
   "cell_type": "code",
   "execution_count": null,
   "id": "f7bb1525-445e-487b-b540-069a7c06584d",
   "metadata": {
    "executionInfo": {
     "elapsed": 260,
     "status": "ok",
     "timestamp": 1650772910699,
     "user": {
      "displayName": "אלון מוזס",
      "userId": "05806795576714085880"
     },
     "user_tz": -180
    },
    "id": "f7bb1525-445e-487b-b540-069a7c06584d"
   },
   "outputs": [],
   "source": [
    "params = {\n",
    "    'learning_rate': 0.001,\n",
    "    'optimizer': \"Adam\",\n",
    "    'latent_dim': 256,\n",
    "    'batch_size': 512,\n",
    "    'layers_sizes': [(256,10)]\n",
    "}"
   ]
  },
  {
   "cell_type": "code",
   "execution_count": null,
   "id": "a14b35aa-6115-4224-b495-e944546444f0",
   "metadata": {
    "executionInfo": {
     "elapsed": 257,
     "status": "ok",
     "timestamp": 1650772913207,
     "user": {
      "displayName": "אלון מוזס",
      "userId": "05806795576714085880"
     },
     "user_tz": -180
    },
    "id": "a14b35aa-6115-4224-b495-e944546444f0"
   },
   "outputs": [],
   "source": [
    "nnmf_model = NNMF(number_of_genes, number_of_spots, params, 'cpu')"
   ]
  },
  {
   "cell_type": "code",
   "execution_count": null,
   "id": "77e614b5-dd80-4c46-bca0-7fbb92eb6e08",
   "metadata": {
    "colab": {
     "base_uri": "https://localhost:8080/"
    },
    "executionInfo": {
     "elapsed": 2,
     "status": "ok",
     "timestamp": 1650772913564,
     "user": {
      "displayName": "אלון מוזס",
      "userId": "05806795576714085880"
     },
     "user_tz": -180
    },
    "id": "77e614b5-dd80-4c46-bca0-7fbb92eb6e08",
    "outputId": "b29baba6-c738-4a15-a844-51c22ecbb57c"
   },
   "outputs": [],
   "source": [
    "train_nnmf = engine(model = nnmf_model,\n",
    "                    model_name = 'NNMF',\n",
    "                    params = params,\n",
    "                    epochs = 100,\n",
    "                    dl_train = train_dataloader,\n",
    "                    dl_test = val_dataloader,\n",
    "                    device = 'cpu')"
   ]
  },
  {
   "cell_type": "code",
   "execution_count": null,
   "id": "455eda8f-4964-409c-907e-cea174b6850f",
   "metadata": {
    "colab": {
     "base_uri": "https://localhost:8080/",
     "height": 504
    },
    "executionInfo": {
     "elapsed": 718483,
     "status": "error",
     "timestamp": 1650773633019,
     "user": {
      "displayName": "אלון מוזס",
      "userId": "05806795576714085880"
     },
     "user_tz": -180
    },
    "id": "455eda8f-4964-409c-907e-cea174b6850f",
    "outputId": "d2b7f8dc-6985-4e8e-a41e-9f5cdd0317c9"
   },
   "outputs": [],
   "source": [
    "nnmf_utrain_losses, nnmf_test_losses = train_nnmf.execute()"
   ]
  },
  {
   "cell_type": "markdown",
   "id": "90d3a643-5592-482e-b767-2ba4372d1570",
   "metadata": {
    "id": "90d3a643-5592-482e-b767-2ba4372d1570"
   },
   "source": [
    "## 3 Linear Layers"
   ]
  },
  {
   "cell_type": "code",
   "execution_count": null,
   "id": "a0522c0e-a94e-4f94-8e3b-3aa6288a2020",
   "metadata": {
    "executionInfo": {
     "elapsed": 9,
     "status": "aborted",
     "timestamp": 1650745741435,
     "user": {
      "displayName": "אלון מוזס",
      "userId": "05806795576714085880"
     },
     "user_tz": -180
    },
    "id": "a0522c0e-a94e-4f94-8e3b-3aa6288a2020"
   },
   "outputs": [],
   "source": [
    "params = {\n",
    "    'learning_rate': 0.001,\n",
    "    'optimizer': \"Adam\",\n",
    "    'latent_dim': 20,\n",
    "    'batch_size': 512,\n",
    "    'layers_sizes': [(40,100), (100,50), (50,10)]\n",
    "}"
   ]
  },
  {
   "cell_type": "code",
   "execution_count": null,
   "id": "51d240ad-135a-4dd4-b8c1-5335531d3627",
   "metadata": {
    "executionInfo": {
     "elapsed": 12,
     "status": "aborted",
     "timestamp": 1650745741438,
     "user": {
      "displayName": "אלון מוזס",
      "userId": "05806795576714085880"
     },
     "user_tz": -180
    },
    "id": "51d240ad-135a-4dd4-b8c1-5335531d3627"
   },
   "outputs": [],
   "source": [
    "nnmf_model = NNMF(number_of_genes, number_of_spots, params, 'cuda')"
   ]
  },
  {
   "cell_type": "code",
   "execution_count": null,
   "id": "e8ec57ba-5b20-4cae-be9e-4ce05738007d",
   "metadata": {
    "executionInfo": {
     "elapsed": 13,
     "status": "aborted",
     "timestamp": 1650745741439,
     "user": {
      "displayName": "אלון מוזס",
      "userId": "05806795576714085880"
     },
     "user_tz": -180
    },
    "id": "e8ec57ba-5b20-4cae-be9e-4ce05738007d"
   },
   "outputs": [],
   "source": [
    "train_nnmf = engine(model = nnmf_model,\n",
    "                   model_name = 'NNMF',\n",
    "                    params = params,\n",
    "                    epochs = 100,\n",
    "                    dl_train = dataset.dl_train,\n",
    "                    dl_test = dataset.dl_test,\n",
    "                    device = 'cpu')"
   ]
  },
  {
   "cell_type": "code",
   "execution_count": null,
   "id": "ce0a9b11-b087-4764-9872-da2299ac2c82",
   "metadata": {
    "executionInfo": {
     "elapsed": 13,
     "status": "aborted",
     "timestamp": 1650745741439,
     "user": {
      "displayName": "אלון מוזס",
      "userId": "05806795576714085880"
     },
     "user_tz": -180
    },
    "id": "ce0a9b11-b087-4764-9872-da2299ac2c82"
   },
   "outputs": [],
   "source": [
    "nnmf_train_losses, nnmf_test_losses = train_nnmf.execute()"
   ]
  },
  {
   "cell_type": "code",
   "execution_count": null,
   "id": "b26389bb-8d48-4044-9b60-aa4f89cf087f",
   "metadata": {
    "executionInfo": {
     "elapsed": 8,
     "status": "aborted",
     "timestamp": 1650738570693,
     "user": {
      "displayName": "אלון מוזס",
      "userId": "05806795576714085880"
     },
     "user_tz": -180
    },
    "id": "b26389bb-8d48-4044-9b60-aa4f89cf087f"
   },
   "outputs": [],
   "source": []
  },
  {
   "cell_type": "code",
   "execution_count": null,
   "id": "NRG07SoszVN8",
   "metadata": {
    "id": "NRG07SoszVN8"
   },
   "outputs": [],
   "source": []
  },
  {
   "cell_type": "markdown",
   "id": "f2Pr-EfkzWVb",
   "metadata": {
    "id": "f2Pr-EfkzWVb"
   },
   "source": [
    "# NeuMF"
   ]
  },
  {
   "cell_type": "code",
   "execution_count": null,
   "id": "hvVrRIS7zU3N",
   "metadata": {
    "colab": {
     "base_uri": "https://localhost:8080/"
    },
    "executionInfo": {
     "elapsed": 326,
     "status": "ok",
     "timestamp": 1650776143949,
     "user": {
      "displayName": "אלון מוזס",
      "userId": "05806795576714085880"
     },
     "user_tz": -180
    },
    "id": "hvVrRIS7zU3N",
    "outputId": "8d286749-016a-443b-d5f8-1ccccf7a1a10"
   },
   "outputs": [],
   "source": [
    "%load_ext autoreload\n",
    "%autoreload 2\n",
    "from models import NeuMF"
   ]
  },
  {
   "cell_type": "code",
   "execution_count": null,
   "id": "_vsK0Yjbzbws",
   "metadata": {
    "executionInfo": {
     "elapsed": 2,
     "status": "ok",
     "timestamp": 1650776144294,
     "user": {
      "displayName": "אלון מוזס",
      "userId": "05806795576714085880"
     },
     "user_tz": -180
    },
    "id": "_vsK0Yjbzbws"
   },
   "outputs": [],
   "source": [
    "params = {\n",
    "    'learning_rate': 0.001,\n",
    "    'optimizer': \"Adam\",\n",
    "    'latent_dim': 20,\n",
    "    'batch_size': 512,\n",
    "    'layers_sizes': [40, 10]\n",
    "}"
   ]
  },
  {
   "cell_type": "code",
   "execution_count": null,
   "id": "w55_T1ukzfl0",
   "metadata": {
    "executionInfo": {
     "elapsed": 3,
     "status": "ok",
     "timestamp": 1650776144593,
     "user": {
      "displayName": "אלון מוזס",
      "userId": "05806795576714085880"
     },
     "user_tz": -180
    },
    "id": "w55_T1ukzfl0"
   },
   "outputs": [],
   "source": [
    "neumf_model = NeuMF(number_of_genes, number_of_spots, params, 'cpu')"
   ]
  },
  {
   "cell_type": "code",
   "execution_count": null,
   "id": "awNrtOLhzhml",
   "metadata": {
    "colab": {
     "base_uri": "https://localhost:8080/"
    },
    "executionInfo": {
     "elapsed": 2,
     "status": "ok",
     "timestamp": 1650776144593,
     "user": {
      "displayName": "אלון מוזס",
      "userId": "05806795576714085880"
     },
     "user_tz": -180
    },
    "id": "awNrtOLhzhml",
    "outputId": "d0e614fd-a26e-4d35-b1e7-c24ac4f3a5cb"
   },
   "outputs": [],
   "source": [
    "train_neumf = engine(model = neumf_model,\n",
    "                    model_name = 'NeuMF',\n",
    "                    params = params,\n",
    "                    epochs = 5,\n",
    "                    dl_train = dataset.dl_train,\n",
    "                    dl_test = dataset.dl_test,\n",
    "                    device = 'cpu')"
   ]
  },
  {
   "cell_type": "code",
   "execution_count": null,
   "id": "rb-ZAX6pzlbN",
   "metadata": {
    "colab": {
     "base_uri": "https://localhost:8080/"
    },
    "executionInfo": {
     "elapsed": 454367,
     "status": "ok",
     "timestamp": 1650776599299,
     "user": {
      "displayName": "אלון מוזס",
      "userId": "05806795576714085880"
     },
     "user_tz": -180
    },
    "id": "rb-ZAX6pzlbN",
    "outputId": "24e02616-3005-428f-8d23-910939af1dcf"
   },
   "outputs": [],
   "source": [
    "neumf_train_losses, neumf_test_losses = train_neumf.execute()"
   ]
  },
  {
   "cell_type": "code",
   "execution_count": null,
   "id": "lm54VBFH0sTc",
   "metadata": {
    "colab": {
     "base_uri": "https://localhost:8080/",
     "height": 278
    },
    "executionInfo": {
     "elapsed": 882,
     "status": "ok",
     "timestamp": 1650776634597,
     "user": {
      "displayName": "אלון מוזס",
      "userId": "05806795576714085880"
     },
     "user_tz": -180
    },
    "id": "lm54VBFH0sTc",
    "outputId": "ae9a1e2b-40ef-4669-e9f6-c2ae2e83c46a"
   },
   "outputs": [],
   "source": [
    "plt.title(\"RMSE loss- Train\")\n",
    "plt.plot(np.sqrt(neumf_train_losses), color=\"red\")\n",
    "plt.plot(np.sqrt(neumf_test_losses), color=\"blue\")"
   ]
  },
  {
   "cell_type": "code",
   "execution_count": null,
   "id": "Ju85CVx59G7n",
   "metadata": {
    "id": "Ju85CVx59G7n"
   },
   "outputs": [],
   "source": []
  }
 ],
 "metadata": {
  "colab": {
   "collapsed_sections": [],
   "name": "matrix_imputation.ipynb",
   "provenance": []
  },
  "kernelspec": {
   "display_name": "Python [conda env:FPST] *",
   "language": "python",
   "name": "conda-env-FPST-py"
  },
  "language_info": {
   "codemirror_mode": {
    "name": "ipython",
    "version": 3
   },
   "file_extension": ".py",
   "mimetype": "text/x-python",
   "name": "python",
   "nbconvert_exporter": "python",
   "pygments_lexer": "ipython3",
   "version": "3.8.13"
  }
 },
 "nbformat": 4,
 "nbformat_minor": 5
}
