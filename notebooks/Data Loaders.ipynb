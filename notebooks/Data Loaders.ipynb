{
 "cells": [
  {
   "cell_type": "markdown",
   "id": "27d215e3",
   "metadata": {},
   "source": [
    "# Init "
   ]
  },
  {
   "cell_type": "code",
   "execution_count": 1,
   "id": "7dfd46f4",
   "metadata": {
    "ExecuteTime": {
     "end_time": "2022-01-20T14:15:46.866520Z",
     "start_time": "2022-01-20T14:15:37.329988Z"
    },
    "scrolled": true
   },
   "outputs": [],
   "source": [
    "import stlearn as st\n",
    "import scanpy as sc\n",
    "import numpy as np\n",
    "import pandas as pd"
   ]
  },
  {
   "cell_type": "markdown",
   "id": "568aaf13",
   "metadata": {},
   "source": [
    "# AnnData\n",
    "AnnData provides a scalable way of keeping track of data and learned annotations.\n",
    "https://anndata.readthedocs.io/en/stable/index.html\n",
    "\n",
    "<b>Both Scanpy and stLearn uses AnnData as their data objects (but in different ways)</b>"
   ]
  },
  {
   "cell_type": "markdown",
   "id": "f3cbe274",
   "metadata": {},
   "source": [
    "# Scanpy\n",
    "Scanpy using AnnData for their objects, and consists 4 objects:\n",
    "\n",
    "    1) X - A #observations × #variables data matrix (Scipy sparse matrix)\n",
    "    2) obs - Key-indexed one-dimensional observations annotation of length #observations. (Pandas DataFrame)\n",
    "    obs features: ['in_tissue', 'array_row', 'array_col']\n",
    "    3) var - Key-indexed one-dimensional variables annotation of length #variables. (Pandas DataFrame)\n",
    "    var features: ['gene_ids', 'feature_types', 'genome']\n",
    "    4) uns - Key-indexed unstructured annotation. (AnnData.OverloadedDict object)\n",
    "\n",
    "API - https://scanpy.readthedocs.io/en/stable/api.html\n",
    "    \n",
    "![title](https://falexwolf.de/img/scanpy/anndata.svg)"
   ]
  },
  {
   "cell_type": "markdown",
   "id": "36d4b1bf",
   "metadata": {},
   "source": [
    "## Load from Scanpy's datasets"
   ]
  },
  {
   "cell_type": "code",
   "execution_count": 2,
   "id": "22aa2c3e",
   "metadata": {
    "ExecuteTime": {
     "end_time": "2022-01-20T14:15:49.218597Z",
     "start_time": "2022-01-20T14:15:46.868987Z"
    }
   },
   "outputs": [
    {
     "name": "stderr",
     "output_type": "stream",
     "text": [
      "Variable names are not unique. To make them unique, call `.var_names_make_unique`.\n",
      "Variable names are not unique. To make them unique, call `.var_names_make_unique`.\n"
     ]
    },
    {
     "data": {
      "text/plain": [
       "AnnData object with n_obs × n_vars = 4035 × 36601\n",
       "    obs: 'in_tissue', 'array_row', 'array_col'\n",
       "    var: 'gene_ids', 'feature_types', 'genome'\n",
       "    uns: 'spatial'\n",
       "    obsm: 'spatial'"
      ]
     },
     "execution_count": 2,
     "metadata": {},
     "output_type": "execute_result"
    }
   ],
   "source": [
    "# Visium - Processed Visium Spatial Gene Expression data from 10x Genomics.\n",
    "adata = sc.datasets.visium_sge(sample_id=\"V1_Human_Lymph_Node\")\n",
    "uns_copy = adata.uns\n",
    "adata"
   ]
  },
  {
   "cell_type": "markdown",
   "id": "a55fd7ff",
   "metadata": {},
   "source": [
    "## Reading local files \n",
    "** There are lot more options in the API docs"
   ]
  },
  {
   "cell_type": "code",
   "execution_count": null,
   "id": "27c3851b",
   "metadata": {},
   "outputs": [],
   "source": [
    "# 10x-Genomics-formatted visum dataset\n",
    "adata = sc.read_visium(path='', genome=None, *, count_file='filtered_feature_bc_matrix.h5', library_id=None, load_images=True, source_image_path=None)\n",
    "\n",
    "# h5ad-formatted hdf5 file\n",
    "adata = sc.read_h5ad(filename='', backed=None, *, as_sparse=(), as_sparse_fmt=<class 'scipy.sparse.csr.csr_matrix'>, chunk_size=6000)\n",
    "\n",
    "# loom-formatted hdf5 file\n",
    "adata = sc.read_loom(filename='', *, sparse=True, cleanup=False, X_name='spliced', obs_names='CellID', obsm_names=None, var_names='Gene', varm_names=None, dtype='float32', obsm_mapping=mappingproxy({}), varm_mapping=mappingproxy({}), **kwargs)"
   ]
  },
  {
   "cell_type": "markdown",
   "id": "ca663d66",
   "metadata": {},
   "source": [
    "## Generate Scanpy-AnnData object"
   ]
  },
  {
   "cell_type": "code",
   "execution_count": 57,
   "id": "49835544",
   "metadata": {
    "ExecuteTime": {
     "end_time": "2022-01-05T16:52:08.108506Z",
     "start_time": "2022-01-05T16:52:08.097874Z"
    }
   },
   "outputs": [
    {
     "name": "stderr",
     "output_type": "stream",
     "text": [
      "/Users/guyattia/miniconda3/envs/FPST/lib/python3.8/site-packages/anndata/_core/anndata.py:120: ImplicitModificationWarning: Transforming to str index.\n",
      "  warnings.warn(\"Transforming to str index.\", ImplicitModificationWarning)\n"
     ]
    }
   ],
   "source": [
    "# Generate sample data\n",
    "from string import ascii_uppercase\n",
    "n_obs = 1000 # number of observations\n",
    "obs = pd.DataFrame({'time': np.random.choice(['day 1', 'day 2', 'day 4', 'day 8'], n_obs)})\n",
    "var_names = [i*letter for i in range(1, 10) for letter in ascii_uppercase]\n",
    "n_vars = len(var_names)  # number of variables\n",
    "var = pd.DataFrame({'a':[0]*len(var_names)}, index=var_names)  # dataframe for annotating the variables\n",
    "X = np.arange(n_obs*n_vars).reshape(n_obs, n_vars)  # the data matrix of shape n_obs x n_vars\n",
    "\n",
    "# Todo: Build uns ourselfs\n",
    "\n",
    "# Create the AnnData object\n",
    "adata = sc.AnnData(X, obs=obs, var=var, uns=uns_copy, dtype='int32')"
   ]
  },
  {
   "cell_type": "markdown",
   "id": "dcfcb04e",
   "metadata": {},
   "source": [
    "# stLearn\n",
    "stLearn using AnnData for their objects, but stores it in a different way from Scanpy.\n",
    "It consists 4 objects:\n",
    "\n",
    "    1) X - A #observations × #variables data matrix (Scipy sparse matrix)\n",
    "    2) obs - Key-indexed one-dimensional observations annotation of length #observations. (Pandas DataFrame)\n",
    "    obs features: ['in_tissue', 'array_row', 'array_col', 'imagecol', 'imagerow']\n",
    "    3) var - Key-indexed one-dimensional variables annotation of length #variables. (Pandas DataFrame)\n",
    "    var features: ['gene_ids', 'feature_types', 'genome']\n",
    "    4) uns - Key-indexed unstructured annotation. (AnnData.OverloadedDict object)\n",
    "    \n",
    "API - https://stlearn.readthedocs.io/en/latest/api.html#module-stlearn.spatial.clustering"
   ]
  },
  {
   "cell_type": "markdown",
   "id": "6a034d8f",
   "metadata": {},
   "source": [
    "## Transform Scanpy object"
   ]
  },
  {
   "cell_type": "code",
   "execution_count": 55,
   "id": "8e34743a",
   "metadata": {
    "ExecuteTime": {
     "end_time": "2022-01-05T16:40:01.703145Z",
     "start_time": "2022-01-05T16:40:00.366735Z"
    }
   },
   "outputs": [
    {
     "name": "stderr",
     "output_type": "stream",
     "text": [
      "Variable names are not unique. To make them unique, call `.var_names_make_unique`.\n",
      "Variable names are not unique. To make them unique, call `.var_names_make_unique`.\n"
     ]
    },
    {
     "data": {
      "text/plain": [
       "AnnData object with n_obs × n_vars = 3798 × 36601\n",
       "    obs: 'in_tissue', 'array_row', 'array_col', 'imagecol', 'imagerow'\n",
       "    var: 'gene_ids', 'feature_types', 'genome'\n",
       "    uns: 'spatial'\n",
       "    obsm: 'spatial'"
      ]
     },
     "execution_count": 55,
     "metadata": {},
     "output_type": "execute_result"
    }
   ],
   "source": [
    "sc_adata = sc.datasets.visium_sge()\n",
    "st_adata = st.convert_scanpy(sc_adata)\n",
    "st_adata"
   ]
  },
  {
   "cell_type": "markdown",
   "id": "7efc7014",
   "metadata": {},
   "source": [
    "## Load from stLearn's datasets \n",
    "Download processed BCBA data (10X genomics published data)"
   ]
  },
  {
   "cell_type": "code",
   "execution_count": 52,
   "id": "33ff6174",
   "metadata": {
    "ExecuteTime": {
     "end_time": "2022-01-05T16:28:48.423833Z",
     "start_time": "2022-01-05T16:28:46.852534Z"
    },
    "collapsed": true
   },
   "outputs": [
    {
     "data": {
      "application/vnd.jupyter.widget-view+json": {
       "model_id": "2d8bb7cae27a411a88a574e02044f9a7",
       "version_major": 2,
       "version_minor": 0
      },
      "text/plain": [
       "0.00B [00:00, ?B/s]"
      ]
     },
     "metadata": {},
     "output_type": "display_data"
    },
    {
     "ename": "OSError",
     "evalue": "Unable to open file (file signature not found)",
     "output_type": "error",
     "traceback": [
      "\u001b[0;31m---------------------------------------------------------------------------\u001b[0m",
      "\u001b[0;31mOSError\u001b[0m                                   Traceback (most recent call last)",
      "\u001b[0;32m/var/folders/c4/st9x4d195v7_cw3p7s809jx40000gn/T/ipykernel_24306/2280764977.py\u001b[0m in \u001b[0;36m<module>\u001b[0;34m\u001b[0m\n\u001b[0;32m----> 1\u001b[0;31m \u001b[0madata\u001b[0m \u001b[0;34m=\u001b[0m \u001b[0mstlearn\u001b[0m\u001b[0;34m.\u001b[0m\u001b[0mdatasets\u001b[0m\u001b[0;34m.\u001b[0m\u001b[0mexample_bcba\u001b[0m\u001b[0;34m(\u001b[0m\u001b[0;34m)\u001b[0m\u001b[0;34m\u001b[0m\u001b[0;34m\u001b[0m\u001b[0m\n\u001b[0m",
      "\u001b[0;32m~/miniconda3/envs/FPST/lib/python3.8/site-packages/stlearn/_datasets/_datasets.py\u001b[0m in \u001b[0;36mexample_bcba\u001b[0;34m()\u001b[0m\n\u001b[1;32m     15\u001b[0m     \u001b[0;32mif\u001b[0m \u001b[0;32mnot\u001b[0m \u001b[0mfilename\u001b[0m\u001b[0;34m.\u001b[0m\u001b[0mis_file\u001b[0m\u001b[0;34m(\u001b[0m\u001b[0;34m)\u001b[0m\u001b[0;34m:\u001b[0m\u001b[0;34m\u001b[0m\u001b[0;34m\u001b[0m\u001b[0m\n\u001b[1;32m     16\u001b[0m         \u001b[0msc\u001b[0m\u001b[0;34m.\u001b[0m\u001b[0mreadwrite\u001b[0m\u001b[0;34m.\u001b[0m\u001b[0m_download\u001b[0m\u001b[0;34m(\u001b[0m\u001b[0murl\u001b[0m\u001b[0;34m=\u001b[0m\u001b[0murl\u001b[0m\u001b[0;34m,\u001b[0m \u001b[0mpath\u001b[0m\u001b[0;34m=\u001b[0m\u001b[0mfilename\u001b[0m\u001b[0;34m)\u001b[0m\u001b[0;34m\u001b[0m\u001b[0;34m\u001b[0m\u001b[0m\n\u001b[0;32m---> 17\u001b[0;31m     \u001b[0madata\u001b[0m \u001b[0;34m=\u001b[0m \u001b[0msc\u001b[0m\u001b[0;34m.\u001b[0m\u001b[0mread_h5ad\u001b[0m\u001b[0;34m(\u001b[0m\u001b[0mfilename\u001b[0m\u001b[0;34m)\u001b[0m\u001b[0;34m\u001b[0m\u001b[0;34m\u001b[0m\u001b[0m\n\u001b[0m\u001b[1;32m     18\u001b[0m     \u001b[0;32mreturn\u001b[0m \u001b[0madata\u001b[0m\u001b[0;34m\u001b[0m\u001b[0;34m\u001b[0m\u001b[0m\n",
      "\u001b[0;32m~/miniconda3/envs/FPST/lib/python3.8/site-packages/anndata/_io/h5ad.py\u001b[0m in \u001b[0;36mread_h5ad\u001b[0;34m(filename, backed, as_sparse, as_sparse_fmt, chunk_size)\u001b[0m\n\u001b[1;32m    406\u001b[0m     )\n\u001b[1;32m    407\u001b[0m \u001b[0;34m\u001b[0m\u001b[0m\n\u001b[0;32m--> 408\u001b[0;31m     \u001b[0;32mwith\u001b[0m \u001b[0mh5py\u001b[0m\u001b[0;34m.\u001b[0m\u001b[0mFile\u001b[0m\u001b[0;34m(\u001b[0m\u001b[0mfilename\u001b[0m\u001b[0;34m,\u001b[0m \u001b[0;34m\"r\"\u001b[0m\u001b[0;34m)\u001b[0m \u001b[0;32mas\u001b[0m \u001b[0mf\u001b[0m\u001b[0;34m:\u001b[0m\u001b[0;34m\u001b[0m\u001b[0;34m\u001b[0m\u001b[0m\n\u001b[0m\u001b[1;32m    409\u001b[0m         \u001b[0md\u001b[0m \u001b[0;34m=\u001b[0m \u001b[0;34m{\u001b[0m\u001b[0;34m}\u001b[0m\u001b[0;34m\u001b[0m\u001b[0;34m\u001b[0m\u001b[0m\n\u001b[1;32m    410\u001b[0m         \u001b[0;32mfor\u001b[0m \u001b[0mk\u001b[0m \u001b[0;32min\u001b[0m \u001b[0mf\u001b[0m\u001b[0;34m.\u001b[0m\u001b[0mkeys\u001b[0m\u001b[0;34m(\u001b[0m\u001b[0;34m)\u001b[0m\u001b[0;34m:\u001b[0m\u001b[0;34m\u001b[0m\u001b[0;34m\u001b[0m\u001b[0m\n",
      "\u001b[0;32m~/miniconda3/envs/FPST/lib/python3.8/site-packages/h5py/_hl/files.py\u001b[0m in \u001b[0;36m__init__\u001b[0;34m(self, name, mode, driver, libver, userblock_size, swmr, rdcc_nslots, rdcc_nbytes, rdcc_w0, track_order, **kwds)\u001b[0m\n\u001b[1;32m    404\u001b[0m             \u001b[0;32mwith\u001b[0m \u001b[0mphil\u001b[0m\u001b[0;34m:\u001b[0m\u001b[0;34m\u001b[0m\u001b[0;34m\u001b[0m\u001b[0m\n\u001b[1;32m    405\u001b[0m                 \u001b[0mfapl\u001b[0m \u001b[0;34m=\u001b[0m \u001b[0mmake_fapl\u001b[0m\u001b[0;34m(\u001b[0m\u001b[0mdriver\u001b[0m\u001b[0;34m,\u001b[0m \u001b[0mlibver\u001b[0m\u001b[0;34m,\u001b[0m \u001b[0mrdcc_nslots\u001b[0m\u001b[0;34m,\u001b[0m \u001b[0mrdcc_nbytes\u001b[0m\u001b[0;34m,\u001b[0m \u001b[0mrdcc_w0\u001b[0m\u001b[0;34m,\u001b[0m \u001b[0;34m**\u001b[0m\u001b[0mkwds\u001b[0m\u001b[0;34m)\u001b[0m\u001b[0;34m\u001b[0m\u001b[0;34m\u001b[0m\u001b[0m\n\u001b[0;32m--> 406\u001b[0;31m                 fid = make_fid(name, mode, userblock_size,\n\u001b[0m\u001b[1;32m    407\u001b[0m                                \u001b[0mfapl\u001b[0m\u001b[0;34m,\u001b[0m \u001b[0mfcpl\u001b[0m\u001b[0;34m=\u001b[0m\u001b[0mmake_fcpl\u001b[0m\u001b[0;34m(\u001b[0m\u001b[0mtrack_order\u001b[0m\u001b[0;34m=\u001b[0m\u001b[0mtrack_order\u001b[0m\u001b[0;34m)\u001b[0m\u001b[0;34m,\u001b[0m\u001b[0;34m\u001b[0m\u001b[0;34m\u001b[0m\u001b[0m\n\u001b[1;32m    408\u001b[0m                                swmr=swmr)\n",
      "\u001b[0;32m~/miniconda3/envs/FPST/lib/python3.8/site-packages/h5py/_hl/files.py\u001b[0m in \u001b[0;36mmake_fid\u001b[0;34m(name, mode, userblock_size, fapl, fcpl, swmr)\u001b[0m\n\u001b[1;32m    171\u001b[0m         \u001b[0;32mif\u001b[0m \u001b[0mswmr\u001b[0m \u001b[0;32mand\u001b[0m \u001b[0mswmr_support\u001b[0m\u001b[0;34m:\u001b[0m\u001b[0;34m\u001b[0m\u001b[0;34m\u001b[0m\u001b[0m\n\u001b[1;32m    172\u001b[0m             \u001b[0mflags\u001b[0m \u001b[0;34m|=\u001b[0m \u001b[0mh5f\u001b[0m\u001b[0;34m.\u001b[0m\u001b[0mACC_SWMR_READ\u001b[0m\u001b[0;34m\u001b[0m\u001b[0;34m\u001b[0m\u001b[0m\n\u001b[0;32m--> 173\u001b[0;31m         \u001b[0mfid\u001b[0m \u001b[0;34m=\u001b[0m \u001b[0mh5f\u001b[0m\u001b[0;34m.\u001b[0m\u001b[0mopen\u001b[0m\u001b[0;34m(\u001b[0m\u001b[0mname\u001b[0m\u001b[0;34m,\u001b[0m \u001b[0mflags\u001b[0m\u001b[0;34m,\u001b[0m \u001b[0mfapl\u001b[0m\u001b[0;34m=\u001b[0m\u001b[0mfapl\u001b[0m\u001b[0;34m)\u001b[0m\u001b[0;34m\u001b[0m\u001b[0;34m\u001b[0m\u001b[0m\n\u001b[0m\u001b[1;32m    174\u001b[0m     \u001b[0;32melif\u001b[0m \u001b[0mmode\u001b[0m \u001b[0;34m==\u001b[0m \u001b[0;34m'r+'\u001b[0m\u001b[0;34m:\u001b[0m\u001b[0;34m\u001b[0m\u001b[0;34m\u001b[0m\u001b[0m\n\u001b[1;32m    175\u001b[0m         \u001b[0mfid\u001b[0m \u001b[0;34m=\u001b[0m \u001b[0mh5f\u001b[0m\u001b[0;34m.\u001b[0m\u001b[0mopen\u001b[0m\u001b[0;34m(\u001b[0m\u001b[0mname\u001b[0m\u001b[0;34m,\u001b[0m \u001b[0mh5f\u001b[0m\u001b[0;34m.\u001b[0m\u001b[0mACC_RDWR\u001b[0m\u001b[0;34m,\u001b[0m \u001b[0mfapl\u001b[0m\u001b[0;34m=\u001b[0m\u001b[0mfapl\u001b[0m\u001b[0;34m)\u001b[0m\u001b[0;34m\u001b[0m\u001b[0;34m\u001b[0m\u001b[0m\n",
      "\u001b[0;32mh5py/_objects.pyx\u001b[0m in \u001b[0;36mh5py._objects.with_phil.wrapper\u001b[0;34m()\u001b[0m\n",
      "\u001b[0;32mh5py/_objects.pyx\u001b[0m in \u001b[0;36mh5py._objects.with_phil.wrapper\u001b[0;34m()\u001b[0m\n",
      "\u001b[0;32mh5py/h5f.pyx\u001b[0m in \u001b[0;36mh5py.h5f.open\u001b[0;34m()\u001b[0m\n",
      "\u001b[0;31mOSError\u001b[0m: Unable to open file (file signature not found)"
     ]
    }
   ],
   "source": [
    "adata = stlearn.datasets.example_bcba()"
   ]
  },
  {
   "cell_type": "markdown",
   "id": "3fed50e3",
   "metadata": {},
   "source": [
    "## Load local files\n",
    "** There are other options in the API (ReadOldST, ReadSlideSeq, ReadMERFISH)"
   ]
  },
  {
   "cell_type": "code",
   "execution_count": 56,
   "id": "0a20d700",
   "metadata": {
    "ExecuteTime": {
     "end_time": "2022-01-05T16:43:51.106710Z",
     "start_time": "2022-01-05T16:43:51.072308Z"
    },
    "collapsed": true
   },
   "outputs": [
    {
     "ename": "OSError",
     "evalue": "``/Users/guyattia/PycharmProjects/MSC-Final-Project-ST/data\\\\V1_Human_Lymph_Node\\/filtered_feature_bc_matrix.h5`` does not exist",
     "output_type": "error",
     "traceback": [
      "\u001b[0;31m---------------------------------------------------------------------------\u001b[0m",
      "\u001b[0;31mOSError\u001b[0m                                   Traceback (most recent call last)",
      "\u001b[0;32m/var/folders/c4/st9x4d195v7_cw3p7s809jx40000gn/T/ipykernel_24306/747640345.py\u001b[0m in \u001b[0;36m<module>\u001b[0;34m\u001b[0m\n\u001b[1;32m      2\u001b[0m \u001b[0;31m# In addition to reading regular 10x output, this looks for the spatial folder and loads images,\u001b[0m\u001b[0;34m\u001b[0m\u001b[0;34m\u001b[0m\u001b[0;34m\u001b[0m\u001b[0m\n\u001b[1;32m      3\u001b[0m \u001b[0;31m# coordinates and scale factors.\u001b[0m\u001b[0;34m\u001b[0m\u001b[0;34m\u001b[0m\u001b[0;34m\u001b[0m\u001b[0m\n\u001b[0;32m----> 4\u001b[0;31m \u001b[0madata\u001b[0m \u001b[0;34m=\u001b[0m \u001b[0mst\u001b[0m\u001b[0;34m.\u001b[0m\u001b[0mRead10X\u001b[0m\u001b[0;34m(\u001b[0m\u001b[0;34m\"data\\\\\\V1_Human_Lymph_Node\\\\\"\u001b[0m\u001b[0;34m,\u001b[0m \u001b[0mcount_file\u001b[0m \u001b[0;34m=\u001b[0m \u001b[0;34m\"filtered_feature_bc_matrix.h5\"\u001b[0m\u001b[0;34m,\u001b[0m \u001b[0mload_images\u001b[0m \u001b[0;34m=\u001b[0m \u001b[0;32mTrue\u001b[0m\u001b[0;34m)\u001b[0m\u001b[0;34m\u001b[0m\u001b[0;34m\u001b[0m\u001b[0m\n\u001b[0m\u001b[1;32m      5\u001b[0m \u001b[0;34m\u001b[0m\u001b[0m\n\u001b[1;32m      6\u001b[0m \u001b[0;31m# Read SeqFish data\u001b[0m\u001b[0;34m\u001b[0m\u001b[0;34m\u001b[0m\u001b[0;34m\u001b[0m\u001b[0m\n",
      "\u001b[0;32m~/miniconda3/envs/FPST/lib/python3.8/site-packages/stlearn/wrapper/read.py\u001b[0m in \u001b[0;36mRead10X\u001b[0;34m(path, genome, count_file, library_id, load_images, quality)\u001b[0m\n\u001b[1;32m     80\u001b[0m     \u001b[0;32mfrom\u001b[0m \u001b[0mscanpy\u001b[0m \u001b[0;32mimport\u001b[0m \u001b[0mread_visium\u001b[0m\u001b[0;34m\u001b[0m\u001b[0;34m\u001b[0m\u001b[0m\n\u001b[1;32m     81\u001b[0m \u001b[0;34m\u001b[0m\u001b[0m\n\u001b[0;32m---> 82\u001b[0;31m     adata = read_visium(\n\u001b[0m\u001b[1;32m     83\u001b[0m         \u001b[0mpath\u001b[0m\u001b[0;34m,\u001b[0m\u001b[0;34m\u001b[0m\u001b[0;34m\u001b[0m\u001b[0m\n\u001b[1;32m     84\u001b[0m         \u001b[0mgenome\u001b[0m\u001b[0;34m=\u001b[0m\u001b[0mgenome\u001b[0m\u001b[0;34m,\u001b[0m\u001b[0;34m\u001b[0m\u001b[0;34m\u001b[0m\u001b[0m\n",
      "\u001b[0;32m~/miniconda3/envs/FPST/lib/python3.8/site-packages/scanpy/readwrite.py\u001b[0m in \u001b[0;36mread_visium\u001b[0;34m(path, genome, count_file, library_id, load_images, source_image_path)\u001b[0m\n\u001b[1;32m    349\u001b[0m     \"\"\"\n\u001b[1;32m    350\u001b[0m     \u001b[0mpath\u001b[0m \u001b[0;34m=\u001b[0m \u001b[0mPath\u001b[0m\u001b[0;34m(\u001b[0m\u001b[0mpath\u001b[0m\u001b[0;34m)\u001b[0m\u001b[0;34m\u001b[0m\u001b[0;34m\u001b[0m\u001b[0m\n\u001b[0;32m--> 351\u001b[0;31m     \u001b[0madata\u001b[0m \u001b[0;34m=\u001b[0m \u001b[0mread_10x_h5\u001b[0m\u001b[0;34m(\u001b[0m\u001b[0mpath\u001b[0m \u001b[0;34m/\u001b[0m \u001b[0mcount_file\u001b[0m\u001b[0;34m,\u001b[0m \u001b[0mgenome\u001b[0m\u001b[0;34m=\u001b[0m\u001b[0mgenome\u001b[0m\u001b[0;34m)\u001b[0m\u001b[0;34m\u001b[0m\u001b[0;34m\u001b[0m\u001b[0m\n\u001b[0m\u001b[1;32m    352\u001b[0m \u001b[0;34m\u001b[0m\u001b[0m\n\u001b[1;32m    353\u001b[0m     \u001b[0madata\u001b[0m\u001b[0;34m.\u001b[0m\u001b[0muns\u001b[0m\u001b[0;34m[\u001b[0m\u001b[0;34m\"spatial\"\u001b[0m\u001b[0;34m]\u001b[0m \u001b[0;34m=\u001b[0m \u001b[0mdict\u001b[0m\u001b[0;34m(\u001b[0m\u001b[0;34m)\u001b[0m\u001b[0;34m\u001b[0m\u001b[0;34m\u001b[0m\u001b[0m\n",
      "\u001b[0;32m~/miniconda3/envs/FPST/lib/python3.8/site-packages/scanpy/readwrite.py\u001b[0m in \u001b[0;36mread_10x_h5\u001b[0;34m(filename, genome, gex_only, backup_url)\u001b[0m\n\u001b[1;32m    178\u001b[0m     \u001b[0;32mif\u001b[0m \u001b[0;32mnot\u001b[0m \u001b[0mis_present\u001b[0m\u001b[0;34m:\u001b[0m\u001b[0;34m\u001b[0m\u001b[0;34m\u001b[0m\u001b[0m\n\u001b[1;32m    179\u001b[0m         \u001b[0mlogg\u001b[0m\u001b[0;34m.\u001b[0m\u001b[0mdebug\u001b[0m\u001b[0;34m(\u001b[0m\u001b[0;34mf'... did not find original file {filename}'\u001b[0m\u001b[0;34m)\u001b[0m\u001b[0;34m\u001b[0m\u001b[0;34m\u001b[0m\u001b[0m\n\u001b[0;32m--> 180\u001b[0;31m     \u001b[0;32mwith\u001b[0m \u001b[0mtables\u001b[0m\u001b[0;34m.\u001b[0m\u001b[0mopen_file\u001b[0m\u001b[0;34m(\u001b[0m\u001b[0mstr\u001b[0m\u001b[0;34m(\u001b[0m\u001b[0mfilename\u001b[0m\u001b[0;34m)\u001b[0m\u001b[0;34m,\u001b[0m \u001b[0;34m'r'\u001b[0m\u001b[0;34m)\u001b[0m \u001b[0;32mas\u001b[0m \u001b[0mf\u001b[0m\u001b[0;34m:\u001b[0m\u001b[0;34m\u001b[0m\u001b[0;34m\u001b[0m\u001b[0m\n\u001b[0m\u001b[1;32m    181\u001b[0m         \u001b[0mv3\u001b[0m \u001b[0;34m=\u001b[0m \u001b[0;34m'/matrix'\u001b[0m \u001b[0;32min\u001b[0m \u001b[0mf\u001b[0m\u001b[0;34m\u001b[0m\u001b[0;34m\u001b[0m\u001b[0m\n\u001b[1;32m    182\u001b[0m     \u001b[0;32mif\u001b[0m \u001b[0mv3\u001b[0m\u001b[0;34m:\u001b[0m\u001b[0;34m\u001b[0m\u001b[0;34m\u001b[0m\u001b[0m\n",
      "\u001b[0;32m~/miniconda3/envs/FPST/lib/python3.8/site-packages/tables/file.py\u001b[0m in \u001b[0;36mopen_file\u001b[0;34m(filename, mode, title, root_uep, filters, **kwargs)\u001b[0m\n\u001b[1;32m    298\u001b[0m \u001b[0;34m\u001b[0m\u001b[0m\n\u001b[1;32m    299\u001b[0m     \u001b[0;31m# Finally, create the File instance, and return it\u001b[0m\u001b[0;34m\u001b[0m\u001b[0;34m\u001b[0m\u001b[0;34m\u001b[0m\u001b[0m\n\u001b[0;32m--> 300\u001b[0;31m     \u001b[0;32mreturn\u001b[0m \u001b[0mFile\u001b[0m\u001b[0;34m(\u001b[0m\u001b[0mfilename\u001b[0m\u001b[0;34m,\u001b[0m \u001b[0mmode\u001b[0m\u001b[0;34m,\u001b[0m \u001b[0mtitle\u001b[0m\u001b[0;34m,\u001b[0m \u001b[0mroot_uep\u001b[0m\u001b[0;34m,\u001b[0m \u001b[0mfilters\u001b[0m\u001b[0;34m,\u001b[0m \u001b[0;34m**\u001b[0m\u001b[0mkwargs\u001b[0m\u001b[0;34m)\u001b[0m\u001b[0;34m\u001b[0m\u001b[0;34m\u001b[0m\u001b[0m\n\u001b[0m\u001b[1;32m    301\u001b[0m \u001b[0;34m\u001b[0m\u001b[0m\n\u001b[1;32m    302\u001b[0m \u001b[0;34m\u001b[0m\u001b[0m\n",
      "\u001b[0;32m~/miniconda3/envs/FPST/lib/python3.8/site-packages/tables/file.py\u001b[0m in \u001b[0;36m__init__\u001b[0;34m(self, filename, mode, title, root_uep, filters, **kwargs)\u001b[0m\n\u001b[1;32m    748\u001b[0m \u001b[0;34m\u001b[0m\u001b[0m\n\u001b[1;32m    749\u001b[0m         \u001b[0;31m# Now, it is time to initialize the File extension\u001b[0m\u001b[0;34m\u001b[0m\u001b[0;34m\u001b[0m\u001b[0;34m\u001b[0m\u001b[0m\n\u001b[0;32m--> 750\u001b[0;31m         \u001b[0mself\u001b[0m\u001b[0;34m.\u001b[0m\u001b[0m_g_new\u001b[0m\u001b[0;34m(\u001b[0m\u001b[0mfilename\u001b[0m\u001b[0;34m,\u001b[0m \u001b[0mmode\u001b[0m\u001b[0;34m,\u001b[0m \u001b[0;34m**\u001b[0m\u001b[0mparams\u001b[0m\u001b[0;34m)\u001b[0m\u001b[0;34m\u001b[0m\u001b[0;34m\u001b[0m\u001b[0m\n\u001b[0m\u001b[1;32m    751\u001b[0m \u001b[0;34m\u001b[0m\u001b[0m\n\u001b[1;32m    752\u001b[0m         \u001b[0;31m# Check filters and set PyTables format version for new files.\u001b[0m\u001b[0;34m\u001b[0m\u001b[0;34m\u001b[0m\u001b[0;34m\u001b[0m\u001b[0m\n",
      "\u001b[0;32m~/miniconda3/envs/FPST/lib/python3.8/site-packages/tables/hdf5extension.pyx\u001b[0m in \u001b[0;36mtables.hdf5extension.File._g_new\u001b[0;34m()\u001b[0m\n",
      "\u001b[0;32m~/miniconda3/envs/FPST/lib/python3.8/site-packages/tables/utils.py\u001b[0m in \u001b[0;36mcheck_file_access\u001b[0;34m(filename, mode)\u001b[0m\n\u001b[1;32m    141\u001b[0m         \u001b[0;31m# The file should be readable.\u001b[0m\u001b[0;34m\u001b[0m\u001b[0;34m\u001b[0m\u001b[0;34m\u001b[0m\u001b[0m\n\u001b[1;32m    142\u001b[0m         \u001b[0;32mif\u001b[0m \u001b[0;32mnot\u001b[0m \u001b[0mos\u001b[0m\u001b[0;34m.\u001b[0m\u001b[0maccess\u001b[0m\u001b[0;34m(\u001b[0m\u001b[0mpath\u001b[0m\u001b[0;34m,\u001b[0m \u001b[0mos\u001b[0m\u001b[0;34m.\u001b[0m\u001b[0mF_OK\u001b[0m\u001b[0;34m)\u001b[0m\u001b[0;34m:\u001b[0m\u001b[0;34m\u001b[0m\u001b[0;34m\u001b[0m\u001b[0m\n\u001b[0;32m--> 143\u001b[0;31m             \u001b[0;32mraise\u001b[0m \u001b[0mOSError\u001b[0m\u001b[0;34m(\u001b[0m\u001b[0;34mf\"``{path}`` does not exist\"\u001b[0m\u001b[0;34m)\u001b[0m\u001b[0;34m\u001b[0m\u001b[0;34m\u001b[0m\u001b[0m\n\u001b[0m\u001b[1;32m    144\u001b[0m         \u001b[0;32mif\u001b[0m \u001b[0;32mnot\u001b[0m \u001b[0mpath\u001b[0m\u001b[0;34m.\u001b[0m\u001b[0mis_file\u001b[0m\u001b[0;34m(\u001b[0m\u001b[0;34m)\u001b[0m\u001b[0;34m:\u001b[0m\u001b[0;34m\u001b[0m\u001b[0;34m\u001b[0m\u001b[0m\n\u001b[1;32m    145\u001b[0m             \u001b[0;32mraise\u001b[0m \u001b[0mOSError\u001b[0m\u001b[0;34m(\u001b[0m\u001b[0;34mf\"``{path}`` is not a regular file\"\u001b[0m\u001b[0;34m)\u001b[0m\u001b[0;34m\u001b[0m\u001b[0;34m\u001b[0m\u001b[0m\n",
      "\u001b[0;31mOSError\u001b[0m: ``/Users/guyattia/PycharmProjects/MSC-Final-Project-ST/data\\\\V1_Human_Lymph_Node\\/filtered_feature_bc_matrix.h5`` does not exist"
     ]
    }
   ],
   "source": [
    "# Read Visium data from 10X (wrap read_visium from scanpy) - \n",
    "# In addition to reading regular 10x output, this looks for the spatial folder and loads images, \n",
    "# coordinates and scale factors.\n",
    "adata = st.Read10X(\"data\\\\\\V1_Human_Lymph_Node\\\\\", count_file = \"filtered_feature_bc_matrix.h5\", load_images = True)\n",
    "\n",
    "# Read SeqFish data\n",
    "adata = st.ReadSeqFish(count_matrix_file=\"cortex_svz_counts.matrix\", spatial_file=\"cortex_svz_cellcentroids.csv\")"
   ]
  },
  {
   "cell_type": "markdown",
   "id": "525c0176",
   "metadata": {},
   "source": [
    "## Generate stLearn-AnnData object\n",
    "https://stlearn.readthedocs.io/en/latest/tutorials/Read_any_data.html"
   ]
  },
  {
   "cell_type": "code",
   "execution_count": 79,
   "id": "b0d14444",
   "metadata": {
    "ExecuteTime": {
     "end_time": "2022-01-05T17:00:53.769633Z",
     "start_time": "2022-01-05T17:00:53.751109Z"
    }
   },
   "outputs": [
    {
     "name": "stderr",
     "output_type": "stream",
     "text": [
      "Observation names are not unique. To make them unique, call `.obs_names_make_unique`.\n"
     ]
    },
    {
     "data": {
      "text/plain": [
       "AnnData object with n_obs × n_vars = 1000 × 234\n",
       "    obs: 'imagecol', 'imagerow'\n",
       "    uns: 'spatial'\n",
       "    obsm: 'spatial'"
      ]
     },
     "execution_count": 79,
     "metadata": {},
     "output_type": "execute_result"
    }
   ],
   "source": [
    "# Generate sample data\n",
    "from string import ascii_uppercase\n",
    "n_obs = 1000 # number of observations\n",
    "obs = pd.DataFrame({'time': np.random.choice(['day 1', 'day 2', 'day 4', 'day 8'], n_obs)})\n",
    "var_names = [i*letter for i in range(1, 10) for letter in ascii_uppercase]\n",
    "var = pd.DataFrame({'a':[0]*len(var_names)}, index=var_names)  # dataframe for annotating the variables\n",
    "n_vars = len(var_names)  # number of variables\n",
    "X = np.arange(n_obs*n_vars).reshape(n_obs, n_vars)  # the data matrix of shape n_obs x n_vars\n",
    "\n",
    "# count – Pandas Dataframe of count matrix with rows as barcodes and columns as gene names\n",
    "df_count = pd.DataFrame(X, columns=var_names, index=obs)\n",
    "# spatial – Pandas Dataframe of spatial location of cells/spots.\n",
    "df_spatial = pd.DataFrame({'imagecol': np.random.randn(n_obs),\n",
    "                          'imagerow': np.random.randn(n_obs)})\n",
    "\n",
    "adata = st.create_stlearn(count=df_count, spatial=df_spatial, library_id=\"Sample_test\")\n",
    "adata"
   ]
  }
 ],
 "metadata": {
  "kernelspec": {
   "display_name": "Python 3 (ipykernel)",
   "language": "python",
   "name": "python3"
  },
  "language_info": {
   "codemirror_mode": {
    "name": "ipython",
    "version": 3
   },
   "file_extension": ".py",
   "mimetype": "text/x-python",
   "name": "python",
   "nbconvert_exporter": "python",
   "pygments_lexer": "ipython3",
   "version": "3.8.13"
  },
  "toc": {
   "base_numbering": 1,
   "nav_menu": {},
   "number_sections": true,
   "sideBar": true,
   "skip_h1_title": false,
   "title_cell": "Table of Contents",
   "title_sidebar": "Contents",
   "toc_cell": false,
   "toc_position": {},
   "toc_section_display": true,
   "toc_window_display": true
  }
 },
 "nbformat": 4,
 "nbformat_minor": 5
}
