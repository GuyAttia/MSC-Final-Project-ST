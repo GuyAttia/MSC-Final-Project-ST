{
 "cells": [
  {
   "cell_type": "markdown",
   "metadata": {
    "id": "rrsJ--rOj_yJ"
   },
   "source": [
    "# Imports"
   ]
  },
  {
   "cell_type": "code",
   "execution_count": 1,
   "metadata": {
    "colab": {
     "base_uri": "https://localhost:8080/"
    },
    "executionInfo": {
     "elapsed": 521,
     "status": "ok",
     "timestamp": 1645041280051,
     "user": {
      "displayName": "sofi budman",
      "photoUrl": "https://lh3.googleusercontent.com/a-/AOh14GjgwGJyBpmRHwEa349uQk-436Picyu2Y4sr1rMFSY0=s64",
      "userId": "09764764631934161053"
     },
     "user_tz": -120
    },
    "id": "CanD8ixgj_yK",
    "outputId": "b47fa8b5-afd2-47ed-dbc2-d39f2efef62e"
   },
   "outputs": [],
   "source": [
    "from os import path, listdir\n",
    "from copy import deepcopy\n",
    "import stlearn as st\n",
    "import numpy as np\n",
    "import pandas as pd\n",
    "import seaborn as sns\n",
    "import torch\n",
    "import matplotlib.pyplot as plt\n",
    "import cv2\n",
    "from sklearn.model_selection import train_test_split\n",
    "from sklearn.preprocessing import OrdinalEncoder\n",
    "from torch import tensor\n",
    "from torch.utils.data import DataLoader, Dataset\n",
    "import torch.optim as optim\n",
    "\n",
    "%load_ext autoreload\n",
    "%autoreload 2\n",
    "\n",
    "from scanpy_stlearn_loaders import StlearnLoader\n",
    "import trainer as trainer\n",
    "from data import get_data\n",
    "from models import get_model\n",
    "from tester import tester\n",
    "from loss import *"
   ]
  },
  {
   "cell_type": "code",
   "execution_count": 2,
   "metadata": {
    "colab": {
     "base_uri": "https://localhost:8080/"
    },
    "executionInfo": {
     "elapsed": 618,
     "status": "ok",
     "timestamp": 1644504258886,
     "user": {
      "displayName": "sofi budman",
      "photoUrl": "https://lh3.googleusercontent.com/a-/AOh14GjgwGJyBpmRHwEa349uQk-436Picyu2Y4sr1rMFSY0=s64",
      "userId": "09764764631934161053"
     },
     "user_tz": -120
    },
    "id": "ueuPQkjoj_yL",
    "outputId": "80a13698-73f2-47f2-f861-57bdab6aa4a7"
   },
   "outputs": [
    {
     "name": "stdout",
     "output_type": "stream",
     "text": [
      "Using device: cuda\n"
     ]
    }
   ],
   "source": [
    "plt.rcParams.update({'font.size': 12})\n",
    "device = torch.device('cuda' if torch.cuda.is_available() else 'cpu')\n",
    "print('Using device:', device)"
   ]
  },
  {
   "cell_type": "markdown",
   "metadata": {},
   "source": [
    "# Load Data "
   ]
  },
  {
   "cell_type": "code",
   "execution_count": 3,
   "metadata": {},
   "outputs": [],
   "source": [
    "dataset_name = 'Visium_Mouse_Olfactory_Bulb'"
   ]
  },
  {
   "cell_type": "markdown",
   "metadata": {},
   "source": [
    "## Genes-Spots Expression Values "
   ]
  },
  {
   "cell_type": "code",
   "execution_count": 4,
   "metadata": {},
   "outputs": [
    {
     "name": "stderr",
     "output_type": "stream",
     "text": [
      "/usr/local/lib/python3.8/site-packages/anndata/_core/anndata.py:1830: UserWarning: Variable names are not unique. To make them unique, call `.var_names_make_unique`.\n",
      "  utils.warn_names_duplicates(\"var\")\n"
     ]
    },
    {
     "name": "stdout",
     "output_type": "stream",
     "text": [
      "# spots: 1185 | # genes: 32285\n"
     ]
    },
    {
     "data": {
      "text/plain": [
       "AnnData object with n_obs × n_vars = 1185 × 32285\n",
       "    obs: 'in_tissue', 'array_row', 'array_col', 'imagecol', 'imagerow'\n",
       "    var: 'gene_ids', 'feature_types', 'genome'\n",
       "    uns: 'spatial'\n",
       "    obsm: 'spatial'"
      ]
     },
     "execution_count": 4,
     "metadata": {},
     "output_type": "execute_result"
    }
   ],
   "source": [
    "obj = StlearnLoader().load_local_visum(path=path.join('/', 'data', dataset_name),\n",
    "                                      count_file='filtered_feature_bc_matrix.h5')\n",
    "x = obj.X.toarray()\n",
    "n_spots, n_genes = x.shape\n",
    "print(f'# spots: {n_spots} | # genes: {n_genes}')\n",
    "obj"
   ]
  },
  {
   "cell_type": "markdown",
   "metadata": {},
   "source": [
    "# Filter Genes\n",
    "- min_cells = Keep genes with at least X spots with non zero expression (x[spot, gene] > 0)\n",
    "- min_counts = Keep genes with at least X expressions (sum of expression over all spots) (sum(x[:, gene]) > X)"
   ]
  },
  {
   "cell_type": "code",
   "execution_count": 5,
   "metadata": {},
   "outputs": [
    {
     "name": "stdout",
     "output_type": "stream",
     "text": [
      "Keep genes with at least 1167 non zero spots\n",
      "# spots: 1185 | # genes: 96\n"
     ]
    }
   ],
   "source": [
    "# Keep genes with at least 15% non zero spots\n",
    "min_cells = int(n_spots * 0.985)\n",
    "print(f'Keep genes with at least {min_cells} non zero spots')\n",
    "st.pp.filter_genes(obj, min_cells=min_cells)\n",
    "x = obj.X.toarray()\n",
    "n_spots, n_genes = x.shape\n",
    "print(f'# spots: {n_spots} | # genes: {n_genes}')"
   ]
  },
  {
   "cell_type": "code",
   "execution_count": 6,
   "metadata": {},
   "outputs": [
    {
     "name": "stdout",
     "output_type": "stream",
     "text": [
      "Keep genes with total expression of at least 10 over all spots\n",
      "# spots: 1185 | # genes: 96\n"
     ]
    }
   ],
   "source": [
    "min_counts = 10\n",
    "print(f'Keep genes with total expression of at least {min_counts} over all spots')\n",
    "st.pp.filter_genes(obj, min_counts=min_counts)\n",
    "x = obj.X.toarray()\n",
    "n_spots, n_genes = x.shape\n",
    "print(f'# spots: {n_spots} | # genes: {n_genes}')"
   ]
  },
  {
   "cell_type": "markdown",
   "metadata": {},
   "source": [
    "# Generate Expression DF"
   ]
  },
  {
   "cell_type": "markdown",
   "metadata": {},
   "source": [
    "## Transfer Matrix to DF "
   ]
  },
  {
   "cell_type": "code",
   "execution_count": 7,
   "metadata": {},
   "outputs": [
    {
     "name": "stdout",
     "output_type": "stream",
     "text": [
      "shape: (113760, 3)\n"
     ]
    },
    {
     "data": {
      "text/plain": [
       "count    113760.000000\n",
       "mean         50.358650\n",
       "std         105.692459\n",
       "min           0.000000\n",
       "25%          11.000000\n",
       "50%          23.000000\n",
       "75%          44.000000\n",
       "max        1996.000000\n",
       "Name: expression, dtype: float64"
      ]
     },
     "metadata": {},
     "output_type": "display_data"
    },
    {
     "data": {
      "text/html": [
       "<div>\n",
       "<style scoped>\n",
       "    .dataframe tbody tr th:only-of-type {\n",
       "        vertical-align: middle;\n",
       "    }\n",
       "\n",
       "    .dataframe tbody tr th {\n",
       "        vertical-align: top;\n",
       "    }\n",
       "\n",
       "    .dataframe thead th {\n",
       "        text-align: right;\n",
       "    }\n",
       "</style>\n",
       "<table border=\"1\" class=\"dataframe\">\n",
       "  <thead>\n",
       "    <tr style=\"text-align: right;\">\n",
       "      <th></th>\n",
       "      <th>spot</th>\n",
       "      <th>gene</th>\n",
       "      <th>expression</th>\n",
       "    </tr>\n",
       "  </thead>\n",
       "  <tbody>\n",
       "    <tr>\n",
       "      <th>0</th>\n",
       "      <td>AAACAAGTATCTCCCA-1</td>\n",
       "      <td>Rpl37a</td>\n",
       "      <td>0.0</td>\n",
       "    </tr>\n",
       "    <tr>\n",
       "      <th>1</th>\n",
       "      <td>AAACAAGTATCTCCCA-1</td>\n",
       "      <td>Dbi</td>\n",
       "      <td>0.0</td>\n",
       "    </tr>\n",
       "    <tr>\n",
       "      <th>2</th>\n",
       "      <td>AAACAAGTATCTCCCA-1</td>\n",
       "      <td>Glul</td>\n",
       "      <td>1.0</td>\n",
       "    </tr>\n",
       "    <tr>\n",
       "      <th>3</th>\n",
       "      <td>AAACAAGTATCTCCCA-1</td>\n",
       "      <td>Atp1a2</td>\n",
       "      <td>2.0</td>\n",
       "    </tr>\n",
       "    <tr>\n",
       "      <th>4</th>\n",
       "      <td>AAACAAGTATCTCCCA-1</td>\n",
       "      <td>Ptgds</td>\n",
       "      <td>8.0</td>\n",
       "    </tr>\n",
       "  </tbody>\n",
       "</table>\n",
       "</div>"
      ],
      "text/plain": [
       "                 spot    gene  expression\n",
       "0  AAACAAGTATCTCCCA-1  Rpl37a         0.0\n",
       "1  AAACAAGTATCTCCCA-1     Dbi         0.0\n",
       "2  AAACAAGTATCTCCCA-1    Glul         1.0\n",
       "3  AAACAAGTATCTCCCA-1  Atp1a2         2.0\n",
       "4  AAACAAGTATCTCCCA-1   Ptgds         8.0"
      ]
     },
     "execution_count": 7,
     "metadata": {},
     "output_type": "execute_result"
    }
   ],
   "source": [
    "spots_values = obj.obs.index.values\n",
    "genes_values = obj.var.index.values\n",
    "df_expressions_matrix = pd.DataFrame(x, columns=genes_values, index=spots_values)\n",
    "df_expressions = df_expressions_matrix.stack().reset_index()\n",
    "df_expressions.columns = ['spot', 'gene', 'expression']\n",
    "print(f'shape: {df_expressions.shape}')\n",
    "display(df_expressions['expression'].describe())\n",
    "df_expressions.head()"
   ]
  },
  {
   "cell_type": "code",
   "execution_count": 8,
   "metadata": {},
   "outputs": [
    {
     "data": {
      "image/png": "[encoded data removed]",
      "text/plain": [
       "<Figure size 1500x500 with 1 Axes>"
      ]
     },
     "metadata": {},
     "output_type": "display_data"
    }
   ],
   "source": [
    "plt.figure(figsize=(15, 5))\n",
    "df_expressions.loc[df_expressions['expression'] < 10, 'expression'].plot.hist(bins=10)\n",
    "plt.title('Gene-Spot expression histogram')\n",
    "plt.show()"
   ]
  },
  {
   "cell_type": "markdown",
   "metadata": {},
   "source": [
    "## Encode Genes and Spots "
   ]
  },
  {
   "cell_type": "code",
   "execution_count": 9,
   "metadata": {},
   "outputs": [
    {
     "data": {
      "text/html": [
       "<div>\n",
       "<style scoped>\n",
       "    .dataframe tbody tr th:only-of-type {\n",
       "        vertical-align: middle;\n",
       "    }\n",
       "\n",
       "    .dataframe tbody tr th {\n",
       "        vertical-align: top;\n",
       "    }\n",
       "\n",
       "    .dataframe thead th {\n",
       "        text-align: right;\n",
       "    }\n",
       "</style>\n",
       "<table border=\"1\" class=\"dataframe\">\n",
       "  <thead>\n",
       "    <tr style=\"text-align: right;\">\n",
       "      <th></th>\n",
       "      <th>spot</th>\n",
       "      <th>gene</th>\n",
       "      <th>expression</th>\n",
       "    </tr>\n",
       "  </thead>\n",
       "  <tbody>\n",
       "    <tr>\n",
       "      <th>0</th>\n",
       "      <td>0</td>\n",
       "      <td>56</td>\n",
       "      <td>0.0</td>\n",
       "    </tr>\n",
       "    <tr>\n",
       "      <th>1</th>\n",
       "      <td>0</td>\n",
       "      <td>15</td>\n",
       "      <td>0.0</td>\n",
       "    </tr>\n",
       "    <tr>\n",
       "      <th>2</th>\n",
       "      <td>0</td>\n",
       "      <td>23</td>\n",
       "      <td>1.0</td>\n",
       "    </tr>\n",
       "    <tr>\n",
       "      <th>3</th>\n",
       "      <td>0</td>\n",
       "      <td>4</td>\n",
       "      <td>2.0</td>\n",
       "    </tr>\n",
       "    <tr>\n",
       "      <th>4</th>\n",
       "      <td>0</td>\n",
       "      <td>36</td>\n",
       "      <td>8.0</td>\n",
       "    </tr>\n",
       "  </tbody>\n",
       "</table>\n",
       "</div>"
      ],
      "text/plain": [
       "   spot  gene  expression\n",
       "0     0    56         0.0\n",
       "1     0    15         0.0\n",
       "2     0    23         1.0\n",
       "3     0     4         2.0\n",
       "4     0    36         8.0"
      ]
     },
     "execution_count": 9,
     "metadata": {},
     "output_type": "execute_result"
    }
   ],
   "source": [
    "# Ordinal encoding the genes and spots for supported type\n",
    "oe_genes = OrdinalEncoder()\n",
    "df_expressions[['gene']] = oe_genes.fit_transform(df_expressions[['gene']].values)\n",
    "oe_spots = OrdinalEncoder()\n",
    "df_expressions[['spot']] = oe_spots.fit_transform(df_expressions[['spot']].values)\n",
    "\n",
    "df_expressions[['spot', 'gene']] = df_expressions[['spot', 'gene']].astype(int)\n",
    "df_expressions.head()"
   ]
  },
  {
   "cell_type": "markdown",
   "metadata": {},
   "source": [
    "# Train Test Split "
   ]
  },
  {
   "cell_type": "code",
   "execution_count": 10,
   "metadata": {},
   "outputs": [],
   "source": [
    "def plot_datasets_distribution(df_train, df_valid, df_test):\n",
    "    print(f'Split to train, valid, and test:\\nTrain shape:{df_train.shape}\\nValid shape:{df_valid.shape}\\nTest shape:{df_test.shape}')\n",
    "    f, axs = plt.subplots(1, 3, figsize=(19, 5), sharey=True, sharex=True)\n",
    "    df_train.loc[df_train['expression'] < 10, 'expression'].value_counts(normalize=True).sort_index().plot.bar(ax=axs[0])\n",
    "    df_valid.loc[df_valid['expression'] < 10, 'expression'].value_counts(normalize=True).sort_index().plot.bar(ax=axs[1])\n",
    "    df_test.loc[df_test['expression'] < 10, 'expression'].value_counts(normalize=True).sort_index().plot.bar(ax=axs[2])\n",
    "    axs[0].set_title(f'Train Expression Dist | Avg Expression: {df_train[\"expression\"].mean():.2f}')\n",
    "    axs[1].set_title(f'Valid Expression Dist | Avg Expression: {df_valid[\"expression\"].mean():.2f}')\n",
    "    axs[2].set_title(f'Test Expression Dist | Avg Expression: {df_test[\"expression\"].mean():.2f}')\n",
    "    plt.show()"
   ]
  },
  {
   "cell_type": "markdown",
   "metadata": {},
   "source": [
    "## Normal Random"
   ]
  },
  {
   "cell_type": "code",
   "execution_count": 11,
   "metadata": {},
   "outputs": [],
   "source": [
    "df_train, df_test = train_test_split(df_expressions, test_size=0.10)\n",
    "df_train, df_valid = train_test_split(df_train, test_size=0.10)"
   ]
  },
  {
   "cell_type": "code",
   "execution_count": 12,
   "metadata": {
    "scrolled": false
   },
   "outputs": [
    {
     "name": "stdout",
     "output_type": "stream",
     "text": [
      "Split to train, valid, and test:\n",
      "Train shape:(92145, 3)\n",
      "Valid shape:(10239, 3)\n",
      "Test shape:(11376, 3)\n"
     ]
    },
    {
     "data": {
      "image/png": "[encoded data removed]",
      "text/plain": [
       "<Figure size 1900x500 with 3 Axes>"
      ]
     },
     "metadata": {},
     "output_type": "display_data"
    },
    {
     "name": "stdout",
     "output_type": "stream",
     "text": [
      "We can see that the train, valid and test datasets share the same expression distribution\n"
     ]
    }
   ],
   "source": [
    "plot_datasets_distribution(df_train, df_valid, df_test)\n",
    "print('We can see that the train, valid and test datasets share the same expression distribution')"
   ]
  },
  {
   "cell_type": "markdown",
   "metadata": {},
   "source": [
    "# Create Pytorch Data Loaders"
   ]
  },
  {
   "cell_type": "code",
   "execution_count": 13,
   "metadata": {},
   "outputs": [],
   "source": [
    "batch_size = 128"
   ]
  },
  {
   "cell_type": "markdown",
   "metadata": {},
   "source": [
    "## Generate DataSets "
   ]
  },
  {
   "cell_type": "code",
   "execution_count": 14,
   "metadata": {},
   "outputs": [],
   "source": [
    "class ExpressionDataset(Dataset):\n",
    "    \"\"\"\n",
    "    Generate expression dataset to use in the our models, where each sample should be a tuple of (gene, spot, expression)\n",
    "    \"\"\"\n",
    "\n",
    "    def __init__(self, df, device):\n",
    "        self.num_samples = len(df)\n",
    "        self.genes = tensor(df['gene'].values).to(device)\n",
    "        self.spots = tensor(df['spot'].values).to(device)\n",
    "        self.labels = tensor(df['expression'].values)\n",
    "        self.num_genes = df['gene'].max()\n",
    "        self.num_spots = df['spot'].max()\n",
    "\n",
    "    def __getitem__(self, index):\n",
    "        gene = self.genes[index]\n",
    "        spot = self.spots[index]\n",
    "        label = self.labels[index].item()\n",
    "        return gene, spot, label\n",
    "\n",
    "    def __len__(self):\n",
    "        return self.num_samples\n",
    "\n",
    "    def get_all_data(self):\n",
    "        return self.genes, self.spots, self.labels"
   ]
  },
  {
   "cell_type": "code",
   "execution_count": 15,
   "metadata": {},
   "outputs": [],
   "source": [
    "ds_train = ExpressionDataset(df=df_train, device=device)\n",
    "ds_valid = ExpressionDataset(df=df_valid, device=device)\n",
    "ds_test = ExpressionDataset(df=df_test, device=device)"
   ]
  },
  {
   "cell_type": "markdown",
   "metadata": {},
   "source": [
    "## DataSets to DataLoaders "
   ]
  },
  {
   "cell_type": "code",
   "execution_count": 16,
   "metadata": {},
   "outputs": [],
   "source": [
    "dl_train = DataLoader(dataset=ds_train, batch_size=batch_size, shuffle=True)\n",
    "dl_valid = DataLoader(dataset=ds_valid, batch_size=batch_size, shuffle=True)\n",
    "dl_test = DataLoader(dataset=ds_test, batch_size=batch_size, shuffle=True)"
   ]
  },
  {
   "cell_type": "markdown",
   "metadata": {},
   "source": [
    "# Load Model"
   ]
  },
  {
   "cell_type": "code",
   "execution_count": 17,
   "metadata": {},
   "outputs": [],
   "source": [
    "dl_train_exp = dl_train\n",
    "dl_valid_exp = dl_valid\n",
    "dl_test_exp = dl_test"
   ]
  },
  {
   "cell_type": "code",
   "execution_count": 29,
   "metadata": {},
   "outputs": [],
   "source": [
    "model_name='NMF'\n",
    "params = {\n",
    "    'learning_rate': 0.1,\n",
    "    'optimizer': \"SGD\",\n",
    "    'latent_dim': 40,\n",
    "    'batch_size': batch_size\n",
    "}"
   ]
  },
  {
   "cell_type": "code",
   "execution_count": 30,
   "metadata": {},
   "outputs": [],
   "source": [
    "model = get_model(model_name=model_name, params=params, dl_train=dl_train_exp)"
   ]
  },
  {
   "cell_type": "markdown",
   "metadata": {},
   "source": [
    "# Train Model "
   ]
  },
  {
   "cell_type": "code",
   "execution_count": 31,
   "metadata": {},
   "outputs": [],
   "source": [
    "max_epochs = 300\n",
    "early_stopping = 15"
   ]
  },
  {
   "cell_type": "markdown",
   "metadata": {},
   "source": [
    "## Load Optimizer and Criterion"
   ]
  },
  {
   "cell_type": "code",
   "execution_count": 32,
   "metadata": {},
   "outputs": [],
   "source": [
    "optimizer = getattr(optim, params['optimizer'])(model.parameters(), lr=params['learning_rate'])\n",
    "criterion = RMSELoss()"
   ]
  },
  {
   "cell_type": "markdown",
   "metadata": {},
   "source": [
    "## Train"
   ]
  },
  {
   "cell_type": "code",
   "execution_count": 33,
   "metadata": {},
   "outputs": [
    {
     "name": "stdout",
     "output_type": "stream",
     "text": [
      "Training Results - Epoch[1] Avg loss: 113.74\n",
      "Validation Results - Epoch[1] Avg loss: 117.61\n",
      "Training Results - Epoch[2] Avg loss: 113.49\n",
      "Validation Results - Epoch[2] Avg loss: 116.37\n",
      "Training Results - Epoch[3] Avg loss: 113.58\n",
      "Validation Results - Epoch[3] Avg loss: 117.40\n",
      "Training Results - Epoch[4] Avg loss: 113.31\n",
      "Validation Results - Epoch[4] Avg loss: 116.44\n",
      "Training Results - Epoch[5] Avg loss: 113.48\n",
      "Validation Results - Epoch[5] Avg loss: 115.95\n",
      "Training Results - Epoch[6] Avg loss: 113.17\n",
      "Validation Results - Epoch[6] Avg loss: 116.25\n",
      "Training Results - Epoch[7] Avg loss: 112.79\n",
      "Validation Results - Epoch[7] Avg loss: 115.91\n",
      "Training Results - Epoch[8] Avg loss: 112.46\n",
      "Validation Results - Epoch[8] Avg loss: 116.08\n",
      "Training Results - Epoch[9] Avg loss: 112.05\n",
      "Validation Results - Epoch[9] Avg loss: 115.13\n",
      "Training Results - Epoch[10] Avg loss: 110.86\n",
      "Validation Results - Epoch[10] Avg loss: 114.88\n",
      "Training Results - Epoch[11] Avg loss: 109.57\n",
      "Validation Results - Epoch[11] Avg loss: 114.84\n",
      "Training Results - Epoch[12] Avg loss: 107.27\n",
      "Validation Results - Epoch[12] Avg loss: 112.05\n",
      "Training Results - Epoch[13] Avg loss: 104.19\n",
      "Validation Results - Epoch[13] Avg loss: 110.47\n",
      "Training Results - Epoch[14] Avg loss: 100.03\n",
      "Validation Results - Epoch[14] Avg loss: 106.15\n",
      "Training Results - Epoch[15] Avg loss: 93.58\n",
      "Validation Results - Epoch[15] Avg loss: 100.63\n",
      "Training Results - Epoch[16] Avg loss: 83.98\n",
      "Validation Results - Epoch[16] Avg loss: 93.19\n",
      "Training Results - Epoch[17] Avg loss: 70.25\n",
      "Validation Results - Epoch[17] Avg loss: 80.63\n",
      "Training Results - Epoch[18] Avg loss: 52.13\n",
      "Validation Results - Epoch[18] Avg loss: 64.86\n",
      "Training Results - Epoch[19] Avg loss: 32.58\n",
      "Validation Results - Epoch[19] Avg loss: 44.99\n",
      "Training Results - Epoch[20] Avg loss: 23.06\n",
      "Validation Results - Epoch[20] Avg loss: 30.72\n",
      "Training Results - Epoch[21] Avg loss: 21.10\n",
      "Validation Results - Epoch[21] Avg loss: 24.89\n",
      "Training Results - Epoch[22] Avg loss: 20.53\n",
      "Validation Results - Epoch[22] Avg loss: 22.87\n",
      "Training Results - Epoch[23] Avg loss: 20.22\n",
      "Validation Results - Epoch[23] Avg loss: 22.01\n",
      "Training Results - Epoch[24] Avg loss: 19.82\n",
      "Validation Results - Epoch[24] Avg loss: 21.39\n",
      "Training Results - Epoch[25] Avg loss: 19.71\n",
      "Validation Results - Epoch[25] Avg loss: 21.05\n",
      "Training Results - Epoch[26] Avg loss: 19.40\n",
      "Validation Results - Epoch[26] Avg loss: 20.69\n",
      "Training Results - Epoch[27] Avg loss: 19.02\n",
      "Validation Results - Epoch[27] Avg loss: 20.36\n",
      "Training Results - Epoch[28] Avg loss: 18.59\n",
      "Validation Results - Epoch[28] Avg loss: 19.86\n",
      "Training Results - Epoch[29] Avg loss: 18.06\n",
      "Validation Results - Epoch[29] Avg loss: 19.34\n",
      "Training Results - Epoch[30] Avg loss: 17.40\n",
      "Validation Results - Epoch[30] Avg loss: 18.75\n",
      "Training Results - Epoch[31] Avg loss: 16.63\n",
      "Validation Results - Epoch[31] Avg loss: 18.01\n",
      "Training Results - Epoch[32] Avg loss: 15.83\n",
      "Validation Results - Epoch[32] Avg loss: 17.17\n",
      "Training Results - Epoch[33] Avg loss: 15.00\n",
      "Validation Results - Epoch[33] Avg loss: 16.31\n",
      "Training Results - Epoch[34] Avg loss: 14.22\n",
      "Validation Results - Epoch[34] Avg loss: 15.55\n",
      "Training Results - Epoch[35] Avg loss: 13.64\n",
      "Validation Results - Epoch[35] Avg loss: 14.78\n",
      "Training Results - Epoch[36] Avg loss: 13.20\n",
      "Validation Results - Epoch[36] Avg loss: 14.56\n",
      "Training Results - Epoch[37] Avg loss: 12.83\n",
      "Validation Results - Epoch[37] Avg loss: 14.19\n",
      "Training Results - Epoch[38] Avg loss: 12.66\n",
      "Validation Results - Epoch[38] Avg loss: 14.05\n",
      "Training Results - Epoch[39] Avg loss: 12.49\n",
      "Validation Results - Epoch[39] Avg loss: 13.64\n",
      "Training Results - Epoch[40] Avg loss: 12.33\n",
      "Validation Results - Epoch[40] Avg loss: 13.76\n",
      "Training Results - Epoch[41] Avg loss: 12.29\n",
      "Validation Results - Epoch[41] Avg loss: 13.56\n",
      "Training Results - Epoch[42] Avg loss: 12.11\n",
      "Validation Results - Epoch[42] Avg loss: 13.42\n",
      "Training Results - Epoch[43] Avg loss: 12.05\n",
      "Validation Results - Epoch[43] Avg loss: 13.51\n",
      "Training Results - Epoch[44] Avg loss: 11.93\n",
      "Validation Results - Epoch[44] Avg loss: 13.31\n",
      "Training Results - Epoch[45] Avg loss: 11.80\n",
      "Validation Results - Epoch[45] Avg loss: 13.39\n",
      "Training Results - Epoch[46] Avg loss: 11.67\n",
      "Validation Results - Epoch[46] Avg loss: 13.31\n",
      "Training Results - Epoch[47] Avg loss: 11.56\n",
      "Validation Results - Epoch[47] Avg loss: 13.38\n",
      "Training Results - Epoch[48] Avg loss: 11.46\n",
      "Validation Results - Epoch[48] Avg loss: 13.27\n",
      "Training Results - Epoch[49] Avg loss: 11.30\n",
      "Validation Results - Epoch[49] Avg loss: 13.29\n",
      "Training Results - Epoch[50] Avg loss: 11.10\n",
      "Validation Results - Epoch[50] Avg loss: 13.18\n",
      "Training Results - Epoch[51] Avg loss: 10.90\n",
      "Validation Results - Epoch[51] Avg loss: 13.11\n",
      "Training Results - Epoch[52] Avg loss: 10.86\n",
      "Validation Results - Epoch[52] Avg loss: 13.01\n",
      "Training Results - Epoch[53] Avg loss: 10.68\n",
      "Validation Results - Epoch[53] Avg loss: 13.10\n",
      "Training Results - Epoch[54] Avg loss: 10.58\n",
      "Validation Results - Epoch[54] Avg loss: 13.14\n",
      "Training Results - Epoch[55] Avg loss: 10.38\n",
      "Validation Results - Epoch[55] Avg loss: 13.01\n",
      "Training Results - Epoch[56] Avg loss: 10.26\n",
      "Validation Results - Epoch[56] Avg loss: 12.96\n",
      "Training Results - Epoch[57] Avg loss: 10.14\n",
      "Validation Results - Epoch[57] Avg loss: 13.03\n",
      "Training Results - Epoch[58] Avg loss: 10.01\n",
      "Validation Results - Epoch[58] Avg loss: 12.93\n",
      "Training Results - Epoch[59] Avg loss: 9.85\n",
      "Validation Results - Epoch[59] Avg loss: 12.99\n",
      "Training Results - Epoch[60] Avg loss: 9.73\n",
      "Validation Results - Epoch[60] Avg loss: 12.91\n",
      "Training Results - Epoch[61] Avg loss: 9.61\n",
      "Validation Results - Epoch[61] Avg loss: 12.79\n",
      "Training Results - Epoch[62] Avg loss: 9.46\n",
      "Validation Results - Epoch[62] Avg loss: 12.77\n",
      "Training Results - Epoch[63] Avg loss: 9.30\n",
      "Validation Results - Epoch[63] Avg loss: 12.87\n",
      "Training Results - Epoch[64] Avg loss: 9.23\n",
      "Validation Results - Epoch[64] Avg loss: 12.88\n",
      "Training Results - Epoch[65] Avg loss: 9.09\n",
      "Validation Results - Epoch[65] Avg loss: 12.79\n",
      "Training Results - Epoch[66] Avg loss: 8.95\n",
      "Validation Results - Epoch[66] Avg loss: 12.75\n",
      "Training Results - Epoch[67] Avg loss: 8.84\n",
      "Validation Results - Epoch[67] Avg loss: 12.66\n",
      "Training Results - Epoch[68] Avg loss: 8.72\n",
      "Validation Results - Epoch[68] Avg loss: 12.75\n",
      "Training Results - Epoch[69] Avg loss: 8.57\n",
      "Validation Results - Epoch[69] Avg loss: 12.49\n",
      "Training Results - Epoch[70] Avg loss: 8.42\n",
      "Validation Results - Epoch[70] Avg loss: 12.78\n",
      "Training Results - Epoch[71] Avg loss: 8.30\n",
      "Validation Results - Epoch[71] Avg loss: 12.72\n",
      "Training Results - Epoch[72] Avg loss: 8.21\n",
      "Validation Results - Epoch[72] Avg loss: 12.66\n",
      "Training Results - Epoch[73] Avg loss: 8.06\n",
      "Validation Results - Epoch[73] Avg loss: 12.49\n",
      "Training Results - Epoch[74] Avg loss: 7.97\n",
      "Validation Results - Epoch[74] Avg loss: 12.56\n"
     ]
    },
    {
     "name": "stderr",
     "output_type": "stream",
     "text": [
      "Engine run is terminating due to exception: \n"
     ]
    },
    {
     "ename": "KeyboardInterrupt",
     "evalue": "",
     "output_type": "error",
     "traceback": [
      "\u001b[0;31m---------------------------------------------------------------------------\u001b[0m",
      "\u001b[0;31mKeyboardInterrupt\u001b[0m                         Traceback (most recent call last)",
      "Input \u001b[0;32mIn [33]\u001b[0m, in \u001b[0;36m<cell line: 1>\u001b[0;34m()\u001b[0m\n\u001b[0;32m----> 1\u001b[0m model, valid_loss \u001b[38;5;241m=\u001b[39m \u001b[43mtrainer\u001b[49m\u001b[38;5;241;43m.\u001b[39;49m\u001b[43mtrainer\u001b[49m\u001b[43m(\u001b[49m\n\u001b[1;32m      2\u001b[0m \u001b[43m    \u001b[49m\u001b[43mmodel\u001b[49m\u001b[38;5;241;43m=\u001b[39;49m\u001b[43mmodel\u001b[49m\u001b[43m,\u001b[49m\u001b[43m \u001b[49m\n\u001b[1;32m      3\u001b[0m \u001b[43m    \u001b[49m\u001b[43moptimizer\u001b[49m\u001b[38;5;241;43m=\u001b[39;49m\u001b[43moptimizer\u001b[49m\u001b[43m,\u001b[49m\u001b[43m \u001b[49m\n\u001b[1;32m      4\u001b[0m \u001b[43m    \u001b[49m\u001b[43mcriterion\u001b[49m\u001b[38;5;241;43m=\u001b[39;49m\u001b[43mcriterion\u001b[49m\u001b[43m,\u001b[49m\n\u001b[1;32m      5\u001b[0m \u001b[43m    \u001b[49m\u001b[43mmax_epochs\u001b[49m\u001b[38;5;241;43m=\u001b[39;49m\u001b[43mmax_epochs\u001b[49m\u001b[43m,\u001b[49m\u001b[43m \u001b[49m\n\u001b[1;32m      6\u001b[0m \u001b[43m    \u001b[49m\u001b[43mearly_stopping\u001b[49m\u001b[38;5;241;43m=\u001b[39;49m\u001b[43mearly_stopping\u001b[49m\u001b[43m,\u001b[49m\u001b[43m \u001b[49m\n\u001b[1;32m      7\u001b[0m \u001b[43m    \u001b[49m\u001b[43mdl_train\u001b[49m\u001b[38;5;241;43m=\u001b[39;49m\u001b[43mdl_train_exp\u001b[49m\u001b[43m,\u001b[49m\u001b[43m \u001b[49m\n\u001b[1;32m      8\u001b[0m \u001b[43m    \u001b[49m\u001b[43mdl_test\u001b[49m\u001b[38;5;241;43m=\u001b[39;49m\u001b[43mdl_valid_exp\u001b[49m\u001b[43m,\u001b[49m\u001b[43m \u001b[49m\n\u001b[1;32m      9\u001b[0m \u001b[43m    \u001b[49m\u001b[43mdevice\u001b[49m\u001b[38;5;241;43m=\u001b[39;49m\u001b[43mdevice\u001b[49m\u001b[43m,\u001b[49m\u001b[43m \u001b[49m\n\u001b[1;32m     10\u001b[0m \u001b[43m    \u001b[49m\u001b[43mdataset_name\u001b[49m\u001b[38;5;241;43m=\u001b[39;49m\u001b[43mdataset_name\u001b[49m\u001b[43m,\u001b[49m\u001b[43m \u001b[49m\n\u001b[1;32m     11\u001b[0m \u001b[43m    \u001b[49m\u001b[43mmodel_name\u001b[49m\u001b[38;5;241;43m=\u001b[39;49m\u001b[43mmodel_name\u001b[49m\n\u001b[1;32m     12\u001b[0m \u001b[43m)\u001b[49m\n",
      "File \u001b[0;32m/FPST/src/trainer.py:133\u001b[0m, in \u001b[0;36mtrainer\u001b[0;34m(model, optimizer, criterion, max_epochs, early_stopping, dl_train, dl_test, device, dataset_name, model_name)\u001b[0m\n\u001b[1;32m    124\u001b[0m     tb_logger\u001b[38;5;241m.\u001b[39mattach_output_handler(\n\u001b[1;32m    125\u001b[0m         evaluator,\n\u001b[1;32m    126\u001b[0m         event_name\u001b[38;5;241m=\u001b[39mEvents\u001b[38;5;241m.\u001b[39mEPOCH_COMPLETED,\n\u001b[0;32m   (...)\u001b[0m\n\u001b[1;32m    129\u001b[0m         global_step_transform\u001b[38;5;241m=\u001b[39mglobal_step_from_engine(trainer),\n\u001b[1;32m    130\u001b[0m     )\n\u001b[1;32m    132\u001b[0m \u001b[38;5;66;03m# Run the trainer\u001b[39;00m\n\u001b[0;32m--> 133\u001b[0m \u001b[43mtrainer\u001b[49m\u001b[38;5;241;43m.\u001b[39;49m\u001b[43mrun\u001b[49m\u001b[43m(\u001b[49m\u001b[43mdl_train\u001b[49m\u001b[43m,\u001b[49m\u001b[43m \u001b[49m\u001b[43mmax_epochs\u001b[49m\u001b[38;5;241;43m=\u001b[39;49m\u001b[43mmax_epochs\u001b[49m\u001b[43m)\u001b[49m\n\u001b[1;32m    135\u001b[0m tb_logger\u001b[38;5;241m.\u001b[39mclose()   \u001b[38;5;66;03m# Close logger\u001b[39;00m\n\u001b[1;32m    136\u001b[0m \u001b[38;5;66;03m# Return the best validation score\u001b[39;00m\n",
      "File \u001b[0;32m/usr/local/lib/python3.8/site-packages/ignite/engine/engine.py:704\u001b[0m, in \u001b[0;36mEngine.run\u001b[0;34m(self, data, max_epochs, epoch_length, seed)\u001b[0m\n\u001b[1;32m    701\u001b[0m         \u001b[38;5;28;01mraise\u001b[39;00m \u001b[38;5;167;01mValueError\u001b[39;00m(\u001b[38;5;124m\"\u001b[39m\u001b[38;5;124mepoch_length should be provided if data is None\u001b[39m\u001b[38;5;124m\"\u001b[39m)\n\u001b[1;32m    703\u001b[0m \u001b[38;5;28mself\u001b[39m\u001b[38;5;241m.\u001b[39mstate\u001b[38;5;241m.\u001b[39mdataloader \u001b[38;5;241m=\u001b[39m data\n\u001b[0;32m--> 704\u001b[0m \u001b[38;5;28;01mreturn\u001b[39;00m \u001b[38;5;28;43mself\u001b[39;49m\u001b[38;5;241;43m.\u001b[39;49m\u001b[43m_internal_run\u001b[49m\u001b[43m(\u001b[49m\u001b[43m)\u001b[49m\n",
      "File \u001b[0;32m/usr/local/lib/python3.8/site-packages/ignite/engine/engine.py:783\u001b[0m, in \u001b[0;36mEngine._internal_run\u001b[0;34m(self)\u001b[0m\n\u001b[1;32m    781\u001b[0m     \u001b[38;5;28mself\u001b[39m\u001b[38;5;241m.\u001b[39m_dataloader_iter \u001b[38;5;241m=\u001b[39m \u001b[38;5;28;01mNone\u001b[39;00m\n\u001b[1;32m    782\u001b[0m     \u001b[38;5;28mself\u001b[39m\u001b[38;5;241m.\u001b[39mlogger\u001b[38;5;241m.\u001b[39merror(\u001b[38;5;124mf\u001b[39m\u001b[38;5;124m\"\u001b[39m\u001b[38;5;124mEngine run is terminating due to exception: \u001b[39m\u001b[38;5;132;01m{\u001b[39;00me\u001b[38;5;132;01m}\u001b[39;00m\u001b[38;5;124m\"\u001b[39m)\n\u001b[0;32m--> 783\u001b[0m     \u001b[38;5;28;43mself\u001b[39;49m\u001b[38;5;241;43m.\u001b[39;49m\u001b[43m_handle_exception\u001b[49m\u001b[43m(\u001b[49m\u001b[43me\u001b[49m\u001b[43m)\u001b[49m\n\u001b[1;32m    785\u001b[0m \u001b[38;5;28mself\u001b[39m\u001b[38;5;241m.\u001b[39m_dataloader_iter \u001b[38;5;241m=\u001b[39m \u001b[38;5;28;01mNone\u001b[39;00m\n\u001b[1;32m    786\u001b[0m \u001b[38;5;28;01mreturn\u001b[39;00m \u001b[38;5;28mself\u001b[39m\u001b[38;5;241m.\u001b[39mstate\n",
      "File \u001b[0;32m/usr/local/lib/python3.8/site-packages/ignite/engine/engine.py:466\u001b[0m, in \u001b[0;36mEngine._handle_exception\u001b[0;34m(self, e)\u001b[0m\n\u001b[1;32m    464\u001b[0m     \u001b[38;5;28mself\u001b[39m\u001b[38;5;241m.\u001b[39m_fire_event(Events\u001b[38;5;241m.\u001b[39mEXCEPTION_RAISED, e)\n\u001b[1;32m    465\u001b[0m \u001b[38;5;28;01melse\u001b[39;00m:\n\u001b[0;32m--> 466\u001b[0m     \u001b[38;5;28;01mraise\u001b[39;00m e\n",
      "File \u001b[0;32m/usr/local/lib/python3.8/site-packages/ignite/engine/engine.py:753\u001b[0m, in \u001b[0;36mEngine._internal_run\u001b[0;34m(self)\u001b[0m\n\u001b[1;32m    750\u001b[0m \u001b[38;5;28;01mif\u001b[39;00m \u001b[38;5;28mself\u001b[39m\u001b[38;5;241m.\u001b[39m_dataloader_iter \u001b[38;5;129;01mis\u001b[39;00m \u001b[38;5;28;01mNone\u001b[39;00m:\n\u001b[1;32m    751\u001b[0m     \u001b[38;5;28mself\u001b[39m\u001b[38;5;241m.\u001b[39m_setup_engine()\n\u001b[0;32m--> 753\u001b[0m time_taken \u001b[38;5;241m=\u001b[39m \u001b[38;5;28;43mself\u001b[39;49m\u001b[38;5;241;43m.\u001b[39;49m\u001b[43m_run_once_on_dataset\u001b[49m\u001b[43m(\u001b[49m\u001b[43m)\u001b[49m\n\u001b[1;32m    754\u001b[0m \u001b[38;5;66;03m# time is available for handlers but must be update after fire\u001b[39;00m\n\u001b[1;32m    755\u001b[0m \u001b[38;5;28mself\u001b[39m\u001b[38;5;241m.\u001b[39mstate\u001b[38;5;241m.\u001b[39mtimes[Events\u001b[38;5;241m.\u001b[39mEPOCH_COMPLETED\u001b[38;5;241m.\u001b[39mname] \u001b[38;5;241m=\u001b[39m time_taken\n",
      "File \u001b[0;32m/usr/local/lib/python3.8/site-packages/ignite/engine/engine.py:807\u001b[0m, in \u001b[0;36mEngine._run_once_on_dataset\u001b[0;34m(self)\u001b[0m\n\u001b[1;32m    805\u001b[0m \u001b[38;5;28;01mif\u001b[39;00m \u001b[38;5;28mself\u001b[39m\u001b[38;5;241m.\u001b[39mlast_event_name \u001b[38;5;241m!=\u001b[39m Events\u001b[38;5;241m.\u001b[39mDATALOADER_STOP_ITERATION:\n\u001b[1;32m    806\u001b[0m     \u001b[38;5;28mself\u001b[39m\u001b[38;5;241m.\u001b[39m_fire_event(Events\u001b[38;5;241m.\u001b[39mGET_BATCH_STARTED)\n\u001b[0;32m--> 807\u001b[0m \u001b[38;5;28mself\u001b[39m\u001b[38;5;241m.\u001b[39mstate\u001b[38;5;241m.\u001b[39mbatch \u001b[38;5;241m=\u001b[39m \u001b[38;5;28;43mnext\u001b[39;49m\u001b[43m(\u001b[49m\u001b[38;5;28;43mself\u001b[39;49m\u001b[38;5;241;43m.\u001b[39;49m\u001b[43m_dataloader_iter\u001b[49m\u001b[43m)\u001b[49m\n\u001b[1;32m    808\u001b[0m \u001b[38;5;28mself\u001b[39m\u001b[38;5;241m.\u001b[39m_fire_event(Events\u001b[38;5;241m.\u001b[39mGET_BATCH_COMPLETED)\n\u001b[1;32m    809\u001b[0m iter_counter \u001b[38;5;241m+\u001b[39m\u001b[38;5;241m=\u001b[39m \u001b[38;5;241m1\u001b[39m\n",
      "File \u001b[0;32m/usr/local/lib/python3.8/site-packages/torch/utils/data/dataloader.py:530\u001b[0m, in \u001b[0;36m_BaseDataLoaderIter.__next__\u001b[0;34m(self)\u001b[0m\n\u001b[1;32m    528\u001b[0m \u001b[38;5;28;01mif\u001b[39;00m \u001b[38;5;28mself\u001b[39m\u001b[38;5;241m.\u001b[39m_sampler_iter \u001b[38;5;129;01mis\u001b[39;00m \u001b[38;5;28;01mNone\u001b[39;00m:\n\u001b[1;32m    529\u001b[0m     \u001b[38;5;28mself\u001b[39m\u001b[38;5;241m.\u001b[39m_reset()\n\u001b[0;32m--> 530\u001b[0m data \u001b[38;5;241m=\u001b[39m \u001b[38;5;28;43mself\u001b[39;49m\u001b[38;5;241;43m.\u001b[39;49m\u001b[43m_next_data\u001b[49m\u001b[43m(\u001b[49m\u001b[43m)\u001b[49m\n\u001b[1;32m    531\u001b[0m \u001b[38;5;28mself\u001b[39m\u001b[38;5;241m.\u001b[39m_num_yielded \u001b[38;5;241m+\u001b[39m\u001b[38;5;241m=\u001b[39m \u001b[38;5;241m1\u001b[39m\n\u001b[1;32m    532\u001b[0m \u001b[38;5;28;01mif\u001b[39;00m \u001b[38;5;28mself\u001b[39m\u001b[38;5;241m.\u001b[39m_dataset_kind \u001b[38;5;241m==\u001b[39m _DatasetKind\u001b[38;5;241m.\u001b[39mIterable \u001b[38;5;129;01mand\u001b[39;00m \\\n\u001b[1;32m    533\u001b[0m         \u001b[38;5;28mself\u001b[39m\u001b[38;5;241m.\u001b[39m_IterableDataset_len_called \u001b[38;5;129;01mis\u001b[39;00m \u001b[38;5;129;01mnot\u001b[39;00m \u001b[38;5;28;01mNone\u001b[39;00m \u001b[38;5;129;01mand\u001b[39;00m \\\n\u001b[1;32m    534\u001b[0m         \u001b[38;5;28mself\u001b[39m\u001b[38;5;241m.\u001b[39m_num_yielded \u001b[38;5;241m>\u001b[39m \u001b[38;5;28mself\u001b[39m\u001b[38;5;241m.\u001b[39m_IterableDataset_len_called:\n",
      "File \u001b[0;32m/usr/local/lib/python3.8/site-packages/torch/utils/data/dataloader.py:570\u001b[0m, in \u001b[0;36m_SingleProcessDataLoaderIter._next_data\u001b[0;34m(self)\u001b[0m\n\u001b[1;32m    568\u001b[0m \u001b[38;5;28;01mdef\u001b[39;00m \u001b[38;5;21m_next_data\u001b[39m(\u001b[38;5;28mself\u001b[39m):\n\u001b[1;32m    569\u001b[0m     index \u001b[38;5;241m=\u001b[39m \u001b[38;5;28mself\u001b[39m\u001b[38;5;241m.\u001b[39m_next_index()  \u001b[38;5;66;03m# may raise StopIteration\u001b[39;00m\n\u001b[0;32m--> 570\u001b[0m     data \u001b[38;5;241m=\u001b[39m \u001b[38;5;28;43mself\u001b[39;49m\u001b[38;5;241;43m.\u001b[39;49m\u001b[43m_dataset_fetcher\u001b[49m\u001b[38;5;241;43m.\u001b[39;49m\u001b[43mfetch\u001b[49m\u001b[43m(\u001b[49m\u001b[43mindex\u001b[49m\u001b[43m)\u001b[49m  \u001b[38;5;66;03m# may raise StopIteration\u001b[39;00m\n\u001b[1;32m    571\u001b[0m     \u001b[38;5;28;01mif\u001b[39;00m \u001b[38;5;28mself\u001b[39m\u001b[38;5;241m.\u001b[39m_pin_memory:\n\u001b[1;32m    572\u001b[0m         data \u001b[38;5;241m=\u001b[39m _utils\u001b[38;5;241m.\u001b[39mpin_memory\u001b[38;5;241m.\u001b[39mpin_memory(data)\n",
      "File \u001b[0;32m/usr/local/lib/python3.8/site-packages/torch/utils/data/_utils/fetch.py:49\u001b[0m, in \u001b[0;36m_MapDatasetFetcher.fetch\u001b[0;34m(self, possibly_batched_index)\u001b[0m\n\u001b[1;32m     47\u001b[0m \u001b[38;5;28;01mdef\u001b[39;00m \u001b[38;5;21mfetch\u001b[39m(\u001b[38;5;28mself\u001b[39m, possibly_batched_index):\n\u001b[1;32m     48\u001b[0m     \u001b[38;5;28;01mif\u001b[39;00m \u001b[38;5;28mself\u001b[39m\u001b[38;5;241m.\u001b[39mauto_collation:\n\u001b[0;32m---> 49\u001b[0m         data \u001b[38;5;241m=\u001b[39m [\u001b[38;5;28mself\u001b[39m\u001b[38;5;241m.\u001b[39mdataset[idx] \u001b[38;5;28;01mfor\u001b[39;00m idx \u001b[38;5;129;01min\u001b[39;00m possibly_batched_index]\n\u001b[1;32m     50\u001b[0m     \u001b[38;5;28;01melse\u001b[39;00m:\n\u001b[1;32m     51\u001b[0m         data \u001b[38;5;241m=\u001b[39m \u001b[38;5;28mself\u001b[39m\u001b[38;5;241m.\u001b[39mdataset[possibly_batched_index]\n",
      "File \u001b[0;32m/usr/local/lib/python3.8/site-packages/torch/utils/data/_utils/fetch.py:49\u001b[0m, in \u001b[0;36m<listcomp>\u001b[0;34m(.0)\u001b[0m\n\u001b[1;32m     47\u001b[0m \u001b[38;5;28;01mdef\u001b[39;00m \u001b[38;5;21mfetch\u001b[39m(\u001b[38;5;28mself\u001b[39m, possibly_batched_index):\n\u001b[1;32m     48\u001b[0m     \u001b[38;5;28;01mif\u001b[39;00m \u001b[38;5;28mself\u001b[39m\u001b[38;5;241m.\u001b[39mauto_collation:\n\u001b[0;32m---> 49\u001b[0m         data \u001b[38;5;241m=\u001b[39m [\u001b[38;5;28;43mself\u001b[39;49m\u001b[38;5;241;43m.\u001b[39;49m\u001b[43mdataset\u001b[49m\u001b[43m[\u001b[49m\u001b[43midx\u001b[49m\u001b[43m]\u001b[49m \u001b[38;5;28;01mfor\u001b[39;00m idx \u001b[38;5;129;01min\u001b[39;00m possibly_batched_index]\n\u001b[1;32m     50\u001b[0m     \u001b[38;5;28;01melse\u001b[39;00m:\n\u001b[1;32m     51\u001b[0m         data \u001b[38;5;241m=\u001b[39m \u001b[38;5;28mself\u001b[39m\u001b[38;5;241m.\u001b[39mdataset[possibly_batched_index]\n",
      "Input \u001b[0;32mIn [14]\u001b[0m, in \u001b[0;36mExpressionDataset.__getitem__\u001b[0;34m(self, index)\u001b[0m\n\u001b[1;32m     14\u001b[0m \u001b[38;5;28;01mdef\u001b[39;00m \u001b[38;5;21m__getitem__\u001b[39m(\u001b[38;5;28mself\u001b[39m, index):\n\u001b[1;32m     15\u001b[0m     gene \u001b[38;5;241m=\u001b[39m \u001b[38;5;28mself\u001b[39m\u001b[38;5;241m.\u001b[39mgenes[index]\n\u001b[0;32m---> 16\u001b[0m     spot \u001b[38;5;241m=\u001b[39m \u001b[38;5;28;43mself\u001b[39;49m\u001b[38;5;241;43m.\u001b[39;49m\u001b[43mspots\u001b[49m\u001b[43m[\u001b[49m\u001b[43mindex\u001b[49m\u001b[43m]\u001b[49m\n\u001b[1;32m     17\u001b[0m     label \u001b[38;5;241m=\u001b[39m \u001b[38;5;28mself\u001b[39m\u001b[38;5;241m.\u001b[39mlabels[index]\u001b[38;5;241m.\u001b[39mitem()\n\u001b[1;32m     18\u001b[0m     \u001b[38;5;28;01mreturn\u001b[39;00m gene, spot, label\n",
      "\u001b[0;31mKeyboardInterrupt\u001b[0m: "
     ]
    }
   ],
   "source": [
    "model, valid_loss = trainer.trainer(\n",
    "    model=model, \n",
    "    optimizer=optimizer, \n",
    "    criterion=criterion,\n",
    "    max_epochs=max_epochs, \n",
    "    early_stopping=early_stopping, \n",
    "    dl_train=dl_train_exp, \n",
    "    dl_test=dl_valid_exp, \n",
    "    device=device, \n",
    "    dataset_name=dataset_name, \n",
    "    model_name=model_name\n",
    ")"
   ]
  },
  {
   "cell_type": "markdown",
   "metadata": {},
   "source": [
    "## Test "
   ]
  },
  {
   "cell_type": "code",
   "execution_count": 34,
   "metadata": {},
   "outputs": [
    {
     "name": "stdout",
     "output_type": "stream",
     "text": [
      "Test loss = (tensor(11.5035, dtype=torch.float64),        gene  spot     y     y_pred\n",
      "0         6   603   9.0  20.626682\n",
      "1        52   372   6.0   8.014856\n",
      "2        57   468  33.0  38.466721\n",
      "3        26   644   8.0   7.533175\n",
      "4        52   309   8.0  11.179410\n",
      "...     ...   ...   ...        ...\n",
      "11371    59   431  13.0  11.942219\n",
      "11372    66   735  38.0  26.572332\n",
      "11373    81  1086  13.0   7.000122\n",
      "11374     7   282  45.0  46.530594\n",
      "11375     1   806  25.0  21.553005\n",
      "\n",
      "[11376 rows x 4 columns])\n"
     ]
    }
   ],
   "source": [
    "test_loss = tester(\n",
    "    model=model,\n",
    "    dl_test=dl_test_exp,\n",
    "    device=device\n",
    ")\n",
    "print(f'Test loss = {test_loss}')"
   ]
  },
  {
   "cell_type": "markdown",
   "metadata": {},
   "source": [
    "## Reconstruction of the train matrix"
   ]
  },
  {
   "cell_type": "code",
   "execution_count": null,
   "metadata": {},
   "outputs": [],
   "source": [
    "all_gens = []\n",
    "all_spots = []\n",
    "expressions_train = []\n",
    "\n",
    "for set_dl in [dl_train_exp, dl_valid_exp, dl_test_exp]:\n",
    "    for batch in set_dl:\n",
    "        gens, spots, y = batch\n",
    "        gens.to(device)\n",
    "        spots.to(device)\n",
    "\n",
    "        all_gens.extend(gens.tolist())\n",
    "        all_spots.extend(spots.tolist())\n",
    "        if (set_dl == dl_valid_exp) or (set_dl == dl_test_exp):\n",
    "            y_zeros = torch.zeros(size=y.shape)\n",
    "            expressions_train.extend(y_zeros.tolist())\n",
    "        else:\n",
    "            expressions_train.extend(y.tolist())"
   ]
  },
  {
   "cell_type": "code",
   "execution_count": null,
   "metadata": {},
   "outputs": [],
   "source": [
    "df_expressions_train = pd.DataFrame({'gene': all_gens, 'spot': all_spots, 'expression': expressions_train})\n",
    "df_expressions_train[['gene']] = oe_genes.inverse_transform(df_expressions_train[['gene']].values)\n",
    "df_expressions_train[['spot']] = oe_spots.inverse_transform(df_expressions_train[['spot']].values)"
   ]
  },
  {
   "cell_type": "code",
   "execution_count": null,
   "metadata": {},
   "outputs": [],
   "source": [
    "df_expressions_train_matrix = df_expressions_train.pivot(index='spot', columns='gene', values='expression')"
   ]
  },
  {
   "cell_type": "code",
   "execution_count": null,
   "metadata": {},
   "outputs": [],
   "source": [
    "new_obj_train = deepcopy(obj)\n",
    "tmp_genes_locations = [obj.var.index.get_loc(key=gene_key) for gene_key in df_expressions_train_matrix.columns]"
   ]
  },
  {
   "cell_type": "code",
   "execution_count": null,
   "metadata": {},
   "outputs": [],
   "source": [
    "# Replace the values\n",
    "new_obj_train.X[:, tmp_genes_locations] = df_expressions_train_matrix.values"
   ]
  },
  {
   "cell_type": "code",
   "execution_count": null,
   "metadata": {},
   "outputs": [],
   "source": [
    "# Check that the matrix is in the same order and the replacement went well\n",
    "print(df_expressions_train_matrix.shape[0]*df_expressions_train_matrix.shape[1])\n",
    "np.equal(new_obj_train.X.toarray()[:, tmp_genes_locations], df_expressions_train_matrix).sum().sum()"
   ]
  },
  {
   "cell_type": "markdown",
   "metadata": {},
   "source": [
    "## Clustering The Train Dataset"
   ]
  },
  {
   "cell_type": "code",
   "execution_count": null,
   "metadata": {},
   "outputs": [],
   "source": [
    "st.pp.normalize_total(new_obj_train)\n",
    "st.pp.log1p(new_obj_train)"
   ]
  },
  {
   "cell_type": "code",
   "execution_count": null,
   "metadata": {},
   "outputs": [],
   "source": [
    "# run PCA for gene expression data\n",
    "st.em.run_pca(new_obj_train, n_comps=50)\n",
    "# K-means clustering\n",
    "st.tl.clustering.kmeans(new_obj_train, n_clusters=7, use_data=\"X_pca\", key_added=\"X_pca_kmeans\")"
   ]
  },
  {
   "cell_type": "code",
   "execution_count": null,
   "metadata": {},
   "outputs": [],
   "source": [
    "colors_map_dict = {\n",
    "    '#1f77b4': 1, # Blue\n",
    "    '#f87f13': 0, # Orange\n",
    "    '#359c62': 3, # Green\n",
    "    '#d32929': 4, # Red\n",
    "    '#69308e': 5, # Purple\n",
    "    '#8c564c': 6, # Brown\n",
    "    '#f33ca9': 2  # Pink\n",
    "}\n",
    "clusters_colors = [c[0] for c in sorted(colors_map_dict.items(), key=lambda i: i[1])]"
   ]
  },
  {
   "cell_type": "code",
   "execution_count": null,
   "metadata": {
    "scrolled": true
   },
   "outputs": [],
   "source": [
    "new_obj_train.uns['X_pca_kmeans_colors'] = clusters_colors"
   ]
  },
  {
   "cell_type": "code",
   "execution_count": null,
   "metadata": {
    "scrolled": true
   },
   "outputs": [],
   "source": [
    "f = plt.figure()\n",
    "st.pl.cluster_plot(new_obj_train, use_label=\"X_pca_kmeans\")\n",
    "plt.title('Train')\n",
    "plt.show()"
   ]
  },
  {
   "cell_type": "markdown",
   "metadata": {},
   "source": [
    "## Reconstruction of the whole matrix"
   ]
  },
  {
   "cell_type": "code",
   "execution_count": null,
   "metadata": {},
   "outputs": [],
   "source": [
    "model = model.to(device)\n",
    "model.eval()\n",
    "\n",
    "all_gens = []\n",
    "all_spots = []\n",
    "expressions_pred = []\n",
    "expressions_true = []\n",
    "\n",
    "with torch.no_grad():\n",
    "    for set_dl in [dl_train_exp, dl_valid_exp, dl_test_exp]:\n",
    "        for batch in set_dl:\n",
    "            gens, spots, y = batch\n",
    "            gens.to(device)\n",
    "            spots.to(device)\n",
    "            y_pred = model(gens, spots)\n",
    "            y_pred = np.clip(a=y_pred, a_min=0, a_max=None)\n",
    "            \n",
    "            all_gens.extend(gens.tolist())\n",
    "            all_spots.extend(spots.tolist())\n",
    "            expressions_pred.extend(y_pred.tolist())\n",
    "            expressions_true.extend(y.tolist())"
   ]
  },
  {
   "cell_type": "code",
   "execution_count": null,
   "metadata": {},
   "outputs": [],
   "source": [
    "df_expressions_preds = pd.DataFrame({'gene': all_gens, 'spot': all_spots, 'expression': expressions_pred})\n",
    "df_expressions_preds[['gene']] = oe_genes.inverse_transform(df_expressions_preds[['gene']].values)\n",
    "df_expressions_preds[['spot']] = oe_spots.inverse_transform(df_expressions_preds[['spot']].values)"
   ]
  },
  {
   "cell_type": "code",
   "execution_count": null,
   "metadata": {},
   "outputs": [],
   "source": [
    "df_expressions_true = df_expressions_preds.copy()\n",
    "df_expressions_true['expression'] = expressions_true"
   ]
  },
  {
   "cell_type": "code",
   "execution_count": null,
   "metadata": {},
   "outputs": [],
   "source": [
    "df_expressions_preds_matrix = df_expressions_preds.pivot(index='spot', columns='gene', values='expression')\n",
    "df_expressions_true_matrix = df_expressions_true.pivot(index='spot', columns='gene', values='expression')"
   ]
  },
  {
   "cell_type": "code",
   "execution_count": null,
   "metadata": {},
   "outputs": [],
   "source": [
    "f, (ax1, ax2) = plt.subplots(1, 2, figsize=(19, 6))\n",
    "df_expressions_true.expression.hist(ax=ax1)\n",
    "df_expressions_preds.expression.hist(ax=ax2)\n",
    "ax1.set_title('True Genes Expression Histogram')\n",
    "ax2.set_title('Prediction Genes Expression Histogram')\n",
    "plt.show()"
   ]
  },
  {
   "cell_type": "code",
   "execution_count": null,
   "metadata": {},
   "outputs": [],
   "source": [
    "new_obj = deepcopy(obj)\n",
    "tmp_genes_locations = [obj.var.index.get_loc(key=gene_key) for gene_key in df_expressions_true_matrix.columns]"
   ]
  },
  {
   "cell_type": "code",
   "execution_count": null,
   "metadata": {},
   "outputs": [],
   "source": [
    "# Check that the matrix is in the same order and I can replace the values\n",
    "print(df_expressions_true_matrix.shape[0]*df_expressions_true_matrix.shape[1])\n",
    "np.equal(new_obj.X.toarray()[:, tmp_genes_locations], df_expressions_true_matrix).sum().sum()"
   ]
  },
  {
   "cell_type": "code",
   "execution_count": null,
   "metadata": {},
   "outputs": [],
   "source": [
    "# Replace the values\n",
    "new_obj.X[:, tmp_genes_locations] = df_expressions_preds_matrix.values"
   ]
  },
  {
   "cell_type": "code",
   "execution_count": null,
   "metadata": {},
   "outputs": [],
   "source": [
    "# Check that the matrix is in the same order and the replacement went well\n",
    "print(df_expressions_preds_matrix.shape[0]*df_expressions_preds_matrix.shape[1])\n",
    "np.equal(new_obj.X.toarray()[:, tmp_genes_locations], df_expressions_preds_matrix).sum().sum()"
   ]
  },
  {
   "cell_type": "code",
   "execution_count": null,
   "metadata": {
    "scrolled": true
   },
   "outputs": [],
   "source": [
    "for gene_symbol in top_genes_names[:5]:\n",
    "    f, (ax1, ax2) = plt.subplots(1, 2, figsize=(17, 8))\n",
    "    st.pl.gene_plot(obj, gene_symbols=gene_symbol, size=20, ax=ax1)\n",
    "    ax1.set_title('True Expression')\n",
    "    st.pl.gene_plot(new_obj, gene_symbols=gene_symbol, size=20, ax=ax2)\n",
    "    ax2.set_title('Reconstructed Expression')\n",
    "    print(f'Gene: {gene_symbol}')\n",
    "    plt.show()"
   ]
  },
  {
   "cell_type": "markdown",
   "metadata": {},
   "source": [
    "## Clustering Full Reconstructed"
   ]
  },
  {
   "cell_type": "code",
   "execution_count": null,
   "metadata": {},
   "outputs": [],
   "source": [
    "new_obj_clusters = deepcopy(new_obj)"
   ]
  },
  {
   "cell_type": "code",
   "execution_count": null,
   "metadata": {},
   "outputs": [],
   "source": [
    "st.pp.normalize_total(new_obj_clusters)\n",
    "st.pp.log1p(new_obj_clusters)"
   ]
  },
  {
   "cell_type": "code",
   "execution_count": null,
   "metadata": {},
   "outputs": [],
   "source": [
    "# run PCA for gene expression data\n",
    "st.em.run_pca(new_obj_clusters, n_comps=50)\n",
    "# K-means clustering\n",
    "st.tl.clustering.kmeans(new_obj_clusters, n_clusters=7, use_data=\"X_pca\", key_added=\"X_pca_kmeans\")"
   ]
  },
  {
   "cell_type": "code",
   "execution_count": null,
   "metadata": {},
   "outputs": [],
   "source": [
    "f = plt.figure()\n",
    "st.pl.cluster_plot(new_obj_clusters, use_label=\"X_pca_kmeans\")\n",
    "plt.title('Reconstructed Data')"
   ]
  }
 ],
 "metadata": {
  "accelerator": "GPU",
  "colab": {
   "collapsed_sections": [],
   "machine_shape": "hm",
   "name": "main_MF.ipynb",
   "provenance": []
  },
  "interpreter": {
   "hash": "8fa3c1106efc00f2c52b2a02cc212ceecaeaa00ccc3be33bf7c9b17ece6d5fb5"
  },
  "kernelspec": {
   "display_name": "Python 3 (ipykernel)",
   "language": "python",
   "name": "python3"
  },
  "language_info": {
   "codemirror_mode": {
    "name": "ipython",
    "version": 3
   },
   "file_extension": ".py",
   "mimetype": "text/x-python",
   "name": "python",
   "nbconvert_exporter": "python",
   "pygments_lexer": "ipython3",
   "version": "3.8.13"
  }
 },
 "nbformat": 4,
 "nbformat_minor": 1
}
