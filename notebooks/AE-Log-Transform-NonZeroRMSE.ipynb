{
 "cells": [
  {
   "cell_type": "markdown",
   "id": "ef3efb2b",
   "metadata": {},
   "source": [
    "# Trial Summary "
   ]
  },
  {
   "cell_type": "markdown",
   "id": "b075018b",
   "metadata": {},
   "source": [
    "Data preparation:\n",
    "- Filter genes with less than 10 non-zero expressions spots\n",
    "- Apply log transformation on the expressions\n",
    "\n",
    "Model:\n",
    "- Auto Encoders - encoding genes\n",
    "- RMSE training loss excluding zeros\n",
    "\n",
    "Results:\n",
    "- Valid RMSE: \n",
    "- Test RMSE:"
   ]
  },
  {
   "cell_type": "markdown",
   "id": "185bb069",
   "metadata": {
    "id": "rrsJ--rOj_yJ"
   },
   "source": [
    "# Imports"
   ]
  },
  {
   "cell_type": "code",
   "execution_count": 14,
   "id": "411f99be",
   "metadata": {
    "colab": {
     "base_uri": "https://localhost:8080/"
    },
    "executionInfo": {
     "elapsed": 521,
     "status": "ok",
     "timestamp": 1645041280051,
     "user": {
      "displayName": "sofi budman",
      "photoUrl": "https://lh3.googleusercontent.com/a-/AOh14GjgwGJyBpmRHwEa349uQk-436Picyu2Y4sr1rMFSY0=s64",
      "userId": "09764764631934161053"
     },
     "user_tz": -120
    },
    "id": "CanD8ixgj_yK",
    "outputId": "b47fa8b5-afd2-47ed-dbc2-d39f2efef62e"
   },
   "outputs": [
    {
     "name": "stdout",
     "output_type": "stream",
     "text": [
      "The autoreload extension is already loaded. To reload it, use:\n",
      "  %reload_ext autoreload\n"
     ]
    }
   ],
   "source": [
    "from os import path, listdir\n",
    "from copy import deepcopy\n",
    "import stlearn as st\n",
    "import numpy as np\n",
    "import pandas as pd\n",
    "import seaborn as sns\n",
    "import torch\n",
    "import torch.optim as optim\n",
    "import matplotlib.pyplot as plt\n",
    "\n",
    "%load_ext autoreload\n",
    "%autoreload 2\n",
    "\n",
    "import trainer_ae as trainer\n",
    "import data_ae as get_data\n",
    "from models import get_model\n",
    "import tester_ae as tester\n",
    "from loss import *\n",
    "from results_analysis import *"
   ]
  },
  {
   "cell_type": "code",
   "execution_count": 2,
   "id": "532e3c62",
   "metadata": {
    "colab": {
     "base_uri": "https://localhost:8080/"
    },
    "executionInfo": {
     "elapsed": 618,
     "status": "ok",
     "timestamp": 1644504258886,
     "user": {
      "displayName": "sofi budman",
      "photoUrl": "https://lh3.googleusercontent.com/a-/AOh14GjgwGJyBpmRHwEa349uQk-436Picyu2Y4sr1rMFSY0=s64",
      "userId": "09764764631934161053"
     },
     "user_tz": -120
    },
    "id": "ueuPQkjoj_yL",
    "outputId": "80a13698-73f2-47f2-f861-57bdab6aa4a7"
   },
   "outputs": [
    {
     "name": "stdout",
     "output_type": "stream",
     "text": [
      "Using device: cuda\n"
     ]
    }
   ],
   "source": [
    "plt.rcParams.update({'font.size': 12})\n",
    "device = torch.device('cuda' if torch.cuda.is_available() else 'cpu')\n",
    "print('Using device:', device)"
   ]
  },
  {
   "cell_type": "markdown",
   "id": "791e0071",
   "metadata": {},
   "source": [
    "# Load Data "
   ]
  },
  {
   "cell_type": "code",
   "execution_count": 3,
   "id": "c46a5494",
   "metadata": {},
   "outputs": [],
   "source": [
    "min_counts = 500\n",
    "min_cells = 177\n",
    "apply_log = True\n",
    "batch_size = 128"
   ]
  },
  {
   "cell_type": "code",
   "execution_count": 4,
   "id": "cc1345d3",
   "metadata": {},
   "outputs": [
    {
     "name": "stderr",
     "output_type": "stream",
     "text": [
      "/usr/local/lib/python3.8/site-packages/anndata/_core/anndata.py:1830: UserWarning: Variable names are not unique. To make them unique, call `.var_names_make_unique`.\n",
      "  utils.warn_names_duplicates(\"var\")\n"
     ]
    },
    {
     "name": "stdout",
     "output_type": "stream",
     "text": [
      "# spots: 1185 | # genes: 32285\n",
      "New shape after filtering: (1185, 6279)\n",
      "Log transformation step is finished in adata.X\n",
      "Data shape: (7440615, 3)\n",
      "Number of genes: 6279\n",
      "Number of spots: 1185\n",
      "Train shape:(7440615, 3)\n",
      "Valid shape:(7440615, 4)\n",
      "Test shape:(7440615, 4)\n",
      "Finish loading the data\n"
     ]
    }
   ],
   "source": [
    "dl_train, dl_valid, dl_test, _ = get_data.main(\n",
    "    min_counts=min_counts,\n",
    "    min_cells=min_cells,\n",
    "    apply_log=apply_log, \n",
    "    batch_size=batch_size, \n",
    "    device=device\n",
    ")"
   ]
  },
  {
   "cell_type": "markdown",
   "id": "7de31975",
   "metadata": {},
   "source": [
    "# Modelling"
   ]
  },
  {
   "cell_type": "markdown",
   "id": "d03f1f55",
   "metadata": {},
   "source": [
    "## Set HyperParameters"
   ]
  },
  {
   "cell_type": "code",
   "execution_count": 7,
   "id": "56d24159",
   "metadata": {},
   "outputs": [],
   "source": [
    "model_name = 'AE'\n",
    "max_epochs = 150\n",
    "early_stopping = 5\n",
    "model_params = {\n",
    "    'learning_rate': 0.1,\n",
    "    'optimizer': \"SGD\",\n",
    "    'latent_dim': 40,\n",
    "    'batch_size': batch_size\n",
    "}"
   ]
  },
  {
   "cell_type": "markdown",
   "id": "1fce2bca",
   "metadata": {},
   "source": [
    "## Build Model "
   ]
  },
  {
   "cell_type": "code",
   "execution_count": 8,
   "id": "e52d0658",
   "metadata": {},
   "outputs": [],
   "source": [
    "model = get_model(model_name, model_params, dl_train)\n",
    "optimizer = getattr(optim, model_params['optimizer'])(model.parameters(), lr=model_params['learning_rate'])\n",
    "criterion = NON_ZERO_RMSELoss_AE()"
   ]
  },
  {
   "cell_type": "markdown",
   "id": "d12ef88a",
   "metadata": {},
   "source": [
    "## Train Model "
   ]
  },
  {
   "cell_type": "code",
   "execution_count": 10,
   "id": "c3d16a96",
   "metadata": {
    "scrolled": true
   },
   "outputs": [
    {
     "name": "stderr",
     "output_type": "stream",
     "text": [
      "2022-09-27 14:21:38.625887: I tensorflow/core/platform/cpu_feature_guard.cc:193] This TensorFlow binary is optimized with oneAPI Deep Neural Network Library (oneDNN) to use the following CPU instructions in performance-critical operations:  AVX2 FMA\n",
      "To enable them in other operations, rebuild TensorFlow with the appropriate compiler flags.\n",
      "2022-09-27 14:21:38.849034: W tensorflow/stream_executor/platform/default/dso_loader.cc:64] Could not load dynamic library 'libcudart.so.11.0'; dlerror: libcudart.so.11.0: cannot open shared object file: No such file or directory\n",
      "2022-09-27 14:21:38.849109: I tensorflow/stream_executor/cuda/cudart_stub.cc:29] Ignore above cudart dlerror if you do not have a GPU set up on your machine.\n",
      "2022-09-27 14:21:38.913623: E tensorflow/stream_executor/cuda/cuda_blas.cc:2981] Unable to register cuBLAS factory: Attempting to register factory for plugin cuBLAS when one has already been registered\n",
      "2022-09-27 14:21:40.329904: W tensorflow/stream_executor/platform/default/dso_loader.cc:64] Could not load dynamic library 'libnvinfer.so.7'; dlerror: libnvinfer.so.7: cannot open shared object file: No such file or directory\n",
      "2022-09-27 14:21:40.330094: W tensorflow/stream_executor/platform/default/dso_loader.cc:64] Could not load dynamic library 'libnvinfer_plugin.so.7'; dlerror: libnvinfer_plugin.so.7: cannot open shared object file: No such file or directory\n",
      "2022-09-27 14:21:40.330116: W tensorflow/compiler/tf2tensorrt/utils/py_utils.cc:38] TF-TRT Warning: Cannot dlopen some TensorRT libraries. If you would like to use Nvidia GPU with TensorRT, please make sure the missing libraries mentioned above are installed properly.\n"
     ]
    },
    {
     "name": "stdout",
     "output_type": "stream",
     "text": [
      "Training Results - Epoch[1] Avg loss: 0.99\n",
      "Validation Results - Epoch[1] Avg loss: 0.99\n",
      "Training Results - Epoch[2] Avg loss: 0.96\n",
      "Validation Results - Epoch[2] Avg loss: 0.97\n",
      "Training Results - Epoch[3] Avg loss: 0.94\n",
      "Validation Results - Epoch[3] Avg loss: 0.94\n",
      "Training Results - Epoch[4] Avg loss: 0.92\n",
      "Validation Results - Epoch[4] Avg loss: 0.93\n",
      "Training Results - Epoch[5] Avg loss: 0.91\n",
      "Validation Results - Epoch[5] Avg loss: 0.91\n",
      "Training Results - Epoch[6] Avg loss: 0.88\n",
      "Validation Results - Epoch[6] Avg loss: 0.89\n",
      "Training Results - Epoch[7] Avg loss: 0.87\n",
      "Validation Results - Epoch[7] Avg loss: 0.87\n",
      "Training Results - Epoch[8] Avg loss: 0.86\n",
      "Validation Results - Epoch[8] Avg loss: 0.86\n",
      "Training Results - Epoch[9] Avg loss: 0.84\n",
      "Validation Results - Epoch[9] Avg loss: 0.85\n",
      "Training Results - Epoch[10] Avg loss: 0.83\n",
      "Validation Results - Epoch[10] Avg loss: 0.84\n",
      "Training Results - Epoch[11] Avg loss: 0.82\n",
      "Validation Results - Epoch[11] Avg loss: 0.82\n",
      "Training Results - Epoch[12] Avg loss: 0.81\n",
      "Validation Results - Epoch[12] Avg loss: 0.82\n",
      "Training Results - Epoch[13] Avg loss: 0.80\n",
      "Validation Results - Epoch[13] Avg loss: 0.81\n",
      "Training Results - Epoch[14] Avg loss: 0.80\n",
      "Validation Results - Epoch[14] Avg loss: 0.80\n",
      "Training Results - Epoch[15] Avg loss: 0.79\n",
      "Validation Results - Epoch[15] Avg loss: 0.79\n",
      "Training Results - Epoch[16] Avg loss: 0.78\n",
      "Validation Results - Epoch[16] Avg loss: 0.78\n",
      "Training Results - Epoch[17] Avg loss: 0.78\n",
      "Validation Results - Epoch[17] Avg loss: 0.78\n",
      "Training Results - Epoch[18] Avg loss: 0.78\n",
      "Validation Results - Epoch[18] Avg loss: 0.78\n",
      "Training Results - Epoch[19] Avg loss: 0.77\n",
      "Validation Results - Epoch[19] Avg loss: 0.77\n",
      "Training Results - Epoch[20] Avg loss: 0.76\n",
      "Validation Results - Epoch[20] Avg loss: 0.77\n",
      "Training Results - Epoch[21] Avg loss: 0.76\n",
      "Validation Results - Epoch[21] Avg loss: 0.77\n",
      "Training Results - Epoch[22] Avg loss: 0.76\n",
      "Validation Results - Epoch[22] Avg loss: 0.76\n",
      "Training Results - Epoch[23] Avg loss: 0.76\n",
      "Validation Results - Epoch[23] Avg loss: 0.76\n",
      "Training Results - Epoch[24] Avg loss: 0.75\n",
      "Validation Results - Epoch[24] Avg loss: 0.75\n",
      "Training Results - Epoch[25] Avg loss: 0.75\n",
      "Validation Results - Epoch[25] Avg loss: 0.75\n",
      "Training Results - Epoch[26] Avg loss: 0.75\n",
      "Validation Results - Epoch[26] Avg loss: 0.75\n",
      "Training Results - Epoch[27] Avg loss: 0.75\n",
      "Validation Results - Epoch[27] Avg loss: 0.75\n",
      "Training Results - Epoch[28] Avg loss: 0.75\n",
      "Validation Results - Epoch[28] Avg loss: 0.75\n",
      "Training Results - Epoch[29] Avg loss: 0.74\n",
      "Validation Results - Epoch[29] Avg loss: 0.75\n",
      "Training Results - Epoch[30] Avg loss: 0.74\n",
      "Validation Results - Epoch[30] Avg loss: 0.75\n",
      "Training Results - Epoch[31] Avg loss: 0.74\n",
      "Validation Results - Epoch[31] Avg loss: 0.74\n",
      "Training Results - Epoch[32] Avg loss: 0.74\n",
      "Validation Results - Epoch[32] Avg loss: 0.75\n",
      "Training Results - Epoch[33] Avg loss: 0.74\n",
      "Validation Results - Epoch[33] Avg loss: 0.74\n",
      "Training Results - Epoch[34] Avg loss: 0.74\n",
      "Validation Results - Epoch[34] Avg loss: 0.74\n",
      "Training Results - Epoch[35] Avg loss: 0.74\n",
      "Validation Results - Epoch[35] Avg loss: 0.74\n",
      "Training Results - Epoch[36] Avg loss: 0.74\n",
      "Validation Results - Epoch[36] Avg loss: 0.74\n",
      "Training Results - Epoch[37] Avg loss: 0.74\n",
      "Validation Results - Epoch[37] Avg loss: 0.74\n",
      "Training Results - Epoch[38] Avg loss: 0.74\n",
      "Validation Results - Epoch[38] Avg loss: 0.74\n"
     ]
    },
    {
     "name": "stderr",
     "output_type": "stream",
     "text": [
      "2022-09-27 14:22:08,552 ignite.handlers.early_stopping.EarlyStopping INFO: EarlyStopping: Stop training\n"
     ]
    },
    {
     "name": "stdout",
     "output_type": "stream",
     "text": [
      "Training Results - Epoch[39] Avg loss: 0.73\n",
      "Validation Results - Epoch[39] Avg loss: 0.74\n"
     ]
    }
   ],
   "source": [
    "model, valid_loss = trainer.train(\n",
    "    model=model,\n",
    "    optimizer=optimizer,\n",
    "    criterion=criterion,\n",
    "    max_epochs=max_epochs,\n",
    "    early_stopping=early_stopping,\n",
    "    dl_train=dl_train,\n",
    "    dl_test=dl_valid, \n",
    "    device=device\n",
    ")"
   ]
  },
  {
   "cell_type": "code",
   "execution_count": 12,
   "id": "ecbfc280",
   "metadata": {},
   "outputs": [
    {
     "name": "stdout",
     "output_type": "stream",
     "text": [
      "Train final results (after log transform) = 0.73\n",
      "Train final results = 2.0750806076741224\n",
      "Valid final results (after log transform) = 0.74\n",
      "Valid final results = 2.0959355144943643\n"
     ]
    }
   ],
   "source": [
    "train_res = 0.73\n",
    "valid_res = 0.74\n",
    "print(f'Train final results (after log transform) = {train_res}')\n",
    "print(f'Train final results = {np.exp(train_res)}')\n",
    "print(f'Valid final results (after log transform) = {valid_res}')\n",
    "print(f'Valid final results = {np.exp(valid_res)}')"
   ]
  },
  {
   "cell_type": "markdown",
   "id": "6c3dae77",
   "metadata": {},
   "source": [
    "## Test "
   ]
  },
  {
   "cell_type": "code",
   "execution_count": 17,
   "id": "df5b27f8",
   "metadata": {},
   "outputs": [
    {
     "name": "stdout",
     "output_type": "stream",
     "text": [
      "Test loss = 0.0058470191434025764\n",
      "Test loss after exponent = 1.005864143371582\n"
     ]
    }
   ],
   "source": [
    "test_loss, df_test_preds = tester.test(\n",
    "    model=model,\n",
    "    criterion=criterion,\n",
    "    dl_test=dl_test,\n",
    "    device=device\n",
    ")\n",
    "print(f'Test loss = {test_loss}')\n",
    "print(f'Test loss after exponent = {torch.exp(test_loss)}')"
   ]
  },
  {
   "cell_type": "markdown",
   "id": "04df3332",
   "metadata": {},
   "source": [
    "# Results Analysis "
   ]
  },
  {
   "cell_type": "code",
   "execution_count": 24,
   "id": "4aaedbfe",
   "metadata": {},
   "outputs": [
    {
     "data": {
      "text/html": [
       "<div>\n",
       "<style scoped>\n",
       "    .dataframe tbody tr th:only-of-type {\n",
       "        vertical-align: middle;\n",
       "    }\n",
       "\n",
       "    .dataframe tbody tr th {\n",
       "        vertical-align: top;\n",
       "    }\n",
       "\n",
       "    .dataframe thead th {\n",
       "        text-align: right;\n",
       "    }\n",
       "</style>\n",
       "<table border=\"1\" class=\"dataframe\">\n",
       "  <thead>\n",
       "    <tr style=\"text-align: right;\">\n",
       "      <th></th>\n",
       "      <th>0</th>\n",
       "      <th>1</th>\n",
       "      <th>2</th>\n",
       "      <th>3</th>\n",
       "      <th>4</th>\n",
       "      <th>5</th>\n",
       "      <th>6</th>\n",
       "      <th>7</th>\n",
       "      <th>8</th>\n",
       "      <th>9</th>\n",
       "      <th>...</th>\n",
       "      <th>1175</th>\n",
       "      <th>1176</th>\n",
       "      <th>1177</th>\n",
       "      <th>1178</th>\n",
       "      <th>1179</th>\n",
       "      <th>1180</th>\n",
       "      <th>1181</th>\n",
       "      <th>1182</th>\n",
       "      <th>1183</th>\n",
       "      <th>1184</th>\n",
       "    </tr>\n",
       "  </thead>\n",
       "  <tbody>\n",
       "    <tr>\n",
       "      <th>0</th>\n",
       "      <td>0.0</td>\n",
       "      <td>0.693147</td>\n",
       "      <td>0.0</td>\n",
       "      <td>0.693147</td>\n",
       "      <td>0.693147</td>\n",
       "      <td>0.0</td>\n",
       "      <td>0.0</td>\n",
       "      <td>0.693147</td>\n",
       "      <td>0.0</td>\n",
       "      <td>0.0</td>\n",
       "      <td>...</td>\n",
       "      <td>0.0</td>\n",
       "      <td>1.098612</td>\n",
       "      <td>0.693147</td>\n",
       "      <td>0.0</td>\n",
       "      <td>0.0</td>\n",
       "      <td>0.0</td>\n",
       "      <td>0.693147</td>\n",
       "      <td>0.0</td>\n",
       "      <td>0.0</td>\n",
       "      <td>0.693147</td>\n",
       "    </tr>\n",
       "  </tbody>\n",
       "</table>\n",
       "<p>1 rows × 1185 columns</p>\n",
       "</div>"
      ],
      "text/plain": [
       "   0         1     2         3         4     5     6         7     8     9     \\\n",
       "0   0.0  0.693147   0.0  0.693147  0.693147   0.0   0.0  0.693147   0.0   0.0   \n",
       "\n",
       "   ...  1175      1176      1177  1178  1179  1180      1181  1182  1183  \\\n",
       "0  ...   0.0  1.098612  0.693147   0.0   0.0   0.0  0.693147   0.0   0.0   \n",
       "\n",
       "       1184  \n",
       "0  0.693147  \n",
       "\n",
       "[1 rows x 1185 columns]"
      ]
     },
     "execution_count": 24,
     "metadata": {},
     "output_type": "execute_result"
    }
   ],
   "source": [
    "df_test = pd.DataFrame(dl_test.dataset.data.to('cpu'))\n",
    "df_test.head(1)"
   ]
  },
  {
   "cell_type": "code",
   "execution_count": 19,
   "id": "f55be8c6",
   "metadata": {},
   "outputs": [
    {
     "data": {
      "text/html": [
       "<div>\n",
       "<style scoped>\n",
       "    .dataframe tbody tr th:only-of-type {\n",
       "        vertical-align: middle;\n",
       "    }\n",
       "\n",
       "    .dataframe tbody tr th {\n",
       "        vertical-align: top;\n",
       "    }\n",
       "\n",
       "    .dataframe thead th {\n",
       "        text-align: right;\n",
       "    }\n",
       "</style>\n",
       "<table border=\"1\" class=\"dataframe\">\n",
       "  <thead>\n",
       "    <tr style=\"text-align: right;\">\n",
       "      <th></th>\n",
       "      <th>0</th>\n",
       "      <th>1</th>\n",
       "      <th>2</th>\n",
       "      <th>3</th>\n",
       "      <th>4</th>\n",
       "      <th>5</th>\n",
       "      <th>6</th>\n",
       "      <th>7</th>\n",
       "      <th>8</th>\n",
       "      <th>9</th>\n",
       "      <th>...</th>\n",
       "      <th>1175</th>\n",
       "      <th>1176</th>\n",
       "      <th>1177</th>\n",
       "      <th>1178</th>\n",
       "      <th>1179</th>\n",
       "      <th>1180</th>\n",
       "      <th>1181</th>\n",
       "      <th>1182</th>\n",
       "      <th>1183</th>\n",
       "      <th>1184</th>\n",
       "    </tr>\n",
       "  </thead>\n",
       "  <tbody>\n",
       "    <tr>\n",
       "      <th>0</th>\n",
       "      <td>0.59935</td>\n",
       "      <td>0.974985</td>\n",
       "      <td>0.978322</td>\n",
       "      <td>0.97757</td>\n",
       "      <td>0.974359</td>\n",
       "      <td>0.741697</td>\n",
       "      <td>0.941436</td>\n",
       "      <td>0.860837</td>\n",
       "      <td>0.922654</td>\n",
       "      <td>0.94961</td>\n",
       "      <td>...</td>\n",
       "      <td>0.895405</td>\n",
       "      <td>0.96693</td>\n",
       "      <td>0.94286</td>\n",
       "      <td>0.723971</td>\n",
       "      <td>0.903497</td>\n",
       "      <td>0.76264</td>\n",
       "      <td>0.881921</td>\n",
       "      <td>0.895229</td>\n",
       "      <td>0.908059</td>\n",
       "      <td>0.934601</td>\n",
       "    </tr>\n",
       "  </tbody>\n",
       "</table>\n",
       "<p>1 rows × 1185 columns</p>\n",
       "</div>"
      ],
      "text/plain": [
       "      0         1         2        3         4         5         6     \\\n",
       "0  0.59935  0.974985  0.978322  0.97757  0.974359  0.741697  0.941436   \n",
       "\n",
       "       7         8        9     ...      1175     1176     1177      1178  \\\n",
       "0  0.860837  0.922654  0.94961  ...  0.895405  0.96693  0.94286  0.723971   \n",
       "\n",
       "       1179     1180      1181      1182      1183      1184  \n",
       "0  0.903497  0.76264  0.881921  0.895229  0.908059  0.934601  \n",
       "\n",
       "[1 rows x 1185 columns]"
      ]
     },
     "execution_count": 19,
     "metadata": {},
     "output_type": "execute_result"
    }
   ],
   "source": [
    "df_test_preds.head(1)"
   ]
  },
  {
   "cell_type": "markdown",
   "id": "6a2b03aa",
   "metadata": {},
   "source": [
    "## Errors Distribution "
   ]
  },
  {
   "cell_type": "markdown",
   "id": "4f7022bd",
   "metadata": {},
   "source": [
    "## Spots Errors Distribution "
   ]
  },
  {
   "cell_type": "markdown",
   "id": "919f7a39",
   "metadata": {},
   "source": [
    "## Genes Errors Distribution "
   ]
  },
  {
   "cell_type": "markdown",
   "id": "6226f4c3",
   "metadata": {},
   "source": [
    "## Errors Heat Map "
   ]
  },
  {
   "cell_type": "code",
   "execution_count": null,
   "id": "d8d9aaea",
   "metadata": {},
   "outputs": [],
   "source": []
  }
 ],
 "metadata": {
  "kernelspec": {
   "display_name": "Python 3 (ipykernel)",
   "language": "python",
   "name": "python3"
  },
  "language_info": {
   "codemirror_mode": {
    "name": "ipython",
    "version": 3
   },
   "file_extension": ".py",
   "mimetype": "text/x-python",
   "name": "python",
   "nbconvert_exporter": "python",
   "pygments_lexer": "ipython3",
   "version": "3.8.14"
  }
 },
 "nbformat": 4,
 "nbformat_minor": 5
}
