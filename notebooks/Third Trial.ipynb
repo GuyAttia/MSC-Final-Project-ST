{
 "cells": [
  {
   "cell_type": "markdown",
   "metadata": {
    "id": "rrsJ--rOj_yJ"
   },
   "source": [
    "# Imports"
   ]
  },
  {
   "cell_type": "code",
   "execution_count": null,
   "metadata": {
    "colab": {
     "base_uri": "https://localhost:8080/"
    },
    "executionInfo": {
     "elapsed": 521,
     "status": "ok",
     "timestamp": 1645041280051,
     "user": {
      "displayName": "sofi budman",
      "photoUrl": "https://lh3.googleusercontent.com/a-/AOh14GjgwGJyBpmRHwEa349uQk-436Picyu2Y4sr1rMFSY0=s64",
      "userId": "09764764631934161053"
     },
     "user_tz": -120
    },
    "id": "CanD8ixgj_yK",
    "outputId": "b47fa8b5-afd2-47ed-dbc2-d39f2efef62e"
   },
   "outputs": [],
   "source": [
    "from os import path, listdir\n",
    "from copy import deepcopy\n",
    "import stlearn as st\n",
    "import numpy as np\n",
    "import pandas as pd\n",
    "import seaborn as sns\n",
    "import torch\n",
    "import matplotlib.pyplot as plt\n",
    "import cv2\n",
    "from sklearn.model_selection import train_test_split\n",
    "from sklearn.preprocessing import OrdinalEncoder\n",
    "from torch import tensor\n",
    "from torch.utils.data import DataLoader, Dataset\n",
    "import torch.optim as optim\n",
    "\n",
    "%load_ext autoreload\n",
    "%autoreload 2\n",
    "\n",
    "from scanpy_stlearn_loaders import StlearnLoader\n",
    "import trainer as trainer\n",
    "from data import get_data\n",
    "from models import get_model\n",
    "from tester import tester\n",
    "from loss import *"
   ]
  },
  {
   "cell_type": "code",
   "execution_count": null,
   "metadata": {
    "colab": {
     "base_uri": "https://localhost:8080/"
    },
    "executionInfo": {
     "elapsed": 618,
     "status": "ok",
     "timestamp": 1644504258886,
     "user": {
      "displayName": "sofi budman",
      "photoUrl": "https://lh3.googleusercontent.com/a-/AOh14GjgwGJyBpmRHwEa349uQk-436Picyu2Y4sr1rMFSY0=s64",
      "userId": "09764764631934161053"
     },
     "user_tz": -120
    },
    "id": "ueuPQkjoj_yL",
    "outputId": "80a13698-73f2-47f2-f861-57bdab6aa4a7"
   },
   "outputs": [],
   "source": [
    "plt.rcParams.update({'font.size': 12})\n",
    "device = torch.device('cuda' if torch.cuda.is_available() else 'cpu')\n",
    "print('Using device:', device)"
   ]
  },
  {
   "cell_type": "markdown",
   "metadata": {},
   "source": [
    "# Load Data "
   ]
  },
  {
   "cell_type": "code",
   "execution_count": 3,
   "metadata": {},
   "outputs": [],
   "source": [
    "dataset_name = 'Visium_Mouse_Olfactory_Bulb'"
   ]
  },
  {
   "cell_type": "markdown",
   "metadata": {},
   "source": [
    "## Genes-Spots Expression Values "
   ]
  },
  {
   "cell_type": "code",
   "execution_count": 4,
   "metadata": {},
   "outputs": [
    {
     "name": "stderr",
     "output_type": "stream",
     "text": [
      "/usr/local/lib/python3.8/site-packages/anndata/_core/anndata.py:1830: UserWarning: Variable names are not unique. To make them unique, call `.var_names_make_unique`.\n",
      "  utils.warn_names_duplicates(\"var\")\n"
     ]
    },
    {
     "name": "stdout",
     "output_type": "stream",
     "text": [
      "# spots: 1185 | # genes: 32285\n"
     ]
    },
    {
     "data": {
      "text/plain": [
       "AnnData object with n_obs × n_vars = 1185 × 32285\n",
       "    obs: 'in_tissue', 'array_row', 'array_col', 'imagecol', 'imagerow'\n",
       "    var: 'gene_ids', 'feature_types', 'genome'\n",
       "    uns: 'spatial'\n",
       "    obsm: 'spatial'\n",
       "    layers: 'raw_count'"
      ]
     },
     "execution_count": 4,
     "metadata": {},
     "output_type": "execute_result"
    }
   ],
   "source": [
    "obj = StlearnLoader().load_local_visum(path=path.join('/', 'data', dataset_name),\n",
    "                                      count_file='filtered_feature_bc_matrix.h5')\n",
    "obj.layers[\"raw_count\"] = obj.X\n",
    "x = obj.X.toarray()\n",
    "n_spots, n_genes = x.shape\n",
    "print(f'# spots: {n_spots} | # genes: {n_genes}')\n",
    "obj"
   ]
  },
  {
   "cell_type": "markdown",
   "metadata": {},
   "source": [
    "# Filter Genes\n",
    "- min_cells = Keep genes with at least X spots with non zero expression (x[spot, gene] > 0)\n",
    "- min_counts = Keep genes with at least X expressions (sum of expression over all spots) (sum(x[:, gene]) > X)"
   ]
  },
  {
   "cell_type": "code",
   "execution_count": 5,
   "metadata": {},
   "outputs": [
    {
     "name": "stdout",
     "output_type": "stream",
     "text": [
      "Keep genes with at least 1167 non zero spots\n",
      "# spots: 1185 | # genes: 96\n"
     ]
    }
   ],
   "source": [
    "# Keep genes with at least 15% non zero spots\n",
    "min_cells = int(n_spots * 0.985)\n",
    "print(f'Keep genes with at least {min_cells} non zero spots')\n",
    "st.pp.filter_genes(obj, min_cells=min_cells)\n",
    "x = obj.X.toarray()\n",
    "n_spots, n_genes = x.shape\n",
    "print(f'# spots: {n_spots} | # genes: {n_genes}')"
   ]
  },
  {
   "cell_type": "code",
   "execution_count": 6,
   "metadata": {},
   "outputs": [
    {
     "name": "stdout",
     "output_type": "stream",
     "text": [
      "Keep genes with total expression of at least 10 over all spots\n",
      "# spots: 1185 | # genes: 96\n"
     ]
    }
   ],
   "source": [
    "min_counts = 10\n",
    "print(f'Keep genes with total expression of at least {min_counts} over all spots')\n",
    "st.pp.filter_genes(obj, min_counts=min_counts)\n",
    "x = obj.X.toarray()\n",
    "n_spots, n_genes = x.shape\n",
    "print(f'# spots: {n_spots} | # genes: {n_genes}')"
   ]
  },
  {
   "cell_type": "code",
   "execution_count": 9,
   "metadata": {},
   "outputs": [],
   "source": [
    "obj.raw = obj"
   ]
  },
  {
   "cell_type": "markdown",
   "metadata": {},
   "source": [
    "## Log Transform Expressions "
   ]
  },
  {
   "cell_type": "code",
   "execution_count": 10,
   "metadata": {},
   "outputs": [],
   "source": [
    "x = np.log(x+1)"
   ]
  },
  {
   "cell_type": "markdown",
   "metadata": {},
   "source": [
    "# Generate Expression DF"
   ]
  },
  {
   "cell_type": "markdown",
   "metadata": {},
   "source": [
    "## Transfer Matrix to DF "
   ]
  },
  {
   "cell_type": "code",
   "execution_count": 11,
   "metadata": {},
   "outputs": [
    {
     "name": "stdout",
     "output_type": "stream",
     "text": [
      "shape: (113760, 3)\n"
     ]
    },
    {
     "data": {
      "text/plain": [
       "count    113760.000000\n",
       "mean          3.175853\n",
       "std           1.138551\n",
       "min           0.000000\n",
       "25%           2.484907\n",
       "50%           3.178054\n",
       "75%           3.806663\n",
       "max           7.599401\n",
       "Name: expression, dtype: float64"
      ]
     },
     "metadata": {},
     "output_type": "display_data"
    },
    {
     "data": {
      "text/html": [
       "<div>\n",
       "<style scoped>\n",
       "    .dataframe tbody tr th:only-of-type {\n",
       "        vertical-align: middle;\n",
       "    }\n",
       "\n",
       "    .dataframe tbody tr th {\n",
       "        vertical-align: top;\n",
       "    }\n",
       "\n",
       "    .dataframe thead th {\n",
       "        text-align: right;\n",
       "    }\n",
       "</style>\n",
       "<table border=\"1\" class=\"dataframe\">\n",
       "  <thead>\n",
       "    <tr style=\"text-align: right;\">\n",
       "      <th></th>\n",
       "      <th>spot</th>\n",
       "      <th>gene</th>\n",
       "      <th>expression</th>\n",
       "    </tr>\n",
       "  </thead>\n",
       "  <tbody>\n",
       "    <tr>\n",
       "      <th>0</th>\n",
       "      <td>AAACAAGTATCTCCCA-1</td>\n",
       "      <td>Rpl37a</td>\n",
       "      <td>0.000000</td>\n",
       "    </tr>\n",
       "    <tr>\n",
       "      <th>1</th>\n",
       "      <td>AAACAAGTATCTCCCA-1</td>\n",
       "      <td>Dbi</td>\n",
       "      <td>0.000000</td>\n",
       "    </tr>\n",
       "    <tr>\n",
       "      <th>2</th>\n",
       "      <td>AAACAAGTATCTCCCA-1</td>\n",
       "      <td>Glul</td>\n",
       "      <td>0.693147</td>\n",
       "    </tr>\n",
       "    <tr>\n",
       "      <th>3</th>\n",
       "      <td>AAACAAGTATCTCCCA-1</td>\n",
       "      <td>Atp1a2</td>\n",
       "      <td>1.098612</td>\n",
       "    </tr>\n",
       "    <tr>\n",
       "      <th>4</th>\n",
       "      <td>AAACAAGTATCTCCCA-1</td>\n",
       "      <td>Ptgds</td>\n",
       "      <td>2.197225</td>\n",
       "    </tr>\n",
       "  </tbody>\n",
       "</table>\n",
       "</div>"
      ],
      "text/plain": [
       "                 spot    gene  expression\n",
       "0  AAACAAGTATCTCCCA-1  Rpl37a    0.000000\n",
       "1  AAACAAGTATCTCCCA-1     Dbi    0.000000\n",
       "2  AAACAAGTATCTCCCA-1    Glul    0.693147\n",
       "3  AAACAAGTATCTCCCA-1  Atp1a2    1.098612\n",
       "4  AAACAAGTATCTCCCA-1   Ptgds    2.197225"
      ]
     },
     "execution_count": 11,
     "metadata": {},
     "output_type": "execute_result"
    }
   ],
   "source": [
    "spots_values = obj.obs.index.values\n",
    "genes_values = obj.var.index.values\n",
    "df_expressions_matrix = pd.DataFrame(x, columns=genes_values, index=spots_values)\n",
    "df_expressions = df_expressions_matrix.stack().reset_index()\n",
    "df_expressions.columns = ['spot', 'gene', 'expression']\n",
    "print(f'shape: {df_expressions.shape}')\n",
    "display(df_expressions['expression'].describe())\n",
    "df_expressions.head()"
   ]
  },
  {
   "cell_type": "code",
   "execution_count": 12,
   "metadata": {},
   "outputs": [
    {
     "data": {
      "image/png": "[encoded data removed]",
      "text/plain": [
       "<Figure size 1080x360 with 1 Axes>"
      ]
     },
     "metadata": {
      "needs_background": "light"
     },
     "output_type": "display_data"
    }
   ],
   "source": [
    "plt.figure(figsize=(15, 5))\n",
    "df_expressions.loc[df_expressions['expression'] < 10, 'expression'].plot.hist(bins=10)\n",
    "plt.title('Gene-Spot expression histogram')\n",
    "plt.show()"
   ]
  },
  {
   "cell_type": "markdown",
   "metadata": {},
   "source": [
    "## Encode Genes and Spots "
   ]
  },
  {
   "cell_type": "code",
   "execution_count": 13,
   "metadata": {},
   "outputs": [
    {
     "data": {
      "text/html": [
       "<div>\n",
       "<style scoped>\n",
       "    .dataframe tbody tr th:only-of-type {\n",
       "        vertical-align: middle;\n",
       "    }\n",
       "\n",
       "    .dataframe tbody tr th {\n",
       "        vertical-align: top;\n",
       "    }\n",
       "\n",
       "    .dataframe thead th {\n",
       "        text-align: right;\n",
       "    }\n",
       "</style>\n",
       "<table border=\"1\" class=\"dataframe\">\n",
       "  <thead>\n",
       "    <tr style=\"text-align: right;\">\n",
       "      <th></th>\n",
       "      <th>spot</th>\n",
       "      <th>gene</th>\n",
       "      <th>expression</th>\n",
       "    </tr>\n",
       "  </thead>\n",
       "  <tbody>\n",
       "    <tr>\n",
       "      <th>0</th>\n",
       "      <td>0</td>\n",
       "      <td>56</td>\n",
       "      <td>0.000000</td>\n",
       "    </tr>\n",
       "    <tr>\n",
       "      <th>1</th>\n",
       "      <td>0</td>\n",
       "      <td>15</td>\n",
       "      <td>0.000000</td>\n",
       "    </tr>\n",
       "    <tr>\n",
       "      <th>2</th>\n",
       "      <td>0</td>\n",
       "      <td>23</td>\n",
       "      <td>0.693147</td>\n",
       "    </tr>\n",
       "    <tr>\n",
       "      <th>3</th>\n",
       "      <td>0</td>\n",
       "      <td>4</td>\n",
       "      <td>1.098612</td>\n",
       "    </tr>\n",
       "    <tr>\n",
       "      <th>4</th>\n",
       "      <td>0</td>\n",
       "      <td>36</td>\n",
       "      <td>2.197225</td>\n",
       "    </tr>\n",
       "  </tbody>\n",
       "</table>\n",
       "</div>"
      ],
      "text/plain": [
       "   spot  gene  expression\n",
       "0     0    56    0.000000\n",
       "1     0    15    0.000000\n",
       "2     0    23    0.693147\n",
       "3     0     4    1.098612\n",
       "4     0    36    2.197225"
      ]
     },
     "execution_count": 13,
     "metadata": {},
     "output_type": "execute_result"
    }
   ],
   "source": [
    "# Ordinal encoding the genes and spots for supported type\n",
    "oe_genes = OrdinalEncoder()\n",
    "df_expressions[['gene']] = oe_genes.fit_transform(df_expressions[['gene']].values)\n",
    "oe_spots = OrdinalEncoder()\n",
    "df_expressions[['spot']] = oe_spots.fit_transform(df_expressions[['spot']].values)\n",
    "\n",
    "df_expressions[['spot', 'gene']] = df_expressions[['spot', 'gene']].astype(int)\n",
    "df_expressions.head()"
   ]
  },
  {
   "cell_type": "markdown",
   "metadata": {},
   "source": [
    "## Find Spots Neighbors"
   ]
  },
  {
   "cell_type": "code",
   "execution_count": 56,
   "metadata": {},
   "outputs": [
    {
     "data": {
      "text/html": [
       "<div>\n",
       "<style scoped>\n",
       "    .dataframe tbody tr th:only-of-type {\n",
       "        vertical-align: middle;\n",
       "    }\n",
       "\n",
       "    .dataframe tbody tr th {\n",
       "        vertical-align: top;\n",
       "    }\n",
       "\n",
       "    .dataframe thead th {\n",
       "        text-align: right;\n",
       "    }\n",
       "</style>\n",
       "<table border=\"1\" class=\"dataframe\">\n",
       "  <thead>\n",
       "    <tr style=\"text-align: right;\">\n",
       "      <th></th>\n",
       "      <th>spot_name</th>\n",
       "      <th>array_row</th>\n",
       "      <th>array_col</th>\n",
       "      <th>spot_encoding</th>\n",
       "    </tr>\n",
       "  </thead>\n",
       "  <tbody>\n",
       "    <tr>\n",
       "      <th>0</th>\n",
       "      <td>AAACAAGTATCTCCCA-1</td>\n",
       "      <td>50</td>\n",
       "      <td>102</td>\n",
       "      <td>0</td>\n",
       "    </tr>\n",
       "    <tr>\n",
       "      <th>1</th>\n",
       "      <td>AAACCGGGTAGGTACC-1</td>\n",
       "      <td>42</td>\n",
       "      <td>28</td>\n",
       "      <td>1</td>\n",
       "    </tr>\n",
       "  </tbody>\n",
       "</table>\n",
       "</div>"
      ],
      "text/plain": [
       "            spot_name  array_row  array_col  spot_encoding\n",
       "0  AAACAAGTATCTCCCA-1         50        102              0\n",
       "1  AAACCGGGTAGGTACC-1         42         28              1"
      ]
     },
     "execution_count": 56,
     "metadata": {},
     "output_type": "execute_result"
    }
   ],
   "source": [
    "df_spots = obj.obs[['array_row', 'array_col']].reset_index(drop=False).rename(columns={'index': 'spot_name'})\n",
    "df_spots[['spot_encoding']] = oe_spots.transform(df_spots[['spot_name']].values)\n",
    "df_spots['spot_encoding'] = df_spots['spot_encoding'].astype(int)\n",
    "df_spots.head(2)"
   ]
  },
  {
   "cell_type": "code",
   "execution_count": 158,
   "metadata": {},
   "outputs": [
    {
     "data": {
      "text/plain": [
       "([219, 329], [791, 637, 1148, 154, 662])"
      ]
     },
     "execution_count": 158,
     "metadata": {},
     "output_type": "execute_result"
    }
   ],
   "source": [
    "def find_spots_neighbors(spot_encoding):   \n",
    "    # Get spot location\n",
    "    mask = df_spots['spot_encoding'] == spot_encoding\n",
    "    row, col = df_spots.loc[mask, ['array_row', 'array_col']].values[0]\n",
    "    \n",
    "    # Get 1st degree neighbors\n",
    "    first_degree_neighbors = []\n",
    "    first_degree_tuples = [(2, 0), (-2, 0), (0, 2), (0, -2)]\n",
    "    for tup in first_degree_tuples:\n",
    "        mask = (df_spots['array_row'] == row+tup[0]) & (df_spots['array_col'] == col+tup[1])\n",
    "        neighbor_encoding = df_spots.loc[mask, 'spot_encoding'].values\n",
    "        if neighbor_encoding.size > 0:\n",
    "            first_degree_neighbors.append(neighbor_encoding[0])\n",
    "    \n",
    "    # Get 1st degree neighbors\n",
    "    second_degree_neighbors = []\n",
    "    second_degree_tuples = [(4, 0), (-4, 0), (0, 4), (0, -4), (1, 1), (-1, -1), (1, -1), (-1, 1)]\n",
    "    for tup in second_degree_tuples:\n",
    "        mask = (df_spots['array_row'] == (row+tup[0])) & (df_spots['array_col'] == (col+tup[1]))\n",
    "        neighbor_encoding = df_spots.loc[mask, 'spot_encoding'].values\n",
    "        if neighbor_encoding.size > 0:\n",
    "            second_degree_neighbors.append(neighbor_encoding[0])\n",
    "   \n",
    "    return first_degree_neighbors, second_degree_neighbors\n",
    "    \n",
    "\n",
    "find_spots_neighbors(spot_encoding=0)"
   ]
  },
  {
   "cell_type": "code",
   "execution_count": 159,
   "metadata": {},
   "outputs": [
    {
     "data": {
      "text/html": [
       "<div>\n",
       "<style scoped>\n",
       "    .dataframe tbody tr th:only-of-type {\n",
       "        vertical-align: middle;\n",
       "    }\n",
       "\n",
       "    .dataframe tbody tr th {\n",
       "        vertical-align: top;\n",
       "    }\n",
       "\n",
       "    .dataframe thead th {\n",
       "        text-align: right;\n",
       "    }\n",
       "</style>\n",
       "<table border=\"1\" class=\"dataframe\">\n",
       "  <thead>\n",
       "    <tr style=\"text-align: right;\">\n",
       "      <th></th>\n",
       "      <th>0</th>\n",
       "      <th>1</th>\n",
       "      <th>2</th>\n",
       "      <th>3</th>\n",
       "      <th>4</th>\n",
       "      <th>5</th>\n",
       "      <th>6</th>\n",
       "      <th>7</th>\n",
       "      <th>8</th>\n",
       "      <th>9</th>\n",
       "      <th>...</th>\n",
       "      <th>1175</th>\n",
       "      <th>1176</th>\n",
       "      <th>1177</th>\n",
       "      <th>1178</th>\n",
       "      <th>1179</th>\n",
       "      <th>1180</th>\n",
       "      <th>1181</th>\n",
       "      <th>1182</th>\n",
       "      <th>1183</th>\n",
       "      <th>1184</th>\n",
       "    </tr>\n",
       "  </thead>\n",
       "  <tbody>\n",
       "    <tr>\n",
       "      <th>0</th>\n",
       "      <td>0.0</td>\n",
       "      <td>0.0</td>\n",
       "      <td>0.0</td>\n",
       "      <td>0.0</td>\n",
       "      <td>0.0</td>\n",
       "      <td>0.0</td>\n",
       "      <td>0.0</td>\n",
       "      <td>0.0</td>\n",
       "      <td>0.0</td>\n",
       "      <td>0.0</td>\n",
       "      <td>...</td>\n",
       "      <td>0.0</td>\n",
       "      <td>0.0</td>\n",
       "      <td>0.0</td>\n",
       "      <td>0.0</td>\n",
       "      <td>0.0</td>\n",
       "      <td>0.0</td>\n",
       "      <td>0.0</td>\n",
       "      <td>0.0</td>\n",
       "      <td>0.0</td>\n",
       "      <td>0.0</td>\n",
       "    </tr>\n",
       "    <tr>\n",
       "      <th>1</th>\n",
       "      <td>0.0</td>\n",
       "      <td>0.0</td>\n",
       "      <td>0.0</td>\n",
       "      <td>0.0</td>\n",
       "      <td>0.0</td>\n",
       "      <td>0.0</td>\n",
       "      <td>0.0</td>\n",
       "      <td>0.0</td>\n",
       "      <td>0.0</td>\n",
       "      <td>0.0</td>\n",
       "      <td>...</td>\n",
       "      <td>0.0</td>\n",
       "      <td>0.0</td>\n",
       "      <td>0.0</td>\n",
       "      <td>0.0</td>\n",
       "      <td>0.0</td>\n",
       "      <td>0.0</td>\n",
       "      <td>0.0</td>\n",
       "      <td>0.0</td>\n",
       "      <td>0.0</td>\n",
       "      <td>0.0</td>\n",
       "    </tr>\n",
       "    <tr>\n",
       "      <th>2</th>\n",
       "      <td>0.0</td>\n",
       "      <td>0.0</td>\n",
       "      <td>0.0</td>\n",
       "      <td>0.0</td>\n",
       "      <td>0.0</td>\n",
       "      <td>0.0</td>\n",
       "      <td>0.0</td>\n",
       "      <td>0.0</td>\n",
       "      <td>0.0</td>\n",
       "      <td>0.0</td>\n",
       "      <td>...</td>\n",
       "      <td>0.0</td>\n",
       "      <td>0.0</td>\n",
       "      <td>0.0</td>\n",
       "      <td>0.0</td>\n",
       "      <td>0.0</td>\n",
       "      <td>0.0</td>\n",
       "      <td>0.0</td>\n",
       "      <td>0.0</td>\n",
       "      <td>0.0</td>\n",
       "      <td>0.0</td>\n",
       "    </tr>\n",
       "    <tr>\n",
       "      <th>3</th>\n",
       "      <td>0.0</td>\n",
       "      <td>0.0</td>\n",
       "      <td>0.0</td>\n",
       "      <td>0.0</td>\n",
       "      <td>0.0</td>\n",
       "      <td>0.0</td>\n",
       "      <td>0.0</td>\n",
       "      <td>0.0</td>\n",
       "      <td>0.0</td>\n",
       "      <td>0.0</td>\n",
       "      <td>...</td>\n",
       "      <td>0.0</td>\n",
       "      <td>0.0</td>\n",
       "      <td>0.0</td>\n",
       "      <td>0.0</td>\n",
       "      <td>0.0</td>\n",
       "      <td>0.0</td>\n",
       "      <td>0.0</td>\n",
       "      <td>0.0</td>\n",
       "      <td>0.0</td>\n",
       "      <td>0.0</td>\n",
       "    </tr>\n",
       "    <tr>\n",
       "      <th>4</th>\n",
       "      <td>0.0</td>\n",
       "      <td>0.0</td>\n",
       "      <td>0.0</td>\n",
       "      <td>0.0</td>\n",
       "      <td>0.0</td>\n",
       "      <td>0.0</td>\n",
       "      <td>0.0</td>\n",
       "      <td>0.0</td>\n",
       "      <td>0.0</td>\n",
       "      <td>0.0</td>\n",
       "      <td>...</td>\n",
       "      <td>0.0</td>\n",
       "      <td>0.0</td>\n",
       "      <td>0.0</td>\n",
       "      <td>0.0</td>\n",
       "      <td>0.0</td>\n",
       "      <td>0.0</td>\n",
       "      <td>0.0</td>\n",
       "      <td>0.0</td>\n",
       "      <td>0.0</td>\n",
       "      <td>0.0</td>\n",
       "    </tr>\n",
       "  </tbody>\n",
       "</table>\n",
       "<p>5 rows × 1185 columns</p>\n",
       "</div>"
      ],
      "text/plain": [
       "   0     1     2     3     4     5     6     7     8     9     ...  1175  \\\n",
       "0   0.0   0.0   0.0   0.0   0.0   0.0   0.0   0.0   0.0   0.0  ...   0.0   \n",
       "1   0.0   0.0   0.0   0.0   0.0   0.0   0.0   0.0   0.0   0.0  ...   0.0   \n",
       "2   0.0   0.0   0.0   0.0   0.0   0.0   0.0   0.0   0.0   0.0  ...   0.0   \n",
       "3   0.0   0.0   0.0   0.0   0.0   0.0   0.0   0.0   0.0   0.0  ...   0.0   \n",
       "4   0.0   0.0   0.0   0.0   0.0   0.0   0.0   0.0   0.0   0.0  ...   0.0   \n",
       "\n",
       "   1176  1177  1178  1179  1180  1181  1182  1183  1184  \n",
       "0   0.0   0.0   0.0   0.0   0.0   0.0   0.0   0.0   0.0  \n",
       "1   0.0   0.0   0.0   0.0   0.0   0.0   0.0   0.0   0.0  \n",
       "2   0.0   0.0   0.0   0.0   0.0   0.0   0.0   0.0   0.0  \n",
       "3   0.0   0.0   0.0   0.0   0.0   0.0   0.0   0.0   0.0  \n",
       "4   0.0   0.0   0.0   0.0   0.0   0.0   0.0   0.0   0.0  \n",
       "\n",
       "[5 rows x 1185 columns]"
      ]
     },
     "metadata": {},
     "output_type": "display_data"
    },
    {
     "name": "stdout",
     "output_type": "stream",
     "text": [
      "(array([0., 1., 2.]), array([1390929,    4494,    8802]))\n"
     ]
    }
   ],
   "source": [
    "# Create spots-spots matrix\n",
    "n_spots = df_spots.shape[0]\n",
    "df_spots_neighbors = pd.DataFrame(np.zeros(shape=(n_spots, n_spots)))\n",
    "\n",
    "for spot_encoding in range(n_spots):\n",
    "    first_degree_neighbors, second_degree_neighbors = find_spots_neighbors(spot_encoding=spot_encoding)\n",
    "\n",
    "    if first_degree_neighbors:\n",
    "        df_spots_neighbors.iloc[spot_encoding, first_degree_neighbors] = 1\n",
    "    \n",
    "    if second_degree_neighbors:\n",
    "        df_spots_neighbors.iloc[spot_encoding].iloc[second_degree_neighbors] = 2\n",
    "\n",
    "display(df_spots_neighbors.head())\n",
    "print(np.unique(df_spots_neighbors.values, return_counts=True))"
   ]
  },
  {
   "cell_type": "code",
   "execution_count": 160,
   "metadata": {},
   "outputs": [
    {
     "data": {
      "text/plain": [
       "<AxesSubplot:>"
      ]
     },
     "execution_count": 160,
     "metadata": {},
     "output_type": "execute_result"
    },
    {
     "data": {
      "image/png": "[encoded data removed]",
      "text/plain": [
       "<Figure size 432x288 with 2 Axes>"
      ]
     },
     "metadata": {
      "needs_background": "light"
     },
     "output_type": "display_data"
    }
   ],
   "source": [
    "sns.heatmap(data=df_spots_neighbors)"
   ]
  },
  {
   "cell_type": "markdown",
   "metadata": {},
   "source": [
    "# Train Test Split "
   ]
  },
  {
   "cell_type": "code",
   "execution_count": null,
   "metadata": {},
   "outputs": [],
   "source": [
    "def plot_datasets_distribution(df_train, df_valid, df_test):\n",
    "    print(f'Split to train, valid, and test:\\nTrain shape:{df_train.shape}\\nValid shape:{df_valid.shape}\\nTest shape:{df_test.shape}')\n",
    "    f, axs = plt.subplots(1, 3, figsize=(19, 5), sharey=True, sharex=True)\n",
    "    df_train.loc[df_train['expression'] < 10, 'expression'].value_counts(normalize=True).sort_index().plot.bar(ax=axs[0])\n",
    "    df_valid.loc[df_valid['expression'] < 10, 'expression'].value_counts(normalize=True).sort_index().plot.bar(ax=axs[1])\n",
    "    df_test.loc[df_test['expression'] < 10, 'expression'].value_counts(normalize=True).sort_index().plot.bar(ax=axs[2])\n",
    "    axs[0].set_title(f'Train Expression Dist | Avg Expression: {df_train[\"expression\"].mean():.2f}')\n",
    "    axs[1].set_title(f'Valid Expression Dist | Avg Expression: {df_valid[\"expression\"].mean():.2f}')\n",
    "    axs[2].set_title(f'Test Expression Dist | Avg Expression: {df_test[\"expression\"].mean():.2f}')\n",
    "    plt.show()"
   ]
  },
  {
   "cell_type": "markdown",
   "metadata": {},
   "source": [
    "## Normal Random"
   ]
  },
  {
   "cell_type": "code",
   "execution_count": null,
   "metadata": {},
   "outputs": [],
   "source": [
    "df_train, df_test = train_test_split(df_expressions, test_size=0.10)\n",
    "df_train, df_valid = train_test_split(df_train, test_size=0.10)"
   ]
  },
  {
   "cell_type": "code",
   "execution_count": null,
   "metadata": {
    "scrolled": false
   },
   "outputs": [],
   "source": [
    "plot_datasets_distribution(df_train, df_valid, df_test)\n",
    "print('We can see that the train, valid and test datasets share the same expression distribution')"
   ]
  },
  {
   "cell_type": "markdown",
   "metadata": {},
   "source": [
    "# Create Pytorch Data Loaders"
   ]
  },
  {
   "cell_type": "code",
   "execution_count": null,
   "metadata": {},
   "outputs": [],
   "source": [
    "batch_size = 128"
   ]
  },
  {
   "cell_type": "markdown",
   "metadata": {},
   "source": [
    "## Generate DataSets "
   ]
  },
  {
   "cell_type": "code",
   "execution_count": null,
   "metadata": {},
   "outputs": [],
   "source": [
    "class ExpressionDataset(Dataset):\n",
    "    \"\"\"\n",
    "    Generate expression dataset to use in the our models, where each sample should be a tuple of (gene, spot, expression)\n",
    "    \"\"\"\n",
    "\n",
    "    def __init__(self, df, device):\n",
    "        self.num_samples = len(df)\n",
    "        self.genes = tensor(df['gene'].values).to(device)\n",
    "        self.spots = tensor(df['spot'].values).to(device)\n",
    "        self.labels = tensor(df['expression'].values)\n",
    "        self.num_genes = df['gene'].max()\n",
    "        self.num_spots = df['spot'].max()\n",
    "\n",
    "    def __getitem__(self, index):\n",
    "        gene = self.genes[index]\n",
    "        spot = self.spots[index]\n",
    "        label = self.labels[index].item()\n",
    "        return gene, spot, label\n",
    "\n",
    "    def __len__(self):\n",
    "        return self.num_samples\n",
    "\n",
    "    def get_all_data(self):\n",
    "        return self.genes, self.spots, self.labels"
   ]
  },
  {
   "cell_type": "code",
   "execution_count": null,
   "metadata": {},
   "outputs": [],
   "source": [
    "ds_train = ExpressionDataset(df=df_train, device=device)\n",
    "ds_valid = ExpressionDataset(df=df_valid, device=device)\n",
    "ds_test = ExpressionDataset(df=df_test, device=device)"
   ]
  },
  {
   "cell_type": "markdown",
   "metadata": {},
   "source": [
    "## DataSets to DataLoaders "
   ]
  },
  {
   "cell_type": "code",
   "execution_count": null,
   "metadata": {},
   "outputs": [],
   "source": [
    "dl_train = DataLoader(dataset=ds_train, batch_size=batch_size, shuffle=True)\n",
    "dl_valid = DataLoader(dataset=ds_valid, batch_size=batch_size, shuffle=True)\n",
    "dl_test = DataLoader(dataset=ds_test, batch_size=batch_size, shuffle=True)"
   ]
  },
  {
   "cell_type": "markdown",
   "metadata": {},
   "source": [
    "# Load Model"
   ]
  },
  {
   "cell_type": "code",
   "execution_count": null,
   "metadata": {},
   "outputs": [],
   "source": [
    "dl_train_exp = dl_train\n",
    "dl_valid_exp = dl_valid\n",
    "dl_test_exp = dl_test"
   ]
  },
  {
   "cell_type": "code",
   "execution_count": null,
   "metadata": {},
   "outputs": [],
   "source": [
    "model_name='NMF'\n",
    "params = {\n",
    "    'learning_rate': 0.001,\n",
    "    'optimizer': \"SGD\",\n",
    "    'latent_dim': 10,\n",
    "    'batch_size': batch_size\n",
    "}"
   ]
  },
  {
   "cell_type": "code",
   "execution_count": null,
   "metadata": {},
   "outputs": [],
   "source": [
    "model = get_model(model_name=model_name, params=params, dl_train=dl_train_exp)"
   ]
  },
  {
   "cell_type": "markdown",
   "metadata": {},
   "source": [
    "# Train Model "
   ]
  },
  {
   "cell_type": "code",
   "execution_count": null,
   "metadata": {},
   "outputs": [],
   "source": [
    "max_epochs = 5\n",
    "early_stopping = 4"
   ]
  },
  {
   "cell_type": "markdown",
   "metadata": {},
   "source": [
    "## Load Optimizer "
   ]
  },
  {
   "cell_type": "code",
   "execution_count": null,
   "metadata": {},
   "outputs": [],
   "source": [
    "optimizer = getattr(optim, params['optimizer'])(model.parameters(), lr=params['learning_rate'])\n",
    "criterion = NON_ZERO_RMSELoss()"
   ]
  },
  {
   "cell_type": "markdown",
   "metadata": {},
   "source": [
    "## Train"
   ]
  },
  {
   "cell_type": "code",
   "execution_count": null,
   "metadata": {},
   "outputs": [],
   "source": [
    "model, valid_loss = trainer.trainer(\n",
    "    model=model, \n",
    "    optimizer=optimizer, \n",
    "    criterion=criterion,\n",
    "    max_epochs=max_epochs, \n",
    "    early_stopping=early_stopping, \n",
    "    dl_train=dl_train_exp, \n",
    "    dl_test=dl_valid_exp, \n",
    "    device=device, \n",
    "    dataset_name=dataset_name, \n",
    "    model_name=model_name\n",
    ")"
   ]
  },
  {
   "cell_type": "code",
   "execution_count": null,
   "metadata": {},
   "outputs": [],
   "source": [
    "train_res = 4.55\n",
    "valid_res = 4.58\n",
    "print(f'Train final results (after log transform) = {train_res}')\n",
    "print(f'Train final results = {np.exp(train_res)}')\n",
    "print(f'Valid final results (after log transform) = {valid_res}')\n",
    "print(f'Valid final results = {np.exp(valid_res)}')"
   ]
  },
  {
   "cell_type": "markdown",
   "metadata": {},
   "source": [
    "## Test "
   ]
  },
  {
   "cell_type": "code",
   "execution_count": null,
   "metadata": {},
   "outputs": [],
   "source": [
    "test_loss = tester(\n",
    "    model=model,\n",
    "    dl_test=dl_test_exp,\n",
    "    device=device\n",
    ")\n",
    "print(f'Test loss (after log transform) = {test_loss}')\n",
    "print(f'Test loss = {np.exp(test_loss)}')"
   ]
  },
  {
   "cell_type": "markdown",
   "metadata": {},
   "source": [
    "## Reconstruction of the train matrix"
   ]
  },
  {
   "cell_type": "code",
   "execution_count": null,
   "metadata": {},
   "outputs": [],
   "source": [
    "all_gens = []\n",
    "all_spots = []\n",
    "expressions_train = []\n",
    "log_transform = True\n",
    "\n",
    "for set_dl in [dl_train_exp, dl_valid_exp, dl_test_exp]:\n",
    "    for batch in set_dl:\n",
    "        gens, spots, y = batch\n",
    "        gens.to(device)\n",
    "        spots.to(device)\n",
    "        \n",
    "        if log_transform:\n",
    "                y = torch.exp(y)\n",
    "\n",
    "        all_gens.extend(gens.tolist())\n",
    "        all_spots.extend(spots.tolist())\n",
    "        if (set_dl == dl_valid_exp) or (set_dl == dl_test_exp):\n",
    "            y_zeros = torch.zeros(size=y.shape)\n",
    "            expressions_train.extend(y_zeros.tolist())\n",
    "        else:\n",
    "            expressions_train.extend(y.tolist())"
   ]
  },
  {
   "cell_type": "code",
   "execution_count": null,
   "metadata": {},
   "outputs": [],
   "source": [
    "df_expressions_train = pd.DataFrame({'gene': all_gens, 'spot': all_spots, 'expression': expressions_train})\n",
    "df_expressions_train[['gene']] = oe_genes.inverse_transform(df_expressions_train[['gene']].values)\n",
    "df_expressions_train[['spot']] = oe_spots.inverse_transform(df_expressions_train[['spot']].values)"
   ]
  },
  {
   "cell_type": "code",
   "execution_count": null,
   "metadata": {},
   "outputs": [],
   "source": [
    "df_expressions_train_matrix = df_expressions_train.pivot(index='spot', columns='gene', values='expression')"
   ]
  },
  {
   "cell_type": "code",
   "execution_count": null,
   "metadata": {},
   "outputs": [],
   "source": [
    "new_obj_train = deepcopy(obj)\n",
    "tmp_genes_locations = [obj.var.index.get_loc(key=gene_key) for gene_key in df_expressions_train_matrix.columns]"
   ]
  },
  {
   "cell_type": "code",
   "execution_count": null,
   "metadata": {},
   "outputs": [],
   "source": [
    "# Replace the values\n",
    "new_obj_train.X[:, tmp_genes_locations] = df_expressions_train_matrix.values"
   ]
  },
  {
   "cell_type": "markdown",
   "metadata": {},
   "source": [
    "## Clustering The Train Dataset"
   ]
  },
  {
   "cell_type": "code",
   "execution_count": null,
   "metadata": {},
   "outputs": [],
   "source": [
    "st.pp.normalize_total(new_obj_train)\n",
    "st.pp.log1p(new_obj_train)"
   ]
  },
  {
   "cell_type": "code",
   "execution_count": null,
   "metadata": {},
   "outputs": [],
   "source": [
    "# run PCA for gene expression data\n",
    "st.em.run_pca(new_obj_train, n_comps=50)\n",
    "# K-means clustering\n",
    "st.tl.clustering.kmeans(new_obj_train, n_clusters=7, use_data=\"X_pca\", key_added=\"X_pca_kmeans\")"
   ]
  },
  {
   "cell_type": "code",
   "execution_count": null,
   "metadata": {},
   "outputs": [],
   "source": [
    "colors_map_dict = {\n",
    "    '#1f77b4': 1, # Blue\n",
    "    '#f87f13': 0, # Orange\n",
    "    '#359c62': 3, # Green\n",
    "    '#d32929': 4, # Red\n",
    "    '#69308e': 5, # Purple\n",
    "    '#8c564c': 6, # Brown\n",
    "    '#f33ca9': 2  # Pink\n",
    "}\n",
    "clusters_colors = [c[0] for c in sorted(colors_map_dict.items(), key=lambda i: i[1])]"
   ]
  },
  {
   "cell_type": "code",
   "execution_count": null,
   "metadata": {
    "scrolled": true
   },
   "outputs": [],
   "source": [
    "new_obj_train.uns['X_pca_kmeans_colors'] = clusters_colors"
   ]
  },
  {
   "cell_type": "code",
   "execution_count": null,
   "metadata": {
    "scrolled": true
   },
   "outputs": [],
   "source": [
    "f = plt.figure()\n",
    "st.pl.cluster_plot(new_obj_train, use_label=\"X_pca_kmeans\")\n",
    "plt.title('Train')\n",
    "plt.show()"
   ]
  },
  {
   "cell_type": "markdown",
   "metadata": {},
   "source": [
    "## Reconstruction of the whole matrix"
   ]
  },
  {
   "cell_type": "code",
   "execution_count": null,
   "metadata": {},
   "outputs": [],
   "source": [
    "model = model.to(device)\n",
    "model.eval()\n",
    "\n",
    "all_gens = []\n",
    "all_spots = []\n",
    "expressions_pred = []\n",
    "expressions_true = []\n",
    "log_transform = True\n",
    "\n",
    "with torch.no_grad():\n",
    "    for set_dl in [dl_train_exp, dl_valid_exp, dl_test_exp]:\n",
    "        for batch in set_dl:\n",
    "            gens, spots, y = batch\n",
    "            gens.to(device)\n",
    "            spots.to(device)\n",
    "            y_pred = model(gens, spots)\n",
    "            \n",
    "            if log_transform:\n",
    "                y = torch.exp(y)\n",
    "                y_pred = torch.exp(y_pred)\n",
    "            \n",
    "            y_pred = np.clip(a=y_pred, a_min=0, a_max=None)\n",
    "                \n",
    "            all_gens.extend(gens.tolist())\n",
    "            all_spots.extend(spots.tolist())\n",
    "            expressions_pred.extend(y_pred.tolist())\n",
    "            expressions_true.extend(y.tolist())"
   ]
  },
  {
   "cell_type": "code",
   "execution_count": null,
   "metadata": {},
   "outputs": [],
   "source": [
    "df_expressions_preds = pd.DataFrame({'gene': all_gens, 'spot': all_spots, 'expression': expressions_pred})\n",
    "df_expressions_preds[['gene']] = oe_genes.inverse_transform(df_expressions_preds[['gene']].values)\n",
    "df_expressions_preds[['spot']] = oe_spots.inverse_transform(df_expressions_preds[['spot']].values)"
   ]
  },
  {
   "cell_type": "code",
   "execution_count": null,
   "metadata": {},
   "outputs": [],
   "source": [
    "df_expressions_true = df_expressions_preds.copy()\n",
    "df_expressions_true['expression'] = expressions_true"
   ]
  },
  {
   "cell_type": "code",
   "execution_count": null,
   "metadata": {},
   "outputs": [],
   "source": [
    "df_expressions_preds_matrix = df_expressions_preds.pivot(index='spot', columns='gene', values='expression')\n",
    "df_expressions_true_matrix = df_expressions_true.pivot(index='spot', columns='gene', values='expression')"
   ]
  },
  {
   "cell_type": "code",
   "execution_count": null,
   "metadata": {},
   "outputs": [],
   "source": [
    "f, (ax1, ax2) = plt.subplots(1, 2, figsize=(19, 6))\n",
    "df_expressions_true.expression.hist(ax=ax1)\n",
    "df_expressions_preds.expression.hist(ax=ax2)\n",
    "ax1.set_title('True Genes Expression Histogram')\n",
    "ax2.set_title('Prediction Genes Expression Histogram')\n",
    "plt.show()"
   ]
  },
  {
   "cell_type": "code",
   "execution_count": null,
   "metadata": {},
   "outputs": [],
   "source": [
    "new_obj = deepcopy(obj)\n",
    "tmp_genes_locations = [obj.var.index.get_loc(key=gene_key) for gene_key in df_expressions_true_matrix.columns]"
   ]
  },
  {
   "cell_type": "code",
   "execution_count": null,
   "metadata": {},
   "outputs": [],
   "source": [
    "# Replace the values\n",
    "new_obj.X[:, tmp_genes_locations] = df_expressions_preds_matrix.values"
   ]
  },
  {
   "cell_type": "code",
   "execution_count": null,
   "metadata": {
    "scrolled": true
   },
   "outputs": [],
   "source": [
    "for gene_symbol in top_genes_names[:5]:\n",
    "    f, (ax1, ax2) = plt.subplots(1, 2, figsize=(17, 8))\n",
    "    st.pl.gene_plot(obj, gene_symbols=gene_symbol, size=20, ax=ax1)\n",
    "    ax1.set_title('True Expression')\n",
    "    st.pl.gene_plot(new_obj, gene_symbols=gene_symbol, size=20, ax=ax2)\n",
    "    ax2.set_title('Reconstructed Expression')\n",
    "    print(f'Gene: {gene_symbol}')\n",
    "    plt.show()"
   ]
  },
  {
   "cell_type": "markdown",
   "metadata": {},
   "source": [
    "## Clustering Full Reconstructed"
   ]
  },
  {
   "cell_type": "code",
   "execution_count": null,
   "metadata": {},
   "outputs": [],
   "source": [
    "new_obj_clusters = deepcopy(new_obj)"
   ]
  },
  {
   "cell_type": "code",
   "execution_count": null,
   "metadata": {},
   "outputs": [],
   "source": [
    "st.pp.normalize_total(new_obj_clusters)\n",
    "st.pp.log1p(new_obj_clusters)"
   ]
  },
  {
   "cell_type": "code",
   "execution_count": null,
   "metadata": {},
   "outputs": [],
   "source": [
    "# run PCA for gene expression data\n",
    "st.em.run_pca(new_obj_clusters, n_comps=50)\n",
    "# K-means clustering\n",
    "st.tl.clustering.kmeans(new_obj_clusters, n_clusters=7, use_data=\"X_pca\", key_added=\"X_pca_kmeans\")"
   ]
  },
  {
   "cell_type": "code",
   "execution_count": null,
   "metadata": {},
   "outputs": [],
   "source": [
    "colors_map_dict = {\n",
    "    '#1f77b4': 1, # Blue\n",
    "    '#f87f13': 0, # Orange\n",
    "    '#359c62': 3, # Green\n",
    "    '#d32929': 4, # Red\n",
    "    '#69308e': 5, # Purple\n",
    "    '#8c564c': 6, # Brown\n",
    "    '#f33ca9': 2  # Pink\n",
    "}\n",
    "clusters_colors = [c[0] for c in sorted(colors_map_dict.items(), key=lambda i: i[1])]"
   ]
  },
  {
   "cell_type": "code",
   "execution_count": null,
   "metadata": {
    "scrolled": true
   },
   "outputs": [],
   "source": [
    "new_obj_train.uns['X_pca_kmeans_colors'] = clusters_colors"
   ]
  },
  {
   "cell_type": "code",
   "execution_count": null,
   "metadata": {},
   "outputs": [],
   "source": [
    "f = plt.figure()\n",
    "st.pl.cluster_plot(new_obj_clusters, use_label=\"X_pca_kmeans\")\n",
    "plt.title('Reconstructed')"
   ]
  }
 ],
 "metadata": {
  "accelerator": "GPU",
  "colab": {
   "collapsed_sections": [],
   "machine_shape": "hm",
   "name": "main_MF.ipynb",
   "provenance": []
  },
  "interpreter": {
   "hash": "8fa3c1106efc00f2c52b2a02cc212ceecaeaa00ccc3be33bf7c9b17ece6d5fb5"
  },
  "kernelspec": {
   "display_name": "Python 3 (ipykernel)",
   "language": "python",
   "name": "python3"
  },
  "language_info": {
   "codemirror_mode": {
    "name": "ipython",
    "version": 3
   },
   "file_extension": ".py",
   "mimetype": "text/x-python",
   "name": "python",
   "nbconvert_exporter": "python",
   "pygments_lexer": "ipython3",
   "version": "3.8.13"
  }
 },
 "nbformat": 4,
 "nbformat_minor": 1
}
