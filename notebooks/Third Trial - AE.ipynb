{
 "cells": [
  {
   "cell_type": "markdown",
   "metadata": {
    "id": "rrsJ--rOj_yJ"
   },
   "source": [
    "# Imports"
   ]
  },
  {
   "cell_type": "code",
   "execution_count": null,
   "metadata": {
    "colab": {
     "base_uri": "https://localhost:8080/"
    },
    "executionInfo": {
     "elapsed": 521,
     "status": "ok",
     "timestamp": 1645041280051,
     "user": {
      "displayName": "sofi budman",
      "photoUrl": "https://lh3.googleusercontent.com/a-/AOh14GjgwGJyBpmRHwEa349uQk-436Picyu2Y4sr1rMFSY0=s64",
      "userId": "09764764631934161053"
     },
     "user_tz": -120
    },
    "id": "CanD8ixgj_yK",
    "outputId": "b47fa8b5-afd2-47ed-dbc2-d39f2efef62e"
   },
   "outputs": [],
   "source": [
    "from os import path, listdir\n",
    "from copy import deepcopy\n",
    "import stlearn as st\n",
    "import numpy as np\n",
    "import pandas as pd\n",
    "import seaborn as sns\n",
    "import torch\n",
    "import matplotlib.pyplot as plt\n",
    "import cv2\n",
    "from sklearn.model_selection import train_test_split\n",
    "from sklearn.preprocessing import OrdinalEncoder\n",
    "from torch import tensor\n",
    "from torch.utils.data import DataLoader, Dataset\n",
    "import torch.optim as optim\n",
    "\n",
    "%load_ext autoreload\n",
    "%autoreload 2\n",
    "\n",
    "from trainer_ae import trainer_ae\n",
    "from data import get_data\n",
    "from models import get_model\n",
    "from tester_ae import tester_ae\n",
    "from loss import *"
   ]
  },
  {
   "cell_type": "code",
   "execution_count": null,
   "metadata": {
    "colab": {
     "base_uri": "https://localhost:8080/"
    },
    "executionInfo": {
     "elapsed": 618,
     "status": "ok",
     "timestamp": 1644504258886,
     "user": {
      "displayName": "sofi budman",
      "photoUrl": "https://lh3.googleusercontent.com/a-/AOh14GjgwGJyBpmRHwEa349uQk-436Picyu2Y4sr1rMFSY0=s64",
      "userId": "09764764631934161053"
     },
     "user_tz": -120
    },
    "id": "ueuPQkjoj_yL",
    "outputId": "80a13698-73f2-47f2-f861-57bdab6aa4a7"
   },
   "outputs": [],
   "source": [
    "plt.rcParams.update({'font.size': 12})\n",
    "device = torch.device('cuda' if torch.cuda.is_available() else 'cpu')\n",
    "print('Using device:', device)"
   ]
  },
  {
   "cell_type": "markdown",
   "metadata": {},
   "source": [
    "# Load Data "
   ]
  },
  {
   "cell_type": "code",
   "execution_count": 3,
   "metadata": {},
   "outputs": [],
   "source": [
    "dataset_name = 'Visium_Mouse_Olfactory_Bulb'\n",
    "model_name='AE'\n",
    "batch_size=128"
   ]
  },
  {
   "cell_type": "code",
   "execution_count": null,
   "metadata": {},
   "outputs": [],
   "source": [
    "dl_train, dl_valid, dl_test = get_data(\n",
    "    model_name=model_name, \n",
    "    dataset_name=dataset_name, \n",
    "    batch_size=best_params, \n",
    "    device=device\n",
    ")"
   ]
  },
  {
   "cell_type": "markdown",
   "metadata": {},
   "source": [
    "# Load Model"
   ]
  },
  {
   "cell_type": "code",
   "execution_count": null,
   "metadata": {},
   "outputs": [],
   "source": [
    "params = {\n",
    "    'learning_rate': 0.1,\n",
    "    'optimizer': \"SGD\",\n",
    "    'latent_dim': 40,\n",
    "    'batch_size': batch_size\n",
    "}"
   ]
  },
  {
   "cell_type": "code",
   "execution_count": null,
   "metadata": {},
   "outputs": [],
   "source": [
    "model = get_model(model_name=model_name, params=params, dl_train=dl_train)"
   ]
  },
  {
   "cell_type": "markdown",
   "metadata": {},
   "source": [
    "# Train Model "
   ]
  },
  {
   "cell_type": "code",
   "execution_count": null,
   "metadata": {},
   "outputs": [],
   "source": [
    "max_epochs = 300\n",
    "early_stopping = 15"
   ]
  },
  {
   "cell_type": "markdown",
   "metadata": {},
   "source": [
    "## Load Optimizer "
   ]
  },
  {
   "cell_type": "code",
   "execution_count": null,
   "metadata": {},
   "outputs": [],
   "source": [
    "optimizer = getattr(optim, params['optimizer'])(model.parameters(), lr=params['learning_rate'])\n",
    "criterion = NON_ZERO_RMSELoss()"
   ]
  },
  {
   "cell_type": "markdown",
   "metadata": {},
   "source": [
    "## Train"
   ]
  },
  {
   "cell_type": "code",
   "execution_count": null,
   "metadata": {},
   "outputs": [],
   "source": [
    "model, valid_loss = trainer_ae(\n",
    "    model=model, \n",
    "    optimizer=optimizer, \n",
    "    criterion=criterion,\n",
    "    max_epochs=max_epochs, \n",
    "    early_stopping=early_stopping, \n",
    "    dl_train=dl_train, \n",
    "    dl_test=dl_valid, \n",
    "    device=device, \n",
    "    dataset_name=dataset_name, \n",
    "    model_name=model_name\n",
    ")"
   ]
  },
  {
   "cell_type": "code",
   "execution_count": null,
   "metadata": {},
   "outputs": [],
   "source": [
    "train_res = 4.55\n",
    "valid_res = 4.58\n",
    "print(f'Train final results (after log transform) = {train_res}')\n",
    "print(f'Train final results = {np.exp(train_res)}')\n",
    "print(f'Valid final results (after log transform) = {valid_res}')\n",
    "print(f'Valid final results = {np.exp(valid_res)}')"
   ]
  },
  {
   "cell_type": "markdown",
   "metadata": {},
   "source": [
    "## Test "
   ]
  },
  {
   "cell_type": "code",
   "execution_count": null,
   "metadata": {},
   "outputs": [],
   "source": [
    "loss_fn = RMSELoss()\n",
    "\n",
    "test_loss = tester_ae(\n",
    "    model=model,\n",
    "    dl_test=dl_test,\n",
    "    device=device,\n",
    "    loss_fn=loss_fn\n",
    ")\n",
    "print(f'Test loss (after log transform) = {test_loss}')\n",
    "print(f'Test loss = {np.exp(test_loss)}')"
   ]
  }
 ],
 "metadata": {
  "accelerator": "GPU",
  "colab": {
   "collapsed_sections": [],
   "machine_shape": "hm",
   "name": "main_MF.ipynb",
   "provenance": []
  },
  "kernelspec": {
   "display_name": "Python 3.9.12 64-bit",
   "language": "python",
   "name": "python3"
  },
  "language_info": {
   "codemirror_mode": {
    "name": "ipython",
    "version": 3
   },
   "file_extension": ".py",
   "mimetype": "text/x-python",
   "name": "python",
   "nbconvert_exporter": "python",
   "pygments_lexer": "ipython3",
   "version": "3.9.12"
  },
  "vscode": {
   "interpreter": {
    "hash": "aee8b7b246df8f9039afb4144a1f6fd8d2ca17a180786b69acc140d282b71a49"
   }
  }
 },
 "nbformat": 4,
 "nbformat_minor": 1
}
