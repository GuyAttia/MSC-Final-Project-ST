{
 "cells": [
  {
   "cell_type": "markdown",
   "metadata": {
    "id": "rrsJ--rOj_yJ"
   },
   "source": [
    "# Imports"
   ]
  },
  {
   "cell_type": "code",
   "execution_count": 1,
   "metadata": {
    "colab": {
     "base_uri": "https://localhost:8080/"
    },
    "executionInfo": {
     "elapsed": 521,
     "status": "ok",
     "timestamp": 1645041280051,
     "user": {
      "displayName": "sofi budman",
      "photoUrl": "https://lh3.googleusercontent.com/a-/AOh14GjgwGJyBpmRHwEa349uQk-436Picyu2Y4sr1rMFSY0=s64",
      "userId": "09764764631934161053"
     },
     "user_tz": -120
    },
    "id": "CanD8ixgj_yK",
    "outputId": "b47fa8b5-afd2-47ed-dbc2-d39f2efef62e"
   },
   "outputs": [],
   "source": [
    "from os import path, listdir\n",
    "from copy import deepcopy\n",
    "import stlearn as st\n",
    "import numpy as np\n",
    "import pandas as pd\n",
    "import seaborn as sns\n",
    "import torch\n",
    "import matplotlib.pyplot as plt\n",
    "import cv2\n",
    "from sklearn.model_selection import train_test_split\n",
    "from sklearn.preprocessing import OrdinalEncoder\n",
    "from torch import tensor\n",
    "from torch.utils.data import DataLoader, Dataset\n",
    "import torch.optim as optim\n",
    "\n",
    "%load_ext autoreload\n",
    "%autoreload 2\n",
    "\n",
    "from trainer_ae import trainer_ae\n",
    "from data import get_data\n",
    "from models import get_model\n",
    "from tester_ae import tester_ae\n",
    "from loss import *"
   ]
  },
  {
   "cell_type": "code",
   "execution_count": 2,
   "metadata": {
    "colab": {
     "base_uri": "https://localhost:8080/"
    },
    "executionInfo": {
     "elapsed": 618,
     "status": "ok",
     "timestamp": 1644504258886,
     "user": {
      "displayName": "sofi budman",
      "photoUrl": "https://lh3.googleusercontent.com/a-/AOh14GjgwGJyBpmRHwEa349uQk-436Picyu2Y4sr1rMFSY0=s64",
      "userId": "09764764631934161053"
     },
     "user_tz": -120
    },
    "id": "ueuPQkjoj_yL",
    "outputId": "80a13698-73f2-47f2-f861-57bdab6aa4a7"
   },
   "outputs": [
    {
     "name": "stdout",
     "output_type": "stream",
     "text": [
      "Using device: cuda\n"
     ]
    }
   ],
   "source": [
    "plt.rcParams.update({'font.size': 12})\n",
    "device = torch.device('cuda' if torch.cuda.is_available() else 'cpu')\n",
    "print('Using device:', device)"
   ]
  },
  {
   "cell_type": "markdown",
   "metadata": {},
   "source": [
    "# Load Data "
   ]
  },
  {
   "cell_type": "code",
   "execution_count": 3,
   "metadata": {},
   "outputs": [],
   "source": [
    "dataset_name = 'Visium_Mouse_Olfactory_Bulb'\n",
    "model_name='AE'\n",
    "batch_size=128"
   ]
  },
  {
   "cell_type": "code",
   "execution_count": 4,
   "metadata": {},
   "outputs": [
    {
     "name": "stderr",
     "output_type": "stream",
     "text": [
      "/usr/local/lib/python3.8/site-packages/anndata/_core/anndata.py:1830: UserWarning: Variable names are not unique. To make them unique, call `.var_names_make_unique`.\n",
      "  utils.warn_names_duplicates(\"var\")\n"
     ]
    },
    {
     "name": "stdout",
     "output_type": "stream",
     "text": [
      "# spots: 1185 | # genes: 32285\n",
      "New shape after filtering: (1185, 9528)\n",
      "Log transformation step is finished in adata.X\n",
      "Data shape: (11290680, 3)\n",
      "Number of genes: 9528\n",
      "Number of spots: 1185\n"
     ]
    }
   ],
   "source": [
    "dl_train, dl_valid, dl_test = get_data(\n",
    "    model_name=model_name, \n",
    "    dataset_name=dataset_name, \n",
    "    batch_size=batch_size, \n",
    "    device=device\n",
    ")"
   ]
  },
  {
   "cell_type": "markdown",
   "metadata": {},
   "source": [
    "# Load Model"
   ]
  },
  {
   "cell_type": "code",
   "execution_count": 5,
   "metadata": {},
   "outputs": [],
   "source": [
    "params = {\n",
    "    'learning_rate': 0.1,\n",
    "    'optimizer': \"SGD\",\n",
    "    'latent_dim': 40,\n",
    "    'batch_size': batch_size\n",
    "}"
   ]
  },
  {
   "cell_type": "code",
   "execution_count": 6,
   "metadata": {},
   "outputs": [],
   "source": [
    "model = get_model(model_name=model_name, params=params, dl_train=dl_train)"
   ]
  },
  {
   "cell_type": "markdown",
   "metadata": {},
   "source": [
    "# Train Model "
   ]
  },
  {
   "cell_type": "code",
   "execution_count": 7,
   "metadata": {},
   "outputs": [],
   "source": [
    "max_epochs = 300\n",
    "early_stopping = 15"
   ]
  },
  {
   "cell_type": "markdown",
   "metadata": {},
   "source": [
    "## Load Optimizer "
   ]
  },
  {
   "cell_type": "code",
   "execution_count": 8,
   "metadata": {},
   "outputs": [],
   "source": [
    "optimizer = getattr(optim, params['optimizer'])(model.parameters(), lr=params['learning_rate'])\n",
    "criterion = NON_ZERO_RMSELoss()"
   ]
  },
  {
   "cell_type": "markdown",
   "metadata": {},
   "source": [
    "## Train"
   ]
  },
  {
   "cell_type": "code",
   "execution_count": 9,
   "metadata": {
    "scrolled": true
   },
   "outputs": [
    {
     "name": "stderr",
     "output_type": "stream",
     "text": [
      "2022-09-17 06:18:46.881941: W tensorflow/stream_executor/platform/default/dso_loader.cc:64] Could not load dynamic library 'libcudart.so.11.0'; dlerror: libcudart.so.11.0: cannot open shared object file: No such file or directory; LD_LIBRARY_PATH: /usr/local/lib/python3.8/site-packages/cv2/../../lib64:\n",
      "2022-09-17 06:18:46.881986: I tensorflow/stream_executor/cuda/cudart_stub.cc:29] Ignore above cudart dlerror if you do not have a GPU set up on your machine.\n"
     ]
    },
    {
     "name": "stdout",
     "output_type": "stream",
     "text": [
      "Training Results - Epoch[1] Avg loss: 0.89\n",
      "Validation Results - Epoch[1] Avg loss: 0.89\n",
      "Training Results - Epoch[2] Avg loss: 0.86\n",
      "Validation Results - Epoch[2] Avg loss: 0.86\n",
      "Training Results - Epoch[3] Avg loss: 0.83\n",
      "Validation Results - Epoch[3] Avg loss: 0.84\n",
      "Training Results - Epoch[4] Avg loss: 0.81\n",
      "Validation Results - Epoch[4] Avg loss: 0.81\n",
      "Training Results - Epoch[5] Avg loss: 0.79\n",
      "Validation Results - Epoch[5] Avg loss: 0.79\n",
      "Training Results - Epoch[6] Avg loss: 0.78\n",
      "Validation Results - Epoch[6] Avg loss: 0.77\n",
      "Training Results - Epoch[7] Avg loss: 0.76\n",
      "Validation Results - Epoch[7] Avg loss: 0.76\n",
      "Training Results - Epoch[8] Avg loss: 0.75\n",
      "Validation Results - Epoch[8] Avg loss: 0.75\n",
      "Training Results - Epoch[9] Avg loss: 0.73\n",
      "Validation Results - Epoch[9] Avg loss: 0.74\n",
      "Training Results - Epoch[10] Avg loss: 0.73\n",
      "Validation Results - Epoch[10] Avg loss: 0.73\n",
      "Training Results - Epoch[11] Avg loss: 0.72\n",
      "Validation Results - Epoch[11] Avg loss: 0.72\n",
      "Training Results - Epoch[12] Avg loss: 0.71\n",
      "Validation Results - Epoch[12] Avg loss: 0.71\n",
      "Training Results - Epoch[13] Avg loss: 0.71\n",
      "Validation Results - Epoch[13] Avg loss: 0.71\n",
      "Training Results - Epoch[14] Avg loss: 0.70\n",
      "Validation Results - Epoch[14] Avg loss: 0.70\n",
      "Training Results - Epoch[15] Avg loss: 0.70\n",
      "Validation Results - Epoch[15] Avg loss: 0.70\n",
      "Training Results - Epoch[16] Avg loss: 0.69\n",
      "Validation Results - Epoch[16] Avg loss: 0.69\n",
      "Training Results - Epoch[17] Avg loss: 0.69\n",
      "Validation Results - Epoch[17] Avg loss: 0.69\n",
      "Training Results - Epoch[18] Avg loss: 0.69\n",
      "Validation Results - Epoch[18] Avg loss: 0.69\n",
      "Training Results - Epoch[19] Avg loss: 0.68\n",
      "Validation Results - Epoch[19] Avg loss: 0.68\n",
      "Training Results - Epoch[20] Avg loss: 0.68\n",
      "Validation Results - Epoch[20] Avg loss: 0.68\n",
      "Training Results - Epoch[21] Avg loss: 0.68\n",
      "Validation Results - Epoch[21] Avg loss: 0.68\n",
      "Training Results - Epoch[22] Avg loss: 0.68\n",
      "Validation Results - Epoch[22] Avg loss: 0.68\n",
      "Training Results - Epoch[23] Avg loss: 0.68\n",
      "Validation Results - Epoch[23] Avg loss: 0.68\n",
      "Training Results - Epoch[24] Avg loss: 0.68\n",
      "Validation Results - Epoch[24] Avg loss: 0.68\n",
      "Training Results - Epoch[25] Avg loss: 0.68\n",
      "Validation Results - Epoch[25] Avg loss: 0.68\n",
      "Training Results - Epoch[26] Avg loss: 0.68\n",
      "Validation Results - Epoch[26] Avg loss: 0.68\n",
      "Training Results - Epoch[27] Avg loss: 0.67\n",
      "Validation Results - Epoch[27] Avg loss: 0.67\n",
      "Training Results - Epoch[28] Avg loss: 0.67\n",
      "Validation Results - Epoch[28] Avg loss: 0.68\n",
      "Training Results - Epoch[29] Avg loss: 0.67\n",
      "Validation Results - Epoch[29] Avg loss: 0.68\n",
      "Training Results - Epoch[30] Avg loss: 0.67\n",
      "Validation Results - Epoch[30] Avg loss: 0.67\n",
      "Training Results - Epoch[31] Avg loss: 0.67\n",
      "Validation Results - Epoch[31] Avg loss: 0.67\n",
      "Training Results - Epoch[32] Avg loss: 0.67\n",
      "Validation Results - Epoch[32] Avg loss: 0.67\n",
      "Training Results - Epoch[33] Avg loss: 0.67\n",
      "Validation Results - Epoch[33] Avg loss: 0.67\n",
      "Training Results - Epoch[34] Avg loss: 0.67\n",
      "Validation Results - Epoch[34] Avg loss: 0.67\n",
      "Training Results - Epoch[35] Avg loss: 0.67\n",
      "Validation Results - Epoch[35] Avg loss: 0.67\n",
      "Training Results - Epoch[36] Avg loss: 0.67\n",
      "Validation Results - Epoch[36] Avg loss: 0.67\n",
      "Training Results - Epoch[37] Avg loss: 0.67\n",
      "Validation Results - Epoch[37] Avg loss: 0.67\n",
      "Training Results - Epoch[38] Avg loss: 0.67\n",
      "Validation Results - Epoch[38] Avg loss: 0.67\n",
      "Training Results - Epoch[39] Avg loss: 0.67\n",
      "Validation Results - Epoch[39] Avg loss: 0.67\n",
      "Training Results - Epoch[40] Avg loss: 0.67\n",
      "Validation Results - Epoch[40] Avg loss: 0.67\n",
      "Training Results - Epoch[41] Avg loss: 0.67\n",
      "Validation Results - Epoch[41] Avg loss: 0.67\n",
      "Training Results - Epoch[42] Avg loss: 0.67\n",
      "Validation Results - Epoch[42] Avg loss: 0.67\n",
      "Training Results - Epoch[43] Avg loss: 0.67\n",
      "Validation Results - Epoch[43] Avg loss: 0.67\n",
      "Training Results - Epoch[44] Avg loss: 0.67\n",
      "Validation Results - Epoch[44] Avg loss: 0.67\n",
      "Training Results - Epoch[45] Avg loss: 0.67\n",
      "Validation Results - Epoch[45] Avg loss: 0.67\n",
      "Training Results - Epoch[46] Avg loss: 0.67\n",
      "Validation Results - Epoch[46] Avg loss: 0.67\n",
      "Training Results - Epoch[47] Avg loss: 0.67\n",
      "Validation Results - Epoch[47] Avg loss: 0.67\n",
      "Training Results - Epoch[48] Avg loss: 0.67\n",
      "Validation Results - Epoch[48] Avg loss: 0.67\n",
      "Training Results - Epoch[49] Avg loss: 0.67\n",
      "Validation Results - Epoch[49] Avg loss: 0.67\n",
      "Training Results - Epoch[50] Avg loss: 0.67\n",
      "Validation Results - Epoch[50] Avg loss: 0.67\n",
      "Training Results - Epoch[51] Avg loss: 0.67\n",
      "Validation Results - Epoch[51] Avg loss: 0.67\n",
      "Training Results - Epoch[52] Avg loss: 0.67\n",
      "Validation Results - Epoch[52] Avg loss: 0.67\n"
     ]
    },
    {
     "name": "stderr",
     "output_type": "stream",
     "text": [
      "2022-09-17 06:19:14,576 ignite.handlers.early_stopping.EarlyStopping INFO: EarlyStopping: Stop training\n"
     ]
    },
    {
     "name": "stdout",
     "output_type": "stream",
     "text": [
      "Training Results - Epoch[53] Avg loss: 0.67\n",
      "Validation Results - Epoch[53] Avg loss: 0.67\n"
     ]
    }
   ],
   "source": [
    "model, valid_loss = trainer_ae(\n",
    "    model=model, \n",
    "    optimizer=optimizer, \n",
    "    criterion=criterion,\n",
    "    max_epochs=max_epochs, \n",
    "    early_stopping=early_stopping, \n",
    "    dl_train=dl_train, \n",
    "    dl_test=dl_valid, \n",
    "    device=device, \n",
    "    dataset_name=dataset_name, \n",
    "    model_name=model_name\n",
    ")"
   ]
  },
  {
   "cell_type": "code",
   "execution_count": 10,
   "metadata": {},
   "outputs": [
    {
     "name": "stdout",
     "output_type": "stream",
     "text": [
      "Train final results (after log transform) = 0.67\n",
      "Train final results = 1.9542373206359396\n",
      "Valid final results (after log transform) = 0.67\n",
      "Valid final results = 1.9542373206359396\n"
     ]
    }
   ],
   "source": [
    "train_res = 0.67\n",
    "valid_res = 0.67\n",
    "print(f'Train final results (after log transform) = {train_res}')\n",
    "print(f'Train final results = {np.exp(train_res)}')\n",
    "print(f'Valid final results (after log transform) = {valid_res}')\n",
    "print(f'Valid final results = {np.exp(valid_res)}')"
   ]
  },
  {
   "cell_type": "markdown",
   "metadata": {},
   "source": [
    "## Test "
   ]
  },
  {
   "cell_type": "code",
   "execution_count": 11,
   "metadata": {},
   "outputs": [
    {
     "name": "stdout",
     "output_type": "stream",
     "text": [
      "Test loss (after log transform) = 0.8169899582862854\n",
      "Test loss = 2.2636756896972656\n"
     ]
    }
   ],
   "source": [
    "loss_fn = RMSELoss()\n",
    "\n",
    "test_loss, _ = tester_ae(\n",
    "    model=model,\n",
    "    dl_test=dl_test,\n",
    "    device=device,\n",
    "    loss_fn=loss_fn\n",
    ")\n",
    "print(f'Test loss (after log transform) = {test_loss}')\n",
    "print(f'Test loss = {torch.exp(test_loss)}')"
   ]
  }
 ],
 "metadata": {
  "accelerator": "GPU",
  "colab": {
   "collapsed_sections": [],
   "machine_shape": "hm",
   "name": "main_MF.ipynb",
   "provenance": []
  },
  "kernelspec": {
   "display_name": "Python 3 (ipykernel)",
   "language": "python",
   "name": "python3"
  },
  "language_info": {
   "codemirror_mode": {
    "name": "ipython",
    "version": 3
   },
   "file_extension": ".py",
   "mimetype": "text/x-python",
   "name": "python",
   "nbconvert_exporter": "python",
   "pygments_lexer": "ipython3",
   "version": "3.8.13"
  },
  "vscode": {
   "interpreter": {
    "hash": "aee8b7b246df8f9039afb4144a1f6fd8d2ca17a180786b69acc140d282b71a49"
   }
  }
 },
 "nbformat": 4,
 "nbformat_minor": 1
}
