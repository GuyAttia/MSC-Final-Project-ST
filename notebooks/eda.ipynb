{
 "cells": [
  {
   "cell_type": "markdown",
   "metadata": {
    "id": "rrsJ--rOj_yJ"
   },
   "source": [
    "# Imports"
   ]
  },
  {
   "cell_type": "code",
   "execution_count": null,
   "metadata": {
    "colab": {
     "base_uri": "https://localhost:8080/"
    },
    "executionInfo": {
     "elapsed": 521,
     "status": "ok",
     "timestamp": 1645041280051,
     "user": {
      "displayName": "sofi budman",
      "photoUrl": "https://lh3.googleusercontent.com/a-/AOh14GjgwGJyBpmRHwEa349uQk-436Picyu2Y4sr1rMFSY0=s64",
      "userId": "09764764631934161053"
     },
     "user_tz": -120
    },
    "id": "CanD8ixgj_yK",
    "outputId": "b47fa8b5-afd2-47ed-dbc2-d39f2efef62e"
   },
   "outputs": [],
   "source": [
    "from os import path, listdir\n",
    "from copy import deepcopy\n",
    "import stlearn as st\n",
    "import numpy as np\n",
    "import pandas as pd\n",
    "import seaborn as sns\n",
    "import torch\n",
    "import matplotlib.pyplot as plt\n",
    "import cv2\n",
    "\n",
    "%load_ext autoreload\n",
    "%autoreload 2\n",
    "\n",
    "from scanpy_stlearn_loaders import StlearnLoader"
   ]
  },
  {
   "cell_type": "markdown",
   "metadata": {},
   "source": [
    "# Load Data "
   ]
  },
  {
   "cell_type": "code",
   "execution_count": null,
   "metadata": {},
   "outputs": [],
   "source": [
    "dataset_name = 'Visium_Mouse_Olfactory_Bulb'"
   ]
  },
  {
   "cell_type": "markdown",
   "metadata": {},
   "source": [
    "## Genes-Spots Expression Values "
   ]
  },
  {
   "cell_type": "code",
   "execution_count": null,
   "metadata": {},
   "outputs": [],
   "source": [
    "obj = StlearnLoader().load_local_visum(path=path.join('/', 'data', dataset_name),\n",
    "                                      count_file='filtered_feature_bc_matrix.h5')\n",
    "x = obj.X.toarray()\n",
    "n_spots, n_genes = x.shape\n",
    "print(f'# spots: {n_spots} | # genes: {n_genes}')\n",
    "obj"
   ]
  },
  {
   "cell_type": "markdown",
   "metadata": {},
   "source": [
    "## Spatial Images "
   ]
  },
  {
   "cell_type": "code",
   "execution_count": null,
   "metadata": {
    "scrolled": true
   },
   "outputs": [],
   "source": [
    "# Low resolution Images\n",
    "spatial_dir = path.join('/', 'data', dataset_name, 'spatial')\n",
    "for img in [k for k in listdir(spatial_dir) if k.endswith('.jpg') or k.endswith('.png')]:\n",
    "    plt.title(img)\n",
    "    plt.imshow(cv2.imread(path.join(spatial_dir, img)))\n",
    "    plt.show()\n",
    "    \n",
    "print('Spots:')\n",
    "display(obj.obs.head())"
   ]
  },
  {
   "cell_type": "markdown",
   "metadata": {},
   "source": [
    "## Full Resolution Image "
   ]
  },
  {
   "cell_type": "code",
   "execution_count": null,
   "metadata": {
    "scrolled": true
   },
   "outputs": [],
   "source": [
    "# Full Resultion Image\n",
    "\n",
    "from PIL import Image\n",
    "image_path = path.join('/', 'data', dataset_name, 'image.tif')\n",
    "im = Image.open(image_path)\n",
    "image_array = np.array(im)\n",
    "im.show()"
   ]
  },
  {
   "cell_type": "markdown",
   "metadata": {},
   "source": [
    "## Kmeans Clustering"
   ]
  },
  {
   "cell_type": "code",
   "execution_count": null,
   "metadata": {},
   "outputs": [],
   "source": [
    "st.pp.normalize_total(obj)\n",
    "st.pp.log1p(obj)\n",
    "# run PCA for gene expression data\n",
    "st.em.run_pca(obj, n_comps=50)\n",
    "# K-means clustering\n",
    "st.tl.clustering.kmeans(obj, n_clusters=7, use_data=\"X_pca\", key_added=\"X_pca_kmeans\")\n",
    "st.pl.cluster_plot(obj, use_label=\"X_pca_kmeans\")"
   ]
  },
  {
   "cell_type": "markdown",
   "metadata": {},
   "source": [
    "# Filter Genes\n",
    "- min_cells = Keep genes with at least X spots with non zero expression (x[spot, gene] > 0)\n",
    "- min_counts = Keep genes with at least X expressions (sum of expression over all spots) (sum(x[:, gene]) > X)"
   ]
  },
  {
   "cell_type": "code",
   "execution_count": null,
   "metadata": {},
   "outputs": [],
   "source": [
    "obj = StlearnLoader().load_local_visum(path=path.join('/', 'data', dataset_name),\n",
    "                                      count_file='filtered_feature_bc_matrix.h5')"
   ]
  },
  {
   "cell_type": "code",
   "execution_count": null,
   "metadata": {},
   "outputs": [],
   "source": [
    "# Keep genes with at least 15% non zero spots\n",
    "min_cells = int(n_spots * 0.15)\n",
    "print(f'Keep genes with at least {min_cells} non zero spots')\n",
    "st.pp.filter_genes(obj, min_cells=min_cells)\n",
    "x = obj.X.toarray()\n",
    "n_spots, n_genes = x.shape\n",
    "print(f'# spots: {n_spots} | # genes: {n_genes}')"
   ]
  },
  {
   "cell_type": "code",
   "execution_count": null,
   "metadata": {},
   "outputs": [],
   "source": [
    "min_counts = 10\n",
    "print(f'Keep genes with total expression of at least {min_counts} over all spots')\n",
    "st.pp.filter_genes(obj, min_counts=min_counts)\n",
    "x = obj.X.toarray()\n",
    "n_spots, n_genes = x.shape\n",
    "print(f'# spots: {n_spots} | # genes: {n_genes}')"
   ]
  },
  {
   "cell_type": "markdown",
   "metadata": {},
   "source": [
    "## Filtered Kmeans Clustering"
   ]
  },
  {
   "cell_type": "code",
   "execution_count": null,
   "metadata": {},
   "outputs": [],
   "source": [
    "st.pp.normalize_total(obj)\n",
    "st.pp.log1p(obj)\n",
    "# run PCA for gene expression data\n",
    "st.em.run_pca(obj, n_comps=50)\n",
    "# K-means clustering\n",
    "st.tl.clustering.kmeans(obj, n_clusters=7, use_data=\"X_pca\", key_added=\"X_pca_kmeans\")\n",
    "st.pl.cluster_plot(obj, use_label=\"X_pca_kmeans\")"
   ]
  },
  {
   "cell_type": "markdown",
   "metadata": {},
   "source": [
    "# EDA "
   ]
  },
  {
   "cell_type": "markdown",
   "metadata": {},
   "source": [
    "## Genes - Spots Info"
   ]
  },
  {
   "cell_type": "code",
   "execution_count": null,
   "metadata": {},
   "outputs": [],
   "source": [
    "print('Spots information')\n",
    "display(obj.obs.head())\n",
    "print('Genes information')\n",
    "display(obj.var.head())"
   ]
  },
  {
   "cell_type": "code",
   "execution_count": null,
   "metadata": {},
   "outputs": [],
   "source": [
    "print(f'All the spots in the matrix are in the tissue: \"in_tissue\" # unique values = {obj.obs.in_tissue.nunique()}')\n",
    "print(f'All the genes are from the same genome: \"genome\" # unique values = {obj.var.genome.nunique()}')"
   ]
  },
  {
   "cell_type": "markdown",
   "metadata": {},
   "source": [
    "## Expression over spots "
   ]
  },
  {
   "cell_type": "code",
   "execution_count": null,
   "metadata": {},
   "outputs": [],
   "source": [
    "def total_exp_over_spots(x):\n",
    "    plt.figure(figsize=(15, 6))\n",
    "    spots_total_exp = x.sum(axis=1)\n",
    "    sns.histplot(spots_total_exp)\n",
    "    plt.title('Total expression in spots (Histogram)')\n",
    "    plt.xlabel('Total Expression')\n",
    "    plt.ylabel('# of spots')\n",
    "    plt.show()"
   ]
  },
  {
   "cell_type": "code",
   "execution_count": null,
   "metadata": {},
   "outputs": [],
   "source": [
    "total_exp_over_spots(x)"
   ]
  },
  {
   "cell_type": "code",
   "execution_count": null,
   "metadata": {},
   "outputs": [],
   "source": [
    "def spots_sparsity(x):\n",
    "    plt.figure(figsize=(15, 6))\n",
    "    spots_exp_sparsity = (x.shape[1] - np.count_nonzero(x, axis=1)) / x.shape[1]\n",
    "    sns.histplot(spots_exp_sparsity)\n",
    "    plt.title('Spots Expression Sparsity (Histogram)')\n",
    "    plt.xlabel('% Sparsity (% of genes with zero expression)')\n",
    "    plt.ylabel('# of spots')\n",
    "    plt.show()"
   ]
  },
  {
   "cell_type": "code",
   "execution_count": null,
   "metadata": {},
   "outputs": [],
   "source": [
    "spots_sparsity(x)"
   ]
  },
  {
   "cell_type": "markdown",
   "metadata": {},
   "source": [
    "## Expression over genes"
   ]
  },
  {
   "cell_type": "code",
   "execution_count": null,
   "metadata": {},
   "outputs": [],
   "source": [
    "def total_exp_over_genes(x, logx=True, logy=True):\n",
    "    plt.figure(figsize=(15, 6))\n",
    "    genes_total_exp = x.sum(axis=0)\n",
    "    sns.histplot(genes_total_exp)\n",
    "    plt.title('Total expression in genes (Histogram)')\n",
    "    plt.xlabel('Total Expression')\n",
    "    plt.ylabel('# of genes')\n",
    "    if logy:\n",
    "        plt.yscale('log')\n",
    "    if logx:\n",
    "        plt.xscale('log')\n",
    "    plt.show()"
   ]
  },
  {
   "cell_type": "code",
   "execution_count": null,
   "metadata": {},
   "outputs": [],
   "source": [
    "total_exp_over_genes(x)"
   ]
  },
  {
   "cell_type": "code",
   "execution_count": null,
   "metadata": {},
   "outputs": [],
   "source": [
    "def genes_sparsity(x):\n",
    "    plt.figure(figsize=(15, 6))\n",
    "    genes_exp_sparsity = (x.shape[0] - np.count_nonzero(x, axis=0)) / x.shape[0]\n",
    "    sns.histplot(genes_exp_sparsity)\n",
    "    plt.title('Genes Expression Sparsity (Histogram)')\n",
    "    plt.xlabel('% Sparsity (% of spots with zero expression)')\n",
    "    plt.ylabel('# of genes')\n",
    "    plt.show()"
   ]
  },
  {
   "cell_type": "code",
   "execution_count": null,
   "metadata": {},
   "outputs": [],
   "source": [
    "genes_sparsity(x)"
   ]
  },
  {
   "cell_type": "markdown",
   "metadata": {},
   "source": [
    "## Unstructred "
   ]
  },
  {
   "cell_type": "code",
   "execution_count": null,
   "metadata": {},
   "outputs": [],
   "source": [
    "obj_unstructred = obj.uns['spatial']['Visium_Mouse_Olfactory_Bulb']"
   ]
  },
  {
   "cell_type": "code",
   "execution_count": null,
   "metadata": {},
   "outputs": [],
   "source": [
    "print(f\"Scale factors: \\n{obj_unstructred['scalefactors']}\")\n",
    "f, (ax1, ax2) = plt.subplots(1, 2, figsize=(19, 8))\n",
    "ax1.imshow(obj_unstructred['images']['hires'])\n",
    "ax1.set_title('Hires Image')\n",
    "ax2.imshow(obj_unstructred['images']['lowres'])\n",
    "ax2.set_title('Lowres Image')\n",
    "plt.show()"
   ]
  },
  {
   "cell_type": "markdown",
   "metadata": {},
   "source": [
    "## Genes Expressions "
   ]
  },
  {
   "cell_type": "markdown",
   "metadata": {},
   "source": [
    "### Top N Expressed Genes "
   ]
  },
  {
   "cell_type": "code",
   "execution_count": null,
   "metadata": {},
   "outputs": [],
   "source": [
    "N = 10\n",
    "genes_expressed = np.sum(x, axis=0) / (np.count_nonzero(x, axis=0) + 1)\n",
    "top_genes_indices = genes_expressed.argsort()[-N:][::-1]\n",
    "top_genes_names = obj.var.index[top_genes_indices]\n",
    "print(top_genes_names)\n",
    "top_genes_expression = x[:, top_genes_indices]\n",
    "top_genes_expression.shape"
   ]
  },
  {
   "cell_type": "code",
   "execution_count": null,
   "metadata": {},
   "outputs": [],
   "source": [
    "tmp = pd.DataFrame(top_genes_expression, columns=top_genes_names)\n",
    "tmp.plot.box(figsize=(15, 9), title='Top expressed genes', rot=90)\n",
    "plt.show()"
   ]
  },
  {
   "cell_type": "code",
   "execution_count": null,
   "metadata": {
    "scrolled": true
   },
   "outputs": [],
   "source": [
    "for gene_symbol in top_genes_names:\n",
    "    st.pl.gene_plot(obj, gene_symbols=gene_symbol, size=20, figsize=(12, 9))\n",
    "    plt.show()"
   ]
  },
  {
   "cell_type": "markdown",
   "metadata": {},
   "source": [
    "## Log expression "
   ]
  },
  {
   "cell_type": "code",
   "execution_count": null,
   "metadata": {},
   "outputs": [],
   "source": [
    "st.pp.log1p(obj)\n",
    "scaled_x = obj.X.toarray()\n",
    "obj"
   ]
  },
  {
   "cell_type": "code",
   "execution_count": null,
   "metadata": {},
   "outputs": [],
   "source": [
    "total_exp_over_spots(scaled_x)\n",
    "total_exp_over_genes(scaled_x, logx=False, logy=False)"
   ]
  }
 ],
 "metadata": {
  "accelerator": "GPU",
  "colab": {
   "collapsed_sections": [],
   "machine_shape": "hm",
   "name": "main_MF.ipynb",
   "provenance": []
  },
  "interpreter": {
   "hash": "8fa3c1106efc00f2c52b2a02cc212ceecaeaa00ccc3be33bf7c9b17ece6d5fb5"
  },
  "kernelspec": {
   "display_name": "Python 3 (ipykernel)",
   "language": "python",
   "name": "python3"
  },
  "language_info": {
   "codemirror_mode": {
    "name": "ipython",
    "version": 3
   },
   "file_extension": ".py",
   "mimetype": "text/x-python",
   "name": "python",
   "nbconvert_exporter": "python",
   "pygments_lexer": "ipython3",
   "version": "3.8.13"
  }
 },
 "nbformat": 4,
 "nbformat_minor": 1
}
