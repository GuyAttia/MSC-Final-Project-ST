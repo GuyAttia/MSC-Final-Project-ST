{
 "cells": [
  {
   "cell_type": "markdown",
   "metadata": {
    "id": "rrsJ--rOj_yJ"
   },
   "source": [
    "# Imports"
   ]
  },
  {
   "cell_type": "code",
   "execution_count": null,
   "metadata": {
    "colab": {
     "base_uri": "https://localhost:8080/"
    },
    "executionInfo": {
     "elapsed": 521,
     "status": "ok",
     "timestamp": 1645041280051,
     "user": {
      "displayName": "sofi budman",
      "photoUrl": "https://lh3.googleusercontent.com/a-/AOh14GjgwGJyBpmRHwEa349uQk-436Picyu2Y4sr1rMFSY0=s64",
      "userId": "09764764631934161053"
     },
     "user_tz": -120
    },
    "id": "CanD8ixgj_yK",
    "outputId": "b47fa8b5-afd2-47ed-dbc2-d39f2efef62e"
   },
   "outputs": [],
   "source": [
    "from os import path, listdir\n",
    "from copy import deepcopy\n",
    "import stlearn as st\n",
    "import numpy as np\n",
    "import pandas as pd\n",
    "import seaborn as sns\n",
    "import torch\n",
    "import matplotlib.pyplot as plt\n",
    "import cv2\n",
    "from sklearn.model_selection import train_test_split\n",
    "from sklearn.preprocessing import OrdinalEncoder\n",
    "from torch import tensor\n",
    "from torch.utils.data import DataLoader, Dataset\n",
    "import torch.optim as optim\n",
    "\n",
    "%load_ext autoreload\n",
    "%autoreload 2\n",
    "\n",
    "from scanpy_stlearn_loaders import StlearnLoader\n",
    "import trainer_ae as trainer\n",
    "from data import get_data\n",
    "from models import get_model\n",
    "from tester_ae import tester_ae\n",
    "from loss import *"
   ]
  },
  {
   "cell_type": "code",
   "execution_count": null,
   "metadata": {
    "colab": {
     "base_uri": "https://localhost:8080/"
    },
    "executionInfo": {
     "elapsed": 618,
     "status": "ok",
     "timestamp": 1644504258886,
     "user": {
      "displayName": "sofi budman",
      "photoUrl": "https://lh3.googleusercontent.com/a-/AOh14GjgwGJyBpmRHwEa349uQk-436Picyu2Y4sr1rMFSY0=s64",
      "userId": "09764764631934161053"
     },
     "user_tz": -120
    },
    "id": "ueuPQkjoj_yL",
    "outputId": "80a13698-73f2-47f2-f861-57bdab6aa4a7"
   },
   "outputs": [],
   "source": [
    "plt.rcParams.update({'font.size': 12})\n",
    "device = torch.device('cuda' if torch.cuda.is_available() else 'cpu')\n",
    "print('Using device:', device)"
   ]
  },
  {
   "cell_type": "markdown",
   "metadata": {},
   "source": [
    "# Load Data "
   ]
  },
  {
   "cell_type": "code",
   "execution_count": 3,
   "metadata": {},
   "outputs": [],
   "source": [
    "dataset_name = 'Visium_Mouse_Olfactory_Bulb'\n",
    "model_name = 'AE'\n",
    "batch_size = 128"
   ]
  },
  {
   "cell_type": "code",
   "execution_count": null,
   "metadata": {},
   "outputs": [],
   "source": [
    "dl_train, dl_valid, dl_test = get_data(model_name=model_name, dataset_name=dataset_name, batch_size=batch_size, device=device)"
   ]
  },
  {
   "cell_type": "markdown",
   "metadata": {},
   "source": [
    "## Find Spots Neighbors"
   ]
  },
  {
   "cell_type": "code",
   "execution_count": 56,
   "metadata": {},
   "outputs": [
    {
     "data": {
      "text/html": [
       "<div>\n",
       "<style scoped>\n",
       "    .dataframe tbody tr th:only-of-type {\n",
       "        vertical-align: middle;\n",
       "    }\n",
       "\n",
       "    .dataframe tbody tr th {\n",
       "        vertical-align: top;\n",
       "    }\n",
       "\n",
       "    .dataframe thead th {\n",
       "        text-align: right;\n",
       "    }\n",
       "</style>\n",
       "<table border=\"1\" class=\"dataframe\">\n",
       "  <thead>\n",
       "    <tr style=\"text-align: right;\">\n",
       "      <th></th>\n",
       "      <th>spot_name</th>\n",
       "      <th>array_row</th>\n",
       "      <th>array_col</th>\n",
       "      <th>spot_encoding</th>\n",
       "    </tr>\n",
       "  </thead>\n",
       "  <tbody>\n",
       "    <tr>\n",
       "      <th>0</th>\n",
       "      <td>AAACAAGTATCTCCCA-1</td>\n",
       "      <td>50</td>\n",
       "      <td>102</td>\n",
       "      <td>0</td>\n",
       "    </tr>\n",
       "    <tr>\n",
       "      <th>1</th>\n",
       "      <td>AAACCGGGTAGGTACC-1</td>\n",
       "      <td>42</td>\n",
       "      <td>28</td>\n",
       "      <td>1</td>\n",
       "    </tr>\n",
       "  </tbody>\n",
       "</table>\n",
       "</div>"
      ],
      "text/plain": [
       "            spot_name  array_row  array_col  spot_encoding\n",
       "0  AAACAAGTATCTCCCA-1         50        102              0\n",
       "1  AAACCGGGTAGGTACC-1         42         28              1"
      ]
     },
     "execution_count": 56,
     "metadata": {},
     "output_type": "execute_result"
    }
   ],
   "source": [
    "df_spots = obj.obs[['array_row', 'array_col']].reset_index(drop=False).rename(columns={'index': 'spot_name'})\n",
    "df_spots[['spot_encoding']] = oe_spots.transform(df_spots[['spot_name']].values)\n",
    "df_spots['spot_encoding'] = df_spots['spot_encoding'].astype(int)\n",
    "df_spots.head(2)"
   ]
  },
  {
   "cell_type": "code",
   "execution_count": 158,
   "metadata": {},
   "outputs": [
    {
     "data": {
      "text/plain": [
       "([219, 329], [791, 637, 1148, 154, 662])"
      ]
     },
     "execution_count": 158,
     "metadata": {},
     "output_type": "execute_result"
    }
   ],
   "source": [
    "def find_spots_neighbors(spot_encoding):   \n",
    "    # Get spot location\n",
    "    mask = df_spots['spot_encoding'] == spot_encoding\n",
    "    row, col = df_spots.loc[mask, ['array_row', 'array_col']].values[0]\n",
    "    \n",
    "    # Get 1st degree neighbors\n",
    "    first_degree_neighbors = []\n",
    "    first_degree_tuples = [(2, 0), (-2, 0), (0, 2), (0, -2)]\n",
    "    for tup in first_degree_tuples:\n",
    "        mask = (df_spots['array_row'] == row+tup[0]) & (df_spots['array_col'] == col+tup[1])\n",
    "        neighbor_encoding = df_spots.loc[mask, 'spot_encoding'].values\n",
    "        if neighbor_encoding.size > 0:\n",
    "            first_degree_neighbors.append(neighbor_encoding[0])\n",
    "    \n",
    "    # Get 1st degree neighbors\n",
    "    second_degree_neighbors = []\n",
    "    second_degree_tuples = [(4, 0), (-4, 0), (0, 4), (0, -4), (1, 1), (-1, -1), (1, -1), (-1, 1)]\n",
    "    for tup in second_degree_tuples:\n",
    "        mask = (df_spots['array_row'] == (row+tup[0])) & (df_spots['array_col'] == (col+tup[1]))\n",
    "        neighbor_encoding = df_spots.loc[mask, 'spot_encoding'].values\n",
    "        if neighbor_encoding.size > 0:\n",
    "            second_degree_neighbors.append(neighbor_encoding[0])\n",
    "   \n",
    "    return first_degree_neighbors, second_degree_neighbors\n",
    "    \n",
    "\n",
    "find_spots_neighbors(spot_encoding=0)"
   ]
  },
  {
   "cell_type": "code",
   "execution_count": 159,
   "metadata": {},
   "outputs": [
    {
     "data": {
      "text/html": [
       "<div>\n",
       "<style scoped>\n",
       "    .dataframe tbody tr th:only-of-type {\n",
       "        vertical-align: middle;\n",
       "    }\n",
       "\n",
       "    .dataframe tbody tr th {\n",
       "        vertical-align: top;\n",
       "    }\n",
       "\n",
       "    .dataframe thead th {\n",
       "        text-align: right;\n",
       "    }\n",
       "</style>\n",
       "<table border=\"1\" class=\"dataframe\">\n",
       "  <thead>\n",
       "    <tr style=\"text-align: right;\">\n",
       "      <th></th>\n",
       "      <th>0</th>\n",
       "      <th>1</th>\n",
       "      <th>2</th>\n",
       "      <th>3</th>\n",
       "      <th>4</th>\n",
       "      <th>5</th>\n",
       "      <th>6</th>\n",
       "      <th>7</th>\n",
       "      <th>8</th>\n",
       "      <th>9</th>\n",
       "      <th>...</th>\n",
       "      <th>1175</th>\n",
       "      <th>1176</th>\n",
       "      <th>1177</th>\n",
       "      <th>1178</th>\n",
       "      <th>1179</th>\n",
       "      <th>1180</th>\n",
       "      <th>1181</th>\n",
       "      <th>1182</th>\n",
       "      <th>1183</th>\n",
       "      <th>1184</th>\n",
       "    </tr>\n",
       "  </thead>\n",
       "  <tbody>\n",
       "    <tr>\n",
       "      <th>0</th>\n",
       "      <td>0.0</td>\n",
       "      <td>0.0</td>\n",
       "      <td>0.0</td>\n",
       "      <td>0.0</td>\n",
       "      <td>0.0</td>\n",
       "      <td>0.0</td>\n",
       "      <td>0.0</td>\n",
       "      <td>0.0</td>\n",
       "      <td>0.0</td>\n",
       "      <td>0.0</td>\n",
       "      <td>...</td>\n",
       "      <td>0.0</td>\n",
       "      <td>0.0</td>\n",
       "      <td>0.0</td>\n",
       "      <td>0.0</td>\n",
       "      <td>0.0</td>\n",
       "      <td>0.0</td>\n",
       "      <td>0.0</td>\n",
       "      <td>0.0</td>\n",
       "      <td>0.0</td>\n",
       "      <td>0.0</td>\n",
       "    </tr>\n",
       "    <tr>\n",
       "      <th>1</th>\n",
       "      <td>0.0</td>\n",
       "      <td>0.0</td>\n",
       "      <td>0.0</td>\n",
       "      <td>0.0</td>\n",
       "      <td>0.0</td>\n",
       "      <td>0.0</td>\n",
       "      <td>0.0</td>\n",
       "      <td>0.0</td>\n",
       "      <td>0.0</td>\n",
       "      <td>0.0</td>\n",
       "      <td>...</td>\n",
       "      <td>0.0</td>\n",
       "      <td>0.0</td>\n",
       "      <td>0.0</td>\n",
       "      <td>0.0</td>\n",
       "      <td>0.0</td>\n",
       "      <td>0.0</td>\n",
       "      <td>0.0</td>\n",
       "      <td>0.0</td>\n",
       "      <td>0.0</td>\n",
       "      <td>0.0</td>\n",
       "    </tr>\n",
       "    <tr>\n",
       "      <th>2</th>\n",
       "      <td>0.0</td>\n",
       "      <td>0.0</td>\n",
       "      <td>0.0</td>\n",
       "      <td>0.0</td>\n",
       "      <td>0.0</td>\n",
       "      <td>0.0</td>\n",
       "      <td>0.0</td>\n",
       "      <td>0.0</td>\n",
       "      <td>0.0</td>\n",
       "      <td>0.0</td>\n",
       "      <td>...</td>\n",
       "      <td>0.0</td>\n",
       "      <td>0.0</td>\n",
       "      <td>0.0</td>\n",
       "      <td>0.0</td>\n",
       "      <td>0.0</td>\n",
       "      <td>0.0</td>\n",
       "      <td>0.0</td>\n",
       "      <td>0.0</td>\n",
       "      <td>0.0</td>\n",
       "      <td>0.0</td>\n",
       "    </tr>\n",
       "    <tr>\n",
       "      <th>3</th>\n",
       "      <td>0.0</td>\n",
       "      <td>0.0</td>\n",
       "      <td>0.0</td>\n",
       "      <td>0.0</td>\n",
       "      <td>0.0</td>\n",
       "      <td>0.0</td>\n",
       "      <td>0.0</td>\n",
       "      <td>0.0</td>\n",
       "      <td>0.0</td>\n",
       "      <td>0.0</td>\n",
       "      <td>...</td>\n",
       "      <td>0.0</td>\n",
       "      <td>0.0</td>\n",
       "      <td>0.0</td>\n",
       "      <td>0.0</td>\n",
       "      <td>0.0</td>\n",
       "      <td>0.0</td>\n",
       "      <td>0.0</td>\n",
       "      <td>0.0</td>\n",
       "      <td>0.0</td>\n",
       "      <td>0.0</td>\n",
       "    </tr>\n",
       "    <tr>\n",
       "      <th>4</th>\n",
       "      <td>0.0</td>\n",
       "      <td>0.0</td>\n",
       "      <td>0.0</td>\n",
       "      <td>0.0</td>\n",
       "      <td>0.0</td>\n",
       "      <td>0.0</td>\n",
       "      <td>0.0</td>\n",
       "      <td>0.0</td>\n",
       "      <td>0.0</td>\n",
       "      <td>0.0</td>\n",
       "      <td>...</td>\n",
       "      <td>0.0</td>\n",
       "      <td>0.0</td>\n",
       "      <td>0.0</td>\n",
       "      <td>0.0</td>\n",
       "      <td>0.0</td>\n",
       "      <td>0.0</td>\n",
       "      <td>0.0</td>\n",
       "      <td>0.0</td>\n",
       "      <td>0.0</td>\n",
       "      <td>0.0</td>\n",
       "    </tr>\n",
       "  </tbody>\n",
       "</table>\n",
       "<p>5 rows × 1185 columns</p>\n",
       "</div>"
      ],
      "text/plain": [
       "   0     1     2     3     4     5     6     7     8     9     ...  1175  \\\n",
       "0   0.0   0.0   0.0   0.0   0.0   0.0   0.0   0.0   0.0   0.0  ...   0.0   \n",
       "1   0.0   0.0   0.0   0.0   0.0   0.0   0.0   0.0   0.0   0.0  ...   0.0   \n",
       "2   0.0   0.0   0.0   0.0   0.0   0.0   0.0   0.0   0.0   0.0  ...   0.0   \n",
       "3   0.0   0.0   0.0   0.0   0.0   0.0   0.0   0.0   0.0   0.0  ...   0.0   \n",
       "4   0.0   0.0   0.0   0.0   0.0   0.0   0.0   0.0   0.0   0.0  ...   0.0   \n",
       "\n",
       "   1176  1177  1178  1179  1180  1181  1182  1183  1184  \n",
       "0   0.0   0.0   0.0   0.0   0.0   0.0   0.0   0.0   0.0  \n",
       "1   0.0   0.0   0.0   0.0   0.0   0.0   0.0   0.0   0.0  \n",
       "2   0.0   0.0   0.0   0.0   0.0   0.0   0.0   0.0   0.0  \n",
       "3   0.0   0.0   0.0   0.0   0.0   0.0   0.0   0.0   0.0  \n",
       "4   0.0   0.0   0.0   0.0   0.0   0.0   0.0   0.0   0.0  \n",
       "\n",
       "[5 rows x 1185 columns]"
      ]
     },
     "metadata": {},
     "output_type": "display_data"
    },
    {
     "name": "stdout",
     "output_type": "stream",
     "text": [
      "(array([0., 1., 2.]), array([1390929,    4494,    8802]))\n"
     ]
    }
   ],
   "source": [
    "# Create spots-spots matrix\n",
    "n_spots = df_spots.shape[0]\n",
    "df_spots_neighbors = pd.DataFrame(np.zeros(shape=(n_spots, n_spots)))\n",
    "\n",
    "for spot_encoding in range(n_spots):\n",
    "    first_degree_neighbors, second_degree_neighbors = find_spots_neighbors(spot_encoding=spot_encoding)\n",
    "\n",
    "    if first_degree_neighbors:\n",
    "        df_spots_neighbors.iloc[spot_encoding, first_degree_neighbors] = 1\n",
    "    \n",
    "    if second_degree_neighbors:\n",
    "        df_spots_neighbors.iloc[spot_encoding].iloc[second_degree_neighbors] = 2\n",
    "\n",
    "display(df_spots_neighbors.head())\n",
    "print(np.unique(df_spots_neighbors.values, return_counts=True))"
   ]
  },
  {
   "cell_type": "code",
   "execution_count": 160,
   "metadata": {},
   "outputs": [
    {
     "data": {
      "text/plain": [
       "<AxesSubplot:>"
      ]
     },
     "execution_count": 160,
     "metadata": {},
     "output_type": "execute_result"
    },
    {
     "data": {
      "image/png": "[encoded data removed]",
      "text/plain": [
       "<Figure size 432x288 with 2 Axes>"
      ]
     },
     "metadata": {
      "needs_background": "light"
     },
     "output_type": "display_data"
    }
   ],
   "source": [
    "sns.heatmap(data=df_spots_neighbors)"
   ]
  },
  {
   "cell_type": "markdown",
   "metadata": {},
   "source": [
    "# Load Model"
   ]
  },
  {
   "cell_type": "code",
   "execution_count": null,
   "metadata": {},
   "outputs": [
    {
     "ename": "",
     "evalue": "",
     "output_type": "error",
     "traceback": [
      "\u001b[1;31mRunning cells with 'Python 3.8.10 64-bit' requires ipykernel package.\n",
      "\u001b[1;31mRun the following command to install 'ipykernel' into the Python environment. \n",
      "\u001b[1;31mCommand: '/usr/bin/python3 -m pip install ipykernel -U --user --force-reinstall'"
     ]
    }
   ],
   "source": [
    "params = {\n",
    "    'learning_rate': 0.001,\n",
    "    'optimizer': \"SGD\",\n",
    "    'latent_dim': 10,\n",
    "    'batch_size': batch_size\n",
    "}"
   ]
  },
  {
   "cell_type": "code",
   "execution_count": null,
   "metadata": {},
   "outputs": [],
   "source": [
    "model = get_model(model_name=model_name, params=params, dl_train=dl_train)"
   ]
  },
  {
   "cell_type": "markdown",
   "metadata": {},
   "source": [
    "# Train Model "
   ]
  },
  {
   "cell_type": "code",
   "execution_count": null,
   "metadata": {},
   "outputs": [],
   "source": [
    "max_epochs = 5\n",
    "early_stopping = 4"
   ]
  },
  {
   "cell_type": "markdown",
   "metadata": {},
   "source": [
    "## Load Optimizer "
   ]
  },
  {
   "cell_type": "code",
   "execution_count": null,
   "metadata": {},
   "outputs": [],
   "source": [
    "optimizer = getattr(optim, params['optimizer'])(model.parameters(), lr=params['learning_rate'])\n",
    "criterion = NON_ZERO_RMSELoss()"
   ]
  },
  {
   "cell_type": "markdown",
   "metadata": {},
   "source": [
    "## Train"
   ]
  },
  {
   "cell_type": "code",
   "execution_count": null,
   "metadata": {},
   "outputs": [],
   "source": [
    "model, valid_loss = trainer.trainer(\n",
    "    model=model, \n",
    "    optimizer=optimizer, \n",
    "    criterion=criterion,\n",
    "    max_epochs=max_epochs, \n",
    "    early_stopping=early_stopping, \n",
    "    dl_train=dl_train, \n",
    "    dl_test=dl_valid, \n",
    "    device=device, \n",
    "    dataset_name=dataset_name, \n",
    "    model_name=model_name\n",
    ")"
   ]
  },
  {
   "cell_type": "code",
   "execution_count": null,
   "metadata": {},
   "outputs": [],
   "source": [
    "train_res = 4.55\n",
    "valid_res = 4.58\n",
    "print(f'Train final results (after log transform) = {train_res}')\n",
    "print(f'Train final results = {np.exp(train_res)}')\n",
    "print(f'Valid final results (after log transform) = {valid_res}')\n",
    "print(f'Valid final results = {np.exp(valid_res)}')"
   ]
  },
  {
   "cell_type": "markdown",
   "metadata": {},
   "source": [
    "## Test "
   ]
  },
  {
   "cell_type": "code",
   "execution_count": null,
   "metadata": {},
   "outputs": [],
   "source": [
    "test_loss = tester_ae(\n",
    "    model=model,\n",
    "    dl_test=dl_test,\n",
    "    device=device\n",
    ")\n",
    "print(f'Test loss (after log transform) = {test_loss}')\n",
    "print(f'Test loss = {np.exp(test_loss)}')"
   ]
  },
  {
   "cell_type": "markdown",
   "metadata": {},
   "source": [
    "## Reconstruction of the train matrix"
   ]
  },
  {
   "cell_type": "markdown",
   "metadata": {},
   "source": [
    "## Clustering The Train Dataset"
   ]
  },
  {
   "cell_type": "code",
   "execution_count": null,
   "metadata": {},
   "outputs": [],
   "source": [
    "st.pp.normalize_total(new_obj_train)\n",
    "st.pp.log1p(new_obj_train)"
   ]
  },
  {
   "cell_type": "code",
   "execution_count": null,
   "metadata": {},
   "outputs": [],
   "source": [
    "# run PCA for gene expression data\n",
    "st.em.run_pca(new_obj_train, n_comps=50)\n",
    "# K-means clustering\n",
    "st.tl.clustering.kmeans(new_obj_train, n_clusters=7, use_data=\"X_pca\", key_added=\"X_pca_kmeans\")"
   ]
  },
  {
   "cell_type": "code",
   "execution_count": null,
   "metadata": {},
   "outputs": [],
   "source": [
    "colors_map_dict = {\n",
    "    '#1f77b4': 1, # Blue\n",
    "    '#f87f13': 0, # Orange\n",
    "    '#359c62': 3, # Green\n",
    "    '#d32929': 4, # Red\n",
    "    '#69308e': 5, # Purple\n",
    "    '#8c564c': 6, # Brown\n",
    "    '#f33ca9': 2  # Pink\n",
    "}\n",
    "clusters_colors = [c[0] for c in sorted(colors_map_dict.items(), key=lambda i: i[1])]"
   ]
  },
  {
   "cell_type": "code",
   "execution_count": null,
   "metadata": {
    "scrolled": true
   },
   "outputs": [],
   "source": [
    "new_obj_train.uns['X_pca_kmeans_colors'] = clusters_colors"
   ]
  },
  {
   "cell_type": "code",
   "execution_count": null,
   "metadata": {
    "scrolled": true
   },
   "outputs": [],
   "source": [
    "f = plt.figure()\n",
    "st.pl.cluster_plot(new_obj_train, use_label=\"X_pca_kmeans\")\n",
    "plt.title('Train')\n",
    "plt.show()"
   ]
  },
  {
   "cell_type": "markdown",
   "metadata": {},
   "source": [
    "## Reconstruction of the whole matrix"
   ]
  },
  {
   "cell_type": "markdown",
   "metadata": {},
   "source": [
    "## Clustering Full Reconstructed"
   ]
  },
  {
   "cell_type": "code",
   "execution_count": null,
   "metadata": {},
   "outputs": [],
   "source": [
    "new_obj_clusters = deepcopy(new_obj)"
   ]
  },
  {
   "cell_type": "code",
   "execution_count": null,
   "metadata": {},
   "outputs": [],
   "source": [
    "st.pp.normalize_total(new_obj_clusters)\n",
    "st.pp.log1p(new_obj_clusters)"
   ]
  },
  {
   "cell_type": "code",
   "execution_count": null,
   "metadata": {},
   "outputs": [],
   "source": [
    "# run PCA for gene expression data\n",
    "st.em.run_pca(new_obj_clusters, n_comps=50)\n",
    "# K-means clustering\n",
    "st.tl.clustering.kmeans(new_obj_clusters, n_clusters=7, use_data=\"X_pca\", key_added=\"X_pca_kmeans\")"
   ]
  },
  {
   "cell_type": "code",
   "execution_count": null,
   "metadata": {},
   "outputs": [],
   "source": [
    "colors_map_dict = {\n",
    "    '#1f77b4': 1, # Blue\n",
    "    '#f87f13': 0, # Orange\n",
    "    '#359c62': 3, # Green\n",
    "    '#d32929': 4, # Red\n",
    "    '#69308e': 5, # Purple\n",
    "    '#8c564c': 6, # Brown\n",
    "    '#f33ca9': 2  # Pink\n",
    "}\n",
    "clusters_colors = [c[0] for c in sorted(colors_map_dict.items(), key=lambda i: i[1])]"
   ]
  },
  {
   "cell_type": "code",
   "execution_count": null,
   "metadata": {
    "scrolled": true
   },
   "outputs": [],
   "source": [
    "new_obj_train.uns['X_pca_kmeans_colors'] = clusters_colors"
   ]
  },
  {
   "cell_type": "code",
   "execution_count": null,
   "metadata": {},
   "outputs": [],
   "source": [
    "f = plt.figure()\n",
    "st.pl.cluster_plot(new_obj_clusters, use_label=\"X_pca_kmeans\")\n",
    "plt.title('Reconstructed')"
   ]
  }
 ],
 "metadata": {
  "accelerator": "GPU",
  "colab": {
   "collapsed_sections": [],
   "machine_shape": "hm",
   "name": "main_MF.ipynb",
   "provenance": []
  },
  "kernelspec": {
   "display_name": "Python 3.9.12 64-bit",
   "language": "python",
   "name": "python3"
  },
  "language_info": {
   "codemirror_mode": {
    "name": "ipython",
    "version": 3
   },
   "file_extension": ".py",
   "mimetype": "text/x-python",
   "name": "python",
   "nbconvert_exporter": "python",
   "pygments_lexer": "ipython3",
   "version": "3.9.12"
  },
  "vscode": {
   "interpreter": {
    "hash": "aee8b7b246df8f9039afb4144a1f6fd8d2ca17a180786b69acc140d282b71a49"
   }
  }
 },
 "nbformat": 4,
 "nbformat_minor": 1
}
