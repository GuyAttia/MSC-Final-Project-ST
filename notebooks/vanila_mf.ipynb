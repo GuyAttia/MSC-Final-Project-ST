{
 "cells": [
  {
   "cell_type": "markdown",
   "id": "8082f6b9",
   "metadata": {},
   "source": [
    "# Imports"
   ]
  },
  {
   "cell_type": "code",
   "execution_count": null,
   "id": "24bc9f17",
   "metadata": {},
   "outputs": [],
   "source": [
    "import stlearn as st\n",
    "import scanpy as sc\n",
    "import numpy as np\n",
    "import pandas as pd\n",
    "import matplotlib.pyplot as plt\n",
    "import torch\n",
    "from sklearn.decomposition import NMF\n",
    "from sklearn.model_selection import train_test_split\n",
    "from sklearn.metrics import mean_squared_error"
   ]
  },
  {
   "cell_type": "code",
   "execution_count": null,
   "id": "5a2e78fc",
   "metadata": {},
   "outputs": [],
   "source": [
    "%load_ext autoreload\n",
    "%autoreload 2\n",
    "\n",
    "from data import *\n",
    "import torch.optim as optim\n",
    "from models import get_model\n",
    "from trainer import trainer"
   ]
  },
  {
   "cell_type": "code",
   "execution_count": null,
   "id": "38c5bdd5",
   "metadata": {},
   "outputs": [],
   "source": [
    "plt.rcParams.update({'font.size': 12})\n",
    "device = torch.device('cuda' if torch.cuda.is_available() else 'cpu')\n",
    "print('Using device:', device)"
   ]
  },
  {
   "cell_type": "code",
   "execution_count": null,
   "id": "e6385675",
   "metadata": {},
   "outputs": [],
   "source": [
    "dataset_name = 'V1_Human_Lymph_Node'\n",
    "max_epochs = 2\n",
    "model_name = 'NMF'\n",
    "best_params = {\n",
    "    'learning_rate': 0.001,\n",
    "    'optimizer': \"RMSprop\",\n",
    "    'latent_dim': 20,\n",
    "    'batch_size': 512\n",
    "}\n",
    "early_stopping = 0"
   ]
  },
  {
   "cell_type": "markdown",
   "id": "a862c5cb",
   "metadata": {},
   "source": [
    "# Load Data"
   ]
  },
  {
   "cell_type": "code",
   "execution_count": null,
   "id": "4b3634fd",
   "metadata": {},
   "outputs": [],
   "source": [
    "dl_train, dl_valid, dl_test, dl_full_train = get_data(dataset_name=dataset_name, batch_size=128, device='cpu')"
   ]
  },
  {
   "cell_type": "code",
   "execution_count": null,
   "id": "b4b264d8",
   "metadata": {},
   "outputs": [],
   "source": [
    "model = get_model(model_name, best_params, dl_train)  # Build model\n",
    "model"
   ]
  },
  {
   "cell_type": "code",
   "execution_count": null,
   "id": "ac8c3cf6",
   "metadata": {},
   "outputs": [],
   "source": [
    "optimizer = getattr(optim, best_params['optimizer'])(model.parameters(), lr=best_params['learning_rate'])  # Instantiate optimizer\n",
    "optimizer"
   ]
  },
  {
   "cell_type": "code",
   "execution_count": null,
   "id": "7b53cb60",
   "metadata": {},
   "outputs": [],
   "source": [
    "test_loss = trainer(\n",
    "    model=model, \n",
    "    optimizer=optimizer, \n",
    "    max_epochs=max_epochs, \n",
    "    early_stopping=early_stopping,\n",
    "    dl_train=dl_train, \n",
    "    dl_test=dl_test, \n",
    "    device=device, \n",
    "    dataset_name=dataset_name, \n",
    "    model_name=model_name\n",
    ")"
   ]
  },
  {
   "cell_type": "markdown",
   "id": "a21225db",
   "metadata": {},
   "source": [
    "# EDA "
   ]
  },
  {
   "cell_type": "markdown",
   "id": "c224085f",
   "metadata": {},
   "source": [
    "# Imputation "
   ]
  },
  {
   "cell_type": "code",
   "execution_count": null,
   "id": "d7e324f9",
   "metadata": {},
   "outputs": [],
   "source": [
    "R = data.X\n",
    "R.shape"
   ]
  },
  {
   "cell_type": "markdown",
   "id": "b54cc574",
   "metadata": {},
   "source": [
    "## SKlearn NMF "
   ]
  },
  {
   "cell_type": "code",
   "execution_count": null,
   "id": "e41b467e",
   "metadata": {},
   "outputs": [],
   "source": [
    "model = NMF(n_components=2, init='random', random_state=0)\n",
    "model.fit(R)"
   ]
  },
  {
   "cell_type": "code",
   "execution_count": null,
   "id": "754ed8fc",
   "metadata": {},
   "outputs": [],
   "source": [
    "U = model.transform(R)\n",
    "V = model.components_\n",
    "print(f'U shape: {U.shape}\\nV shape: {V.shape}')"
   ]
  },
  {
   "cell_type": "code",
   "execution_count": null,
   "id": "aefd2714",
   "metadata": {},
   "outputs": [],
   "source": [
    "R_trans = model.inverse_transform(U)\n",
    "R_trans.shape"
   ]
  },
  {
   "cell_type": "code",
   "execution_count": null,
   "id": "0a0adfd2",
   "metadata": {},
   "outputs": [],
   "source": [
    "rmse = loss_functions.RMSE(y_true=R.toarray(), y_pred=R_trans)\n",
    "print(f'RMSE = {rmse}')"
   ]
  },
  {
   "cell_type": "markdown",
   "id": "8659ed6b",
   "metadata": {},
   "source": [
    "- Visualize (specific gene)\n",
    "- Add dropout\n",
    "- Add GMF\n",
    "- Results analysis"
   ]
  },
  {
   "cell_type": "markdown",
   "id": "892f7e9e",
   "metadata": {},
   "source": [
    "## STLearn SME Imputation "
   ]
  },
  {
   "cell_type": "code",
   "execution_count": null,
   "id": "24079e7e",
   "metadata": {},
   "outputs": [],
   "source": [
    "data_SME = data.copy()\n",
    "count_zeros(data_=data_SME)"
   ]
  },
  {
   "cell_type": "code",
   "execution_count": null,
   "id": "5c275d7a",
   "metadata": {},
   "outputs": [],
   "source": [
    "from pathlib import Path\n",
    "TILE_PATH = Path(\"/tmp/tiles\")\n",
    "TILE_PATH.mkdir(parents=True, exist_ok=True)\n",
    "\n",
    "st.pp.tiling(data_SME, TILE_PATH)\n",
    "\n",
    "# this step uses deep learning model to extract high-level features from tile images\n",
    "# may need few minutes to be completed\n",
    "st.pp.extract_feature(data_SME)"
   ]
  },
  {
   "cell_type": "code",
   "execution_count": null,
   "id": "d713ffdd",
   "metadata": {},
   "outputs": [],
   "source": [
    "# apply stSME to normalise log transformed data\n",
    "data_SME_copy = st.spatial.SME.SME_impute0(data_SME, copy=True)\n",
    "# count_zeros(data_=data_SME)"
   ]
  }
 ],
 "metadata": {
  "kernelspec": {
   "display_name": "Python 3 (ipykernel)",
   "language": "python",
   "name": "python3"
  },
  "language_info": {
   "codemirror_mode": {
    "name": "ipython",
    "version": 3
   },
   "file_extension": ".py",
   "mimetype": "text/x-python",
   "name": "python",
   "nbconvert_exporter": "python",
   "pygments_lexer": "ipython3",
   "version": "3.8.13"
  }
 },
 "nbformat": 4,
 "nbformat_minor": 5
}
