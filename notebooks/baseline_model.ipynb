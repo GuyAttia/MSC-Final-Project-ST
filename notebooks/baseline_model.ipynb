{
 "cells": [
  {
   "cell_type": "markdown",
   "metadata": {
    "id": "rrsJ--rOj_yJ"
   },
   "source": [
    "# Imports"
   ]
  },
  {
   "cell_type": "code",
   "execution_count": null,
   "metadata": {
    "colab": {
     "base_uri": "https://localhost:8080/"
    },
    "executionInfo": {
     "elapsed": 521,
     "status": "ok",
     "timestamp": 1645041280051,
     "user": {
      "displayName": "sofi budman",
      "photoUrl": "https://lh3.googleusercontent.com/a-/AOh14GjgwGJyBpmRHwEa349uQk-436Picyu2Y4sr1rMFSY0=s64",
      "userId": "09764764631934161053"
     },
     "user_tz": -120
    },
    "id": "CanD8ixgj_yK",
    "outputId": "b47fa8b5-afd2-47ed-dbc2-d39f2efef62e"
   },
   "outputs": [],
   "source": [
    "from os import path, listdir\n",
    "from copy import deepcopy\n",
    "import stlearn as st\n",
    "import numpy as np\n",
    "import pandas as pd\n",
    "import seaborn as sns\n",
    "import torch\n",
    "import matplotlib.pyplot as plt\n",
    "import cv2\n",
    "from sklearn.model_selection import train_test_split\n",
    "from sklearn.preprocessing import OrdinalEncoder\n",
    "from torch import tensor\n",
    "from torch.utils.data import DataLoader, Dataset\n",
    "import torch.optim as optim\n",
    "\n",
    "%load_ext autoreload\n",
    "%autoreload 2\n",
    "\n",
    "from scanpy_stlearn_loaders import StlearnLoader\n",
    "import trainer as trainer\n",
    "from data import get_data\n",
    "from models import get_model\n",
    "from tester import tester"
   ]
  },
  {
   "cell_type": "code",
   "execution_count": null,
   "metadata": {
    "colab": {
     "base_uri": "https://localhost:8080/"
    },
    "executionInfo": {
     "elapsed": 618,
     "status": "ok",
     "timestamp": 1644504258886,
     "user": {
      "displayName": "sofi budman",
      "photoUrl": "https://lh3.googleusercontent.com/a-/AOh14GjgwGJyBpmRHwEa349uQk-436Picyu2Y4sr1rMFSY0=s64",
      "userId": "09764764631934161053"
     },
     "user_tz": -120
    },
    "id": "ueuPQkjoj_yL",
    "outputId": "80a13698-73f2-47f2-f861-57bdab6aa4a7"
   },
   "outputs": [],
   "source": [
    "plt.rcParams.update({'font.size': 12})\n",
    "device = torch.device('cuda' if torch.cuda.is_available() else 'cpu')\n",
    "print('Using device:', device)"
   ]
  },
  {
   "cell_type": "markdown",
   "metadata": {},
   "source": [
    "# Load Data "
   ]
  },
  {
   "cell_type": "code",
   "execution_count": null,
   "metadata": {},
   "outputs": [],
   "source": [
    "dataset_name = 'Visium_Mouse_Olfactory_Bulb'"
   ]
  },
  {
   "cell_type": "markdown",
   "metadata": {},
   "source": [
    "## Genes-Spots Expression Values "
   ]
  },
  {
   "cell_type": "code",
   "execution_count": null,
   "metadata": {},
   "outputs": [],
   "source": [
    "obj = StlearnLoader().load_local_visum(path=path.join('/', 'data', dataset_name),\n",
    "                                      count_file='filtered_feature_bc_matrix.h5')\n",
    "x = obj.X.toarray()\n",
    "n_spots, n_genes = x.shape\n",
    "print(f'# spots: {n_spots} | # genes: {n_genes}')\n",
    "obj"
   ]
  },
  {
   "cell_type": "markdown",
   "metadata": {},
   "source": [
    "# Filter Genes\n",
    "- min_cells = Keep genes with at least X spots with non zero expression (x[spot, gene] > 0)\n",
    "- min_counts = Keep genes with at least X expressions (sum of expression over all spots) (sum(x[:, gene]) > X)"
   ]
  },
  {
   "cell_type": "code",
   "execution_count": null,
   "metadata": {},
   "outputs": [],
   "source": [
    "# Keep genes with at least 15% non zero spots\n",
    "min_cells = int(n_spots * 0.15)\n",
    "print(f'Keep genes with at least {min_cells} non zero spots')\n",
    "st.pp.filter_genes(obj, min_cells=min_cells)\n",
    "x = obj.X.toarray()\n",
    "n_spots, n_genes = x.shape\n",
    "print(f'# spots: {n_spots} | # genes: {n_genes}')"
   ]
  },
  {
   "cell_type": "code",
   "execution_count": null,
   "metadata": {},
   "outputs": [],
   "source": [
    "min_counts = 10\n",
    "print(f'Keep genes with total expression of at least {min_counts} over all spots')\n",
    "st.pp.filter_genes(obj, min_counts=min_counts)\n",
    "x = obj.X.toarray()\n",
    "n_spots, n_genes = x.shape\n",
    "print(f'# spots: {n_spots} | # genes: {n_genes}')"
   ]
  },
  {
   "cell_type": "markdown",
   "metadata": {},
   "source": [
    "# Generate Expression DF"
   ]
  },
  {
   "cell_type": "markdown",
   "metadata": {},
   "source": [
    "## Transfer Matrix to DF "
   ]
  },
  {
   "cell_type": "code",
   "execution_count": null,
   "metadata": {},
   "outputs": [],
   "source": [
    "spots_values = obj.obs.index.values\n",
    "genes_values = obj.var.index.values\n",
    "df_expressions_matrix = pd.DataFrame(x, columns=genes_values, index=spots_values)\n",
    "df_expressions = df_expressions_matrix.stack().reset_index()\n",
    "df_expressions.columns = ['spot', 'gene', 'expression']\n",
    "print(f'shape: {df_expressions.shape}')\n",
    "display(df_expressions['expression'].describe())\n",
    "df_expressions.head()"
   ]
  },
  {
   "cell_type": "code",
   "execution_count": null,
   "metadata": {},
   "outputs": [],
   "source": [
    "plt.figure(figsize=(15, 5))\n",
    "df_expressions.loc[df_expressions['expression'] < 10, 'expression'].plot.hist(bins=10)\n",
    "plt.title('Gene-Spot expression histogram')\n",
    "plt.show()"
   ]
  },
  {
   "cell_type": "markdown",
   "metadata": {},
   "source": [
    "## Encode Genes and Spots "
   ]
  },
  {
   "cell_type": "code",
   "execution_count": null,
   "metadata": {},
   "outputs": [],
   "source": [
    "# Ordinal encoding the genes and spots for supported type\n",
    "oe_genes = OrdinalEncoder()\n",
    "df_expressions[['gene']] = oe_genes.fit_transform(df_expressions[['gene']].values)\n",
    "oe_spots = OrdinalEncoder()\n",
    "df_expressions[['spot']] = oe_spots.fit_transform(df_expressions[['spot']].values)\n",
    "\n",
    "df_expressions[['spot', 'gene']] = df_expressions[['spot', 'gene']].astype(int)\n",
    "df_expressions.head()"
   ]
  },
  {
   "cell_type": "markdown",
   "metadata": {},
   "source": [
    "# Train Test Split "
   ]
  },
  {
   "cell_type": "code",
   "execution_count": null,
   "metadata": {},
   "outputs": [],
   "source": [
    "def plot_datasets_distribution(df_train, df_valid, df_test):\n",
    "    print(f'Split to train, valid, and test:\\nTrain shape:{df_train.shape}\\nValid shape:{df_valid.shape}\\nTest shape:{df_test.shape}')\n",
    "    f, axs = plt.subplots(1, 3, figsize=(19, 5), sharey=True, sharex=True)\n",
    "    df_train.loc[df_train['expression'] < 10, 'expression'].value_counts(normalize=True).sort_index().plot.bar(ax=axs[0])\n",
    "    df_valid.loc[df_valid['expression'] < 10, 'expression'].value_counts(normalize=True).sort_index().plot.bar(ax=axs[1])\n",
    "    df_test.loc[df_test['expression'] < 10, 'expression'].value_counts(normalize=True).sort_index().plot.bar(ax=axs[2])\n",
    "    axs[0].set_title(f'Train Expression Dist | Avg Expression: {df_train[\"expression\"].mean():.2f}')\n",
    "    axs[1].set_title(f'Valid Expression Dist | Avg Expression: {df_valid[\"expression\"].mean():.2f}')\n",
    "    axs[2].set_title(f'Test Expression Dist | Avg Expression: {df_test[\"expression\"].mean():.2f}')\n",
    "    plt.show()"
   ]
  },
  {
   "cell_type": "markdown",
   "metadata": {},
   "source": [
    "## Normal Random"
   ]
  },
  {
   "cell_type": "code",
   "execution_count": null,
   "metadata": {},
   "outputs": [],
   "source": [
    "df_train, df_test = train_test_split(df_expressions, test_size=0.10)\n",
    "df_train, df_valid = train_test_split(df_train, test_size=0.10)"
   ]
  },
  {
   "cell_type": "code",
   "execution_count": null,
   "metadata": {
    "scrolled": false
   },
   "outputs": [],
   "source": [
    "plot_datasets_distribution(df_train, df_valid, df_test)\n",
    "print('We can see that the train, valid and test datasets share the same expression distribution')"
   ]
  },
  {
   "cell_type": "markdown",
   "metadata": {},
   "source": [
    "## Random on Top Expressed Genes\n",
    "Keep only the top N expressed genes (those with the highest expression ratio) and split randomly"
   ]
  },
  {
   "cell_type": "code",
   "execution_count": null,
   "metadata": {},
   "outputs": [],
   "source": [
    "N = 100\n",
    "genes_expressed = np.sum(x, axis=0) / (np.count_nonzero(x, axis=0) + 1)\n",
    "top_genes_indices = genes_expressed.argsort()[-N:][::-1]\n",
    "top_genes_names = obj.var.index[top_genes_indices]\n",
    "top_genes_codes = oe_genes.transform(X=pd.DataFrame(np.array(top_genes_names)).values)[:, 0]"
   ]
  },
  {
   "cell_type": "code",
   "execution_count": null,
   "metadata": {},
   "outputs": [],
   "source": [
    "mask = df_expressions['gene'].isin(top_genes_codes)\n",
    "df_expressions_top_genes = df_expressions.loc[mask]\n",
    "\n",
    "df_train_top_genes, df_test_top_genes = train_test_split(df_expressions_top_genes, test_size=0.10)\n",
    "df_train_top_genes, df_valid_top_genes = train_test_split(df_train_top_genes, test_size=0.10)"
   ]
  },
  {
   "cell_type": "code",
   "execution_count": null,
   "metadata": {
    "scrolled": false
   },
   "outputs": [],
   "source": [
    "plot_datasets_distribution(df_train_top_genes, df_valid_top_genes, df_test_top_genes)"
   ]
  },
  {
   "cell_type": "markdown",
   "metadata": {},
   "source": [
    "# Create Pytorch Data Loaders"
   ]
  },
  {
   "cell_type": "code",
   "execution_count": null,
   "metadata": {},
   "outputs": [],
   "source": [
    "batch_size = 128"
   ]
  },
  {
   "cell_type": "markdown",
   "metadata": {},
   "source": [
    "## Generate DataSets "
   ]
  },
  {
   "cell_type": "code",
   "execution_count": null,
   "metadata": {},
   "outputs": [],
   "source": [
    "class ExpressionDataset(Dataset):\n",
    "    \"\"\"\n",
    "    Generate expression dataset to use in the our models, where each sample should be a tuple of (gene, spot, expression)\n",
    "    \"\"\"\n",
    "\n",
    "    def __init__(self, df, device):\n",
    "        self.num_samples = len(df)\n",
    "        self.genes = tensor(df['gene'].values).to(device)\n",
    "        self.spots = tensor(df['spot'].values).to(device)\n",
    "        self.labels = tensor(df['expression'].values)\n",
    "        self.num_genes = df['gene'].max()\n",
    "        self.num_spots = df['spot'].max()\n",
    "\n",
    "    def __getitem__(self, index):\n",
    "        gene = self.genes[index]\n",
    "        spot = self.spots[index]\n",
    "        label = self.labels[index].item()\n",
    "        return gene, spot, label\n",
    "\n",
    "    def __len__(self):\n",
    "        return self.num_samples\n",
    "\n",
    "    def get_all_data(self):\n",
    "        return self.genes, self.spots, self.labels"
   ]
  },
  {
   "cell_type": "code",
   "execution_count": null,
   "metadata": {},
   "outputs": [],
   "source": [
    "ds_train = ExpressionDataset(df=df_train, device=device)\n",
    "ds_valid = ExpressionDataset(df=df_valid, device=device)\n",
    "ds_test = ExpressionDataset(df=df_test, device=device)"
   ]
  },
  {
   "cell_type": "code",
   "execution_count": null,
   "metadata": {},
   "outputs": [],
   "source": [
    "ds_train_top_genes = ExpressionDataset(df=df_train_top_genes, device=device)\n",
    "ds_valid_top_genes = ExpressionDataset(df=df_valid_top_genes, device=device)\n",
    "ds_test_top_genes = ExpressionDataset(df=df_test_top_genes, device=device)"
   ]
  },
  {
   "cell_type": "markdown",
   "metadata": {},
   "source": [
    "## DataSets to DataLoaders "
   ]
  },
  {
   "cell_type": "code",
   "execution_count": null,
   "metadata": {},
   "outputs": [],
   "source": [
    "dl_train = DataLoader(dataset=ds_train, batch_size=batch_size, shuffle=True)\n",
    "dl_valid = DataLoader(dataset=ds_valid, batch_size=batch_size, shuffle=True)\n",
    "dl_test = DataLoader(dataset=ds_test, batch_size=batch_size, shuffle=True)"
   ]
  },
  {
   "cell_type": "code",
   "execution_count": null,
   "metadata": {},
   "outputs": [],
   "source": [
    "dl_train_top_genes = DataLoader(dataset=ds_train_top_genes, batch_size=batch_size, shuffle=True)\n",
    "dl_valid_top_genes = DataLoader(dataset=ds_valid_top_genes, batch_size=batch_size, shuffle=True)\n",
    "dl_test_top_genes = DataLoader(dataset=ds_test_top_genes, batch_size=batch_size, shuffle=True)"
   ]
  },
  {
   "cell_type": "markdown",
   "metadata": {},
   "source": [
    "# Load Model"
   ]
  },
  {
   "cell_type": "code",
   "execution_count": null,
   "metadata": {},
   "outputs": [],
   "source": [
    "dl_train_exp = dl_train_top_genes\n",
    "dl_valid_exp = dl_valid_top_genes\n",
    "dl_test_exp = dl_test_top_genes"
   ]
  },
  {
   "cell_type": "code",
   "execution_count": null,
   "metadata": {},
   "outputs": [],
   "source": [
    "model_name='NMF'\n",
    "params = {\n",
    "    'learning_rate': 0.001,\n",
    "    'optimizer': \"SGD\",\n",
    "    'latent_dim': 10,\n",
    "    'batch_size': batch_size\n",
    "}"
   ]
  },
  {
   "cell_type": "code",
   "execution_count": null,
   "metadata": {},
   "outputs": [],
   "source": [
    "model = get_model(model_name=model_name, params=params, dl_train=dl_train_exp)"
   ]
  },
  {
   "cell_type": "markdown",
   "metadata": {},
   "source": [
    "# Train Model "
   ]
  },
  {
   "cell_type": "code",
   "execution_count": null,
   "metadata": {},
   "outputs": [],
   "source": [
    "max_epochs = 5\n",
    "early_stopping = 4"
   ]
  },
  {
   "cell_type": "markdown",
   "metadata": {},
   "source": [
    "## Load Optimizer "
   ]
  },
  {
   "cell_type": "code",
   "execution_count": null,
   "metadata": {},
   "outputs": [],
   "source": [
    "optimizer = getattr(optim, params['optimizer'])(model.parameters(), lr=params['learning_rate'])"
   ]
  },
  {
   "cell_type": "markdown",
   "metadata": {},
   "source": [
    "## Train"
   ]
  },
  {
   "cell_type": "code",
   "execution_count": null,
   "metadata": {},
   "outputs": [],
   "source": [
    "model, valid_loss = trainer.trainer(\n",
    "    model=model, \n",
    "    optimizer=optimizer, \n",
    "    max_epochs=max_epochs, \n",
    "    early_stopping=early_stopping, \n",
    "    dl_train=dl_train_exp, \n",
    "    dl_test=dl_valid_exp, \n",
    "    device=device, \n",
    "    dataset_name=dataset_name, \n",
    "    model_name=model_name\n",
    ")"
   ]
  },
  {
   "cell_type": "markdown",
   "metadata": {},
   "source": [
    "## Test "
   ]
  },
  {
   "cell_type": "code",
   "execution_count": null,
   "metadata": {},
   "outputs": [],
   "source": [
    "test_loss = tester(\n",
    "    model=model,\n",
    "    dl_test=dl_test_exp,\n",
    "    device=device\n",
    ")\n",
    "print(f'Test loss = {test_loss}')"
   ]
  },
  {
   "cell_type": "markdown",
   "metadata": {},
   "source": [
    "## Reconstruction of the whole matrix"
   ]
  },
  {
   "cell_type": "code",
   "execution_count": null,
   "metadata": {},
   "outputs": [],
   "source": [
    "model = model.to(device)\n",
    "model.eval()\n",
    "\n",
    "all_gens = []\n",
    "all_spots = []\n",
    "expressions_pred = []\n",
    "expressions_true = []\n",
    "\n",
    "with torch.no_grad():\n",
    "    for set_dl in [dl_train_exp, dl_valid_exp, dl_test_exp]:\n",
    "        for batch in set_dl:\n",
    "            gens, spots, y = batch\n",
    "            gens.to(device)\n",
    "            spots.to(device)\n",
    "            y_pred = model(gens, spots)\n",
    "            y_pred = np.clip(a=y_pred, a_min=0, a_max=None)\n",
    "            \n",
    "            all_gens.extend(gens.tolist())\n",
    "            all_spots.extend(spots.tolist())\n",
    "            expressions_pred.extend(y_pred.tolist())\n",
    "            expressions_true.extend(y.tolist())"
   ]
  },
  {
   "cell_type": "code",
   "execution_count": null,
   "metadata": {},
   "outputs": [],
   "source": [
    "df_expressions_preds = pd.DataFrame({'gene': all_gens, 'spot': all_spots, 'expression': expressions_pred})\n",
    "df_expressions_preds[['gene']] = oe_genes.inverse_transform(df_expressions_preds[['gene']].values)\n",
    "df_expressions_preds[['spot']] = oe_spots.inverse_transform(df_expressions_preds[['spot']].values)"
   ]
  },
  {
   "cell_type": "code",
   "execution_count": null,
   "metadata": {},
   "outputs": [],
   "source": [
    "df_expressions_true = df_expressions_preds.copy()\n",
    "df_expressions_true['expression'] = expressions_true"
   ]
  },
  {
   "cell_type": "code",
   "execution_count": null,
   "metadata": {},
   "outputs": [],
   "source": [
    "df_expressions_preds_matrix = df_expressions_preds.pivot(index='spot', columns='gene', values='expression')\n",
    "df_expressions_true_matrix = df_expressions_true.pivot(index='spot', columns='gene', values='expression')"
   ]
  },
  {
   "cell_type": "code",
   "execution_count": null,
   "metadata": {},
   "outputs": [],
   "source": [
    "f, (ax1, ax2) = plt.subplots(1, 2, figsize=(19, 6))\n",
    "df_expressions_true.expression.hist(ax=ax1)\n",
    "df_expressions_preds.expression.hist(ax=ax2)\n",
    "ax1.set_title('True Genes Expression Histogram')\n",
    "ax2.set_title('Prediction Genes Expression Histogram')\n",
    "plt.show()"
   ]
  },
  {
   "cell_type": "markdown",
   "metadata": {},
   "source": [
    "<b>The model is regressed to the mean, therefore we are not predicting high expressions - need to normalize</b>"
   ]
  },
  {
   "cell_type": "code",
   "execution_count": null,
   "metadata": {},
   "outputs": [],
   "source": [
    "new_obj = deepcopy(obj)\n",
    "tmp_genes_locations = [obj.var.index.get_loc(key=gene_key) for gene_key in df_expressions_true_matrix.columns]"
   ]
  },
  {
   "cell_type": "code",
   "execution_count": null,
   "metadata": {},
   "outputs": [],
   "source": [
    "# Check that the matrix is in the same order and I can replace the values\n",
    "print(df_expressions_true_matrix.shape[0]*df_expressions_true_matrix.shape[1])\n",
    "np.equal(new_obj.X.toarray()[:, tmp_genes_locations], df_expressions_true_matrix).sum().sum()"
   ]
  },
  {
   "cell_type": "code",
   "execution_count": null,
   "metadata": {},
   "outputs": [],
   "source": [
    "# Replace the values\n",
    "new_obj.X[:, tmp_genes_locations] = df_expressions_preds_matrix.values"
   ]
  },
  {
   "cell_type": "code",
   "execution_count": null,
   "metadata": {},
   "outputs": [],
   "source": [
    "# Check that the matrix is in the same order and the replacement went well\n",
    "print(df_expressions_preds_matrix.shape[0]*df_expressions_preds_matrix.shape[1])\n",
    "np.equal(new_obj.X.toarray()[:, tmp_genes_locations], df_expressions_preds_matrix).sum().sum()"
   ]
  },
  {
   "cell_type": "code",
   "execution_count": null,
   "metadata": {
    "scrolled": false
   },
   "outputs": [],
   "source": [
    "for gene_symbol in top_genes_names[:5]:\n",
    "    f, (ax1, ax2) = plt.subplots(1, 2, figsize=(17, 8))\n",
    "    st.pl.gene_plot(obj, gene_symbols=gene_symbol, size=20, ax=ax1)\n",
    "    ax1.set_title('True Expression')\n",
    "    st.pl.gene_plot(new_obj, gene_symbols=gene_symbol, size=20, ax=ax2)\n",
    "    ax2.set_title('Reconstructed Expression')\n",
    "    print(f'Gene: {gene_symbol}')\n",
    "    plt.show()"
   ]
  },
  {
   "cell_type": "markdown",
   "metadata": {},
   "source": [
    "## Clustering Before & After "
   ]
  },
  {
   "cell_type": "code",
   "execution_count": null,
   "metadata": {},
   "outputs": [],
   "source": [
    "obj_clusters = deepcopy(obj)\n",
    "new_obj_clusters = deepcopy(new_obj)"
   ]
  },
  {
   "cell_type": "code",
   "execution_count": null,
   "metadata": {},
   "outputs": [],
   "source": [
    "st.pp.normalize_total(obj_clusters)\n",
    "st.pp.log1p(obj_clusters)\n",
    "\n",
    "st.pp.normalize_total(new_obj_clusters)\n",
    "st.pp.log1p(new_obj_clusters)"
   ]
  },
  {
   "cell_type": "code",
   "execution_count": null,
   "metadata": {},
   "outputs": [],
   "source": [
    "# run PCA for gene expression data\n",
    "st.em.run_pca(obj_clusters, n_comps=50)\n",
    "# K-means clustering\n",
    "st.tl.clustering.kmeans(obj_clusters, n_clusters=7, use_data=\"X_pca\", key_added=\"X_pca_kmeans\")"
   ]
  },
  {
   "cell_type": "code",
   "execution_count": null,
   "metadata": {},
   "outputs": [],
   "source": [
    "# run PCA for gene expression data\n",
    "st.em.run_pca(new_obj_clusters, n_comps=50)\n",
    "# K-means clustering\n",
    "st.tl.clustering.kmeans(new_obj_clusters, n_clusters=7, use_data=\"X_pca\", key_added=\"X_pca_kmeans\")"
   ]
  },
  {
   "cell_type": "code",
   "execution_count": null,
   "metadata": {},
   "outputs": [],
   "source": [
    "f, (ax1, ax2) = plt.subplots(1, 2, figsize=(15, 6))\n",
    "st.pl.cluster_plot(obj_clusters, use_label=\"X_pca_kmeans\", ax=ax1)\n",
    "st.pl.cluster_plot(new_obj_clusters, use_label=\"X_pca_kmeans\", ax=ax2)"
   ]
  },
  {
   "cell_type": "code",
   "execution_count": null,
   "metadata": {},
   "outputs": [],
   "source": []
  }
 ],
 "metadata": {
  "accelerator": "GPU",
  "colab": {
   "collapsed_sections": [],
   "machine_shape": "hm",
   "name": "main_MF.ipynb",
   "provenance": []
  },
  "interpreter": {
   "hash": "8fa3c1106efc00f2c52b2a02cc212ceecaeaa00ccc3be33bf7c9b17ece6d5fb5"
  },
  "kernelspec": {
   "display_name": "Python 3 (ipykernel)",
   "language": "python",
   "name": "python3"
  },
  "language_info": {
   "codemirror_mode": {
    "name": "ipython",
    "version": 3
   },
   "file_extension": ".py",
   "mimetype": "text/x-python",
   "name": "python",
   "nbconvert_exporter": "python",
   "pygments_lexer": "ipython3",
   "version": "3.8.13"
  }
 },
 "nbformat": 4,
 "nbformat_minor": 1
}
